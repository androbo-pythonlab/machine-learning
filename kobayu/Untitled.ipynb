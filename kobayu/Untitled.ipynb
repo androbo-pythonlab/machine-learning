{
 "cells": [
  {
   "cell_type": "code",
   "execution_count": 3,
   "metadata": {},
   "outputs": [
    {
     "data": {
      "text/html": [
       "<div>\n",
       "<style scoped>\n",
       "    .dataframe tbody tr th:only-of-type {\n",
       "        vertical-align: middle;\n",
       "    }\n",
       "\n",
       "    .dataframe tbody tr th {\n",
       "        vertical-align: top;\n",
       "    }\n",
       "\n",
       "    .dataframe thead th {\n",
       "        text-align: right;\n",
       "    }\n",
       "</style>\n",
       "<table border=\"1\" class=\"dataframe\">\n",
       "  <thead>\n",
       "    <tr style=\"text-align: right;\">\n",
       "      <th></th>\n",
       "      <th>CreationDate</th>\n",
       "      <th>UserIds</th>\n",
       "      <th>Operations</th>\n",
       "      <th>AuditData</th>\n",
       "    </tr>\n",
       "  </thead>\n",
       "  <tbody>\n",
       "    <tr>\n",
       "      <td>0</td>\n",
       "      <td>2020-08-03T05:57:22.0000000Z</td>\n",
       "      <td>arq-member@androbotics.onmicrosoft.com</td>\n",
       "      <td>UserLoggedIn</td>\n",
       "      <td>{\"CreationTime\":\"2020-08-03T05:57:22\",\"Id\":\"35...</td>\n",
       "    </tr>\n",
       "    <tr>\n",
       "      <td>1</td>\n",
       "      <td>2020-08-03T06:04:17.0000000Z</td>\n",
       "      <td>arn-member@androbotics.onmicrosoft.com</td>\n",
       "      <td>UserLoggedIn</td>\n",
       "      <td>{\"CreationTime\":\"2020-08-03T06:04:17\",\"Id\":\"4e...</td>\n",
       "    </tr>\n",
       "    <tr>\n",
       "      <td>2</td>\n",
       "      <td>2020-08-03T06:04:17.0000000Z</td>\n",
       "      <td>arn-member@androbotics.onmicrosoft.com</td>\n",
       "      <td>UserLoggedIn</td>\n",
       "      <td>{\"CreationTime\":\"2020-08-03T06:04:17\",\"Id\":\"9e...</td>\n",
       "    </tr>\n",
       "    <tr>\n",
       "      <td>3</td>\n",
       "      <td>2020-08-03T06:19:47.0000000Z</td>\n",
       "      <td>s.ida@ml.androbo.co.jp</td>\n",
       "      <td>FileSyncUploadedFull</td>\n",
       "      <td>{\"CreationTime\":\"2020-08-03T06:19:47\",\"Id\":\"f0...</td>\n",
       "    </tr>\n",
       "    <tr>\n",
       "      <td>4</td>\n",
       "      <td>2020-08-03T06:19:58.0000000Z</td>\n",
       "      <td>s.ida@ml.androbo.co.jp</td>\n",
       "      <td>FileRenamed</td>\n",
       "      <td>{\"CreationTime\":\"2020-08-03T06:19:58\",\"Id\":\"7c...</td>\n",
       "    </tr>\n",
       "    <tr>\n",
       "      <td>...</td>\n",
       "      <td>...</td>\n",
       "      <td>...</td>\n",
       "      <td>...</td>\n",
       "      <td>...</td>\n",
       "    </tr>\n",
       "    <tr>\n",
       "      <td>30821</td>\n",
       "      <td>2020-07-28T22:49:03.0000000Z</td>\n",
       "      <td>aro-member@androbotics.onmicrosoft.com</td>\n",
       "      <td>CompanyLinkUsed</td>\n",
       "      <td>{\"CreationTime\":\"2020-07-28T22:49:03\",\"Id\":\"d7...</td>\n",
       "    </tr>\n",
       "    <tr>\n",
       "      <td>30822</td>\n",
       "      <td>2020-07-28T22:49:03.0000000Z</td>\n",
       "      <td>aro-member@androbotics.onmicrosoft.com</td>\n",
       "      <td>FileAccessed</td>\n",
       "      <td>{\"CreationTime\":\"2020-07-28T22:49:03\",\"Id\":\"62...</td>\n",
       "    </tr>\n",
       "    <tr>\n",
       "      <td>30823</td>\n",
       "      <td>2020-07-28T15:20:15.0000000Z</td>\n",
       "      <td>app@sharepoint</td>\n",
       "      <td>FileAccessed</td>\n",
       "      <td>{\"CreationTime\":\"2020-07-28T15:20:15\",\"Id\":\"6c...</td>\n",
       "    </tr>\n",
       "    <tr>\n",
       "      <td>30824</td>\n",
       "      <td>2020-07-28T15:26:36.0000000Z</td>\n",
       "      <td>app@sharepoint</td>\n",
       "      <td>FileAccessed</td>\n",
       "      <td>{\"CreationTime\":\"2020-07-28T15:26:36\",\"Id\":\"f7...</td>\n",
       "    </tr>\n",
       "    <tr>\n",
       "      <td>30825</td>\n",
       "      <td>2020-07-28T15:28:21.0000000Z</td>\n",
       "      <td>app@sharepoint</td>\n",
       "      <td>FileAccessed</td>\n",
       "      <td>{\"CreationTime\":\"2020-07-28T15:28:21\",\"Id\":\"67...</td>\n",
       "    </tr>\n",
       "  </tbody>\n",
       "</table>\n",
       "<p>30826 rows × 4 columns</p>\n",
       "</div>"
      ],
      "text/plain": [
       "                       CreationDate                                 UserIds  \\\n",
       "0      2020-08-03T05:57:22.0000000Z  arq-member@androbotics.onmicrosoft.com   \n",
       "1      2020-08-03T06:04:17.0000000Z  arn-member@androbotics.onmicrosoft.com   \n",
       "2      2020-08-03T06:04:17.0000000Z  arn-member@androbotics.onmicrosoft.com   \n",
       "3      2020-08-03T06:19:47.0000000Z                  s.ida@ml.androbo.co.jp   \n",
       "4      2020-08-03T06:19:58.0000000Z                  s.ida@ml.androbo.co.jp   \n",
       "...                             ...                                     ...   \n",
       "30821  2020-07-28T22:49:03.0000000Z  aro-member@androbotics.onmicrosoft.com   \n",
       "30822  2020-07-28T22:49:03.0000000Z  aro-member@androbotics.onmicrosoft.com   \n",
       "30823  2020-07-28T15:20:15.0000000Z                          app@sharepoint   \n",
       "30824  2020-07-28T15:26:36.0000000Z                          app@sharepoint   \n",
       "30825  2020-07-28T15:28:21.0000000Z                          app@sharepoint   \n",
       "\n",
       "                 Operations                                          AuditData  \n",
       "0              UserLoggedIn  {\"CreationTime\":\"2020-08-03T05:57:22\",\"Id\":\"35...  \n",
       "1              UserLoggedIn  {\"CreationTime\":\"2020-08-03T06:04:17\",\"Id\":\"4e...  \n",
       "2              UserLoggedIn  {\"CreationTime\":\"2020-08-03T06:04:17\",\"Id\":\"9e...  \n",
       "3      FileSyncUploadedFull  {\"CreationTime\":\"2020-08-03T06:19:47\",\"Id\":\"f0...  \n",
       "4               FileRenamed  {\"CreationTime\":\"2020-08-03T06:19:58\",\"Id\":\"7c...  \n",
       "...                     ...                                                ...  \n",
       "30821       CompanyLinkUsed  {\"CreationTime\":\"2020-07-28T22:49:03\",\"Id\":\"d7...  \n",
       "30822          FileAccessed  {\"CreationTime\":\"2020-07-28T22:49:03\",\"Id\":\"62...  \n",
       "30823          FileAccessed  {\"CreationTime\":\"2020-07-28T15:20:15\",\"Id\":\"6c...  \n",
       "30824          FileAccessed  {\"CreationTime\":\"2020-07-28T15:26:36\",\"Id\":\"f7...  \n",
       "30825          FileAccessed  {\"CreationTime\":\"2020-07-28T15:28:21\",\"Id\":\"67...  \n",
       "\n",
       "[30826 rows x 4 columns]"
      ]
     },
     "execution_count": 3,
     "metadata": {},
     "output_type": "execute_result"
    }
   ],
   "source": [
    "import pandas as pd\n",
    "df = pd.read_csv(\"AuditLog_2020-07-28_2020-08-03.csv\")\n",
    "df"
   ]
  },
  {
   "cell_type": "code",
   "execution_count": 7,
   "metadata": {},
   "outputs": [
    {
     "data": {
      "text/plain": [
       "0        arq-member@androbotics.onmicrosoft.com\n",
       "1        arn-member@androbotics.onmicrosoft.com\n",
       "2        arn-member@androbotics.onmicrosoft.com\n",
       "3                        s.ida@ml.androbo.co.jp\n",
       "4                        s.ida@ml.androbo.co.jp\n",
       "                          ...                  \n",
       "30821    aro-member@androbotics.onmicrosoft.com\n",
       "30822    aro-member@androbotics.onmicrosoft.com\n",
       "30823                            app@sharepoint\n",
       "30824                            app@sharepoint\n",
       "30825                            app@sharepoint\n",
       "Name: UserIds, Length: 30826, dtype: object"
      ]
     },
     "execution_count": 7,
     "metadata": {},
     "output_type": "execute_result"
    }
   ],
   "source": [
    "df[\"UserIds\"]"
   ]
  },
  {
   "cell_type": "code",
   "execution_count": 11,
   "metadata": {},
   "outputs": [
    {
     "data": {
      "text/plain": [
       "<pandas.core.groupby.generic.DataFrameGroupBy object at 0x0000013A4A352288>"
      ]
     },
     "execution_count": 11,
     "metadata": {},
     "output_type": "execute_result"
    }
   ],
   "source": [
    "df.groupby(\"Operations\")"
   ]
  },
  {
   "cell_type": "code",
   "execution_count": 12,
   "metadata": {},
   "outputs": [
    {
     "data": {
      "text/plain": [
       "array(['UserLoggedIn', 'FileSyncUploadedFull', 'FileRenamed',\n",
       "       'FileAccessed', 'FileModifiedExtended', 'FileModified',\n",
       "       'FilePreviewed', 'FileMoved', 'FileAccessedExtended',\n",
       "       'Update device.', 'FolderCreated', 'PageViewed', 'FolderDeleted',\n",
       "       'AnonymousLinkUsed', 'ListViewed', 'FileDeleted',\n",
       "       'CompanyLinkUsed', 'SharingSet', 'AddedToGroup',\n",
       "       'CompanyLinkCreated', 'Get-CsTeamsClientConfiguration',\n",
       "       'GroupAdded', 'SharingInheritanceBroken', 'FileUploaded',\n",
       "       'FileDownloaded', 'PagePrefetched', 'PageViewedExtended',\n",
       "       'FileSyncDownloadedFull', 'Update', 'SoftDelete',\n",
       "       'TeamsSessionStarted', 'MoveToDeletedItems', 'Add user.',\n",
       "       'UserLoginFailed', 'ViewResponses', 'ListForms', 'ViewForm',\n",
       "       'HardDelete', 'ModifyFolderPermissions', 'FolderMoved', 'Set-User',\n",
       "       'Add member to group.', 'FolderRenamed', 'MemberAdded',\n",
       "       'ListCreated', 'Update user.', 'Remove member from group.',\n",
       "       'UpdateInboxRules', 'FolderCopied', 'Change user password.',\n",
       "       'Update StsRefreshTokenValidFrom Timestamp.', 'MemberRemoved',\n",
       "       'ListUpdated', 'PermissionLevelAdded', 'Set-Mailbox',\n",
       "       'SiteCollectionCreated', 'SiteCollectionAdminAdded',\n",
       "       'SiteCollectionAdminRemoved', 'FileCopied', 'Update group.',\n",
       "       'Add registered users to device.', 'Add device.',\n",
       "       'Add registered owner to device.', 'Add group.',\n",
       "       'Add owner to group.', 'Create', 'SearchAlert',\n",
       "       'SearchDomainTrafficStatus', 'SearchCustomerInsight',\n",
       "       'SearchDomainMxRecord', 'SearchDataInsightsSubscription',\n",
       "       'FolderModified', 'ListColumnCreated', 'AnonymousLinkCreated',\n",
       "       'CreateResponse', 'SearchQueryPerformed', 'ViewRuntimeForm',\n",
       "       'EditForm', 'AccessRequestRejected', 'TeamCreated',\n",
       "       'ListColumnUpdated', 'UpdateFormSetting', 'MailItemsAccessed',\n",
       "       'Change user license.', 'Set-UnifiedGroup',\n",
       "       'Set-TenantObjectVersion', 'Install-AdminAuditLogConfig',\n",
       "       'Set-AdminAuditLogConfig', 'Set-TransportConfig',\n",
       "       'Add-MailboxPermission', 'Set-ExchangeAssistanceConfig',\n",
       "       'New-ExchangeAssistanceConfig',\n",
       "       'Set-RecipientEnforcementProvisioningPolicy',\n",
       "       'Set-OwaMailboxPolicy', 'AccessRequestCreated',\n",
       "       'Install-ResourceConfig', 'Install-DataClassificationConfig',\n",
       "       'Enable-AddressListPaging', 'Install-DefaultSharingPolicy',\n",
       "       'AddFormCoauthor', 'AllowShareFormForCopy', 'ExportForm',\n",
       "       'MemberRoleChanged', 'Remove-App', 'New-Mailbox', 'CreateForm',\n",
       "       'Delete user.', 'Disable account.', 'Remove-Mailbox',\n",
       "       'AddFolderPermissions', 'Add service principal.',\n",
       "       'ClientViewSignaled', 'LaunchPowerApp', 'RemovedFromGroup',\n",
       "       'SearchAlertAggregate', 'SearchMtpStatus', 'WACTokenShared',\n",
       "       'ConnectorAdded'], dtype=object)"
      ]
     },
     "execution_count": 12,
     "metadata": {},
     "output_type": "execute_result"
    }
   ],
   "source": [
    "df[\"Operations\"].unique()"
   ]
  },
  {
   "cell_type": "code",
   "execution_count": 1,
   "metadata": {},
   "outputs": [],
   "source": [
    "import pandas as pd\n",
    "import numpy as np"
   ]
  },
  {
   "cell_type": "markdown",
   "metadata": {},
   "source": [
    "# スカラー"
   ]
  },
  {
   "cell_type": "code",
   "execution_count": null,
   "metadata": {},
   "outputs": [],
   "source": [
    "1　[1]"
   ]
  },
  {
   "cell_type": "markdown",
   "metadata": {},
   "source": [
    "# ベクトル"
   ]
  },
  {
   "cell_type": "code",
   "execution_count": 4,
   "metadata": {},
   "outputs": [],
   "source": [
    "a = [1,5] \n",
    "b = [1,5,6,8,9]\n",
    "\n",
    "c = [\n",
    "    1,\n",
    "    2,\n",
    "    3,\n",
    "    4,\n",
    "    5\n",
    "]\n"
   ]
  },
  {
   "cell_type": "markdown",
   "metadata": {},
   "source": [
    "# 行列"
   ]
  },
  {
   "cell_type": "code",
   "execution_count": 25,
   "metadata": {},
   "outputs": [],
   "source": [
    "d = [\n",
    "    [1,2,3,4,5],\n",
    "    [5,7,9,8,0],\n",
    "    [4,9,7,8,9]\n",
    "    ]\n",
    "\n",
    "e = [\n",
    "    [1,5,4,5,9],\n",
    "    [2,7,9,7,6],\n",
    "    [3,9,7,4,7]\n",
    "    ]"
   ]
  },
  {
   "cell_type": "code",
   "execution_count": 26,
   "metadata": {},
   "outputs": [
    {
     "ename": "TypeError",
     "evalue": "can't multiply sequence by non-int of type 'list'",
     "output_type": "error",
     "traceback": [
      "\u001b[1;31m---------------------------------------------------------------------------\u001b[0m",
      "\u001b[1;31mTypeError\u001b[0m                                 Traceback (most recent call last)",
      "\u001b[1;32m<ipython-input-26-7ae455585254>\u001b[0m in \u001b[0;36m<module>\u001b[1;34m\u001b[0m\n\u001b[1;32m----> 1\u001b[1;33m \u001b[0md\u001b[0m\u001b[1;33m*\u001b[0m\u001b[0me\u001b[0m\u001b[1;33m\u001b[0m\u001b[1;33m\u001b[0m\u001b[0m\n\u001b[0m",
      "\u001b[1;31mTypeError\u001b[0m: can't multiply sequence by non-int of type 'list'"
     ]
    }
   ],
   "source": [
    "d*e"
   ]
  },
  {
   "cell_type": "code",
   "execution_count": 23,
   "metadata": {},
   "outputs": [
    {
     "data": {
      "text/plain": [
       "[[1, 2, 3, 4, 5],\n",
       " [5, 7, 9, 8, 0],\n",
       " [4, 9, 7, 8, 9],\n",
       " [1, 2, 3, 4, 5],\n",
       " [5, 7, 9, 8, 0],\n",
       " [4, 9, 7, 8, 9]]"
      ]
     },
     "execution_count": 23,
     "metadata": {},
     "output_type": "execute_result"
    }
   ],
   "source": [
    "d*2"
   ]
  },
  {
   "cell_type": "code",
   "execution_count": 18,
   "metadata": {},
   "outputs": [
    {
     "data": {
      "text/plain": [
       "[[1, 2, 3, 4, 5],\n",
       " [5, 7, 9, 8, 0],\n",
       " [4, 9, 7, 8, 9],\n",
       " [1, 5, 4, 5, 9],\n",
       " [2, 7, 9, 7, 6],\n",
       " [3, 9, 7, 4, 7]]"
      ]
     },
     "execution_count": 18,
     "metadata": {},
     "output_type": "execute_result"
    }
   ],
   "source": [
    "d+e"
   ]
  },
  {
   "cell_type": "code",
   "execution_count": 7,
   "metadata": {},
   "outputs": [
    {
     "data": {
      "text/plain": [
       "array([[1, 2, 3, 4, 5],\n",
       "       [5, 7, 9, 8, 0],\n",
       "       [4, 9, 7, 8, 9]])"
      ]
     },
     "execution_count": 7,
     "metadata": {},
     "output_type": "execute_result"
    }
   ],
   "source": [
    "a = np.array([\n",
    "    [1,2,3,4,5],\n",
    "    [5,7,9,8,0],\n",
    "    [4,9,7,8,9]\n",
    "    ])\n",
    "a"
   ]
  },
  {
   "cell_type": "code",
   "execution_count": 8,
   "metadata": {},
   "outputs": [
    {
     "data": {
      "text/plain": [
       "(3, 5)"
      ]
     },
     "execution_count": 8,
     "metadata": {},
     "output_type": "execute_result"
    }
   ],
   "source": [
    "np.shape(a)"
   ]
  },
  {
   "cell_type": "code",
   "execution_count": 9,
   "metadata": {},
   "outputs": [
    {
     "data": {
      "text/plain": [
       "array([[1, 5, 4],\n",
       "       [2, 7, 9],\n",
       "       [3, 9, 7],\n",
       "       [4, 8, 8],\n",
       "       [5, 0, 9]])"
      ]
     },
     "execution_count": 9,
     "metadata": {},
     "output_type": "execute_result"
    }
   ],
   "source": [
    "np.transpose(a)"
   ]
  },
  {
   "cell_type": "code",
   "execution_count": null,
   "metadata": {},
   "outputs": [],
   "source": [
    "x = 100"
   ]
  },
  {
   "cell_type": "code",
   "execution_count": 29,
   "metadata": {},
   "outputs": [
    {
     "data": {
      "text/plain": [
       "numpy.ndarray"
      ]
     },
     "execution_count": 29,
     "metadata": {},
     "output_type": "execute_result"
    }
   ],
   "source": [
    "a = np.array([\n",
    "    [1,2,3,4,5],\n",
    "    [5,7,8,8,0],\n",
    "    [4,9,7,8,9]\n",
    "    ])"
   ]
  },
  {
   "cell_type": "code",
   "execution_count": 30,
   "metadata": {},
   "outputs": [
    {
     "data": {
      "text/plain": [
       "array([[1, 5, 4],\n",
       "       [2, 7, 9],\n",
       "       [3, 9, 7],\n",
       "       [4, 8, 8],\n",
       "       [5, 0, 9]])"
      ]
     },
     "execution_count": 30,
     "metadata": {},
     "output_type": "execute_result"
    }
   ],
   "source": [
    "b = np.array([[1, 5, 4],\n",
    "       [2, 7, 9],\n",
    "       [3, 9, 7],\n",
    "       [4, 8, 8],\n",
    "       [5, 0, 9]])\n",
    "b"
   ]
  },
  {
   "cell_type": "code",
   "execution_count": 31,
   "metadata": {},
   "outputs": [
    {
     "ename": "ValueError",
     "evalue": "operands could not be broadcast together with shapes (3,5) (5,3) ",
     "output_type": "error",
     "traceback": [
      "\u001b[1;31m---------------------------------------------------------------------------\u001b[0m",
      "\u001b[1;31mValueError\u001b[0m                                Traceback (most recent call last)",
      "\u001b[1;32m<ipython-input-31-8ce765dcfa30>\u001b[0m in \u001b[0;36m<module>\u001b[1;34m\u001b[0m\n\u001b[1;32m----> 1\u001b[1;33m \u001b[0ma\u001b[0m\u001b[1;33m*\u001b[0m\u001b[0mb\u001b[0m\u001b[1;33m\u001b[0m\u001b[1;33m\u001b[0m\u001b[0m\n\u001b[0m",
      "\u001b[1;31mValueError\u001b[0m: operands could not be broadcast together with shapes (3,5) (5,3) "
     ]
    }
   ],
   "source": [
    "a*b"
   ]
  },
  {
   "cell_type": "code",
   "execution_count": 32,
   "metadata": {},
   "outputs": [
    {
     "data": {
      "text/plain": [
       "array([[ 55,  78, 120],\n",
       "       [ 75, 210, 203],\n",
       "       [120, 210, 291]])"
      ]
     },
     "execution_count": 32,
     "metadata": {},
     "output_type": "execute_result"
    }
   ],
   "source": [
    "np.dot(a,b)"
   ]
  },
  {
   "cell_type": "code",
   "execution_count": 11,
   "metadata": {},
   "outputs": [
    {
     "data": {
      "text/plain": [
       "array([1, 5, 6, 8, 9])"
      ]
     },
     "execution_count": 11,
     "metadata": {},
     "output_type": "execute_result"
    }
   ],
   "source": [
    "np.transpose(b)"
   ]
  },
  {
   "cell_type": "code",
   "execution_count": 20,
   "metadata": {},
   "outputs": [
    {
     "ename": "ValueError",
     "evalue": "operands could not be broadcast together with shapes (3,5) (5,3) ",
     "output_type": "error",
     "traceback": [
      "\u001b[1;31m---------------------------------------------------------------------------\u001b[0m",
      "\u001b[1;31mValueError\u001b[0m                                Traceback (most recent call last)",
      "\u001b[1;32m<ipython-input-20-bd58363a63fc>\u001b[0m in \u001b[0;36m<module>\u001b[1;34m\u001b[0m\n\u001b[1;32m----> 1\u001b[1;33m \u001b[0ma\u001b[0m \u001b[1;33m+\u001b[0m \u001b[0mb\u001b[0m\u001b[1;33m\u001b[0m\u001b[1;33m\u001b[0m\u001b[0m\n\u001b[0m",
      "\u001b[1;31mValueError\u001b[0m: operands could not be broadcast together with shapes (3,5) (5,3) "
     ]
    }
   ],
   "source": [
    "a + b"
   ]
  },
  {
   "cell_type": "code",
   "execution_count": 21,
   "metadata": {},
   "outputs": [
    {
     "data": {
      "text/plain": [
       "array([[ 2,  7,  7,  9, 14],\n",
       "       [ 7, 14, 18, 15,  6],\n",
       "       [ 7, 18, 14, 12, 16]])"
      ]
     },
     "execution_count": 21,
     "metadata": {},
     "output_type": "execute_result"
    }
   ],
   "source": [
    "d = np.array([\n",
    "    [1,2,3,4,5],\n",
    "    [5,7,9,8,0],\n",
    "    [4,9,7,8,9]\n",
    "    ])\n",
    "\n",
    "e = np.array([\n",
    "    [1,5,4,5,9],\n",
    "    [2,7,9,7,6],\n",
    "    [3,9,7,4,7]\n",
    "    ])\n",
    "d+e"
   ]
  },
  {
   "cell_type": "code",
   "execution_count": 24,
   "metadata": {},
   "outputs": [
    {
     "data": {
      "text/plain": [
       "array([[ 2,  4,  6,  8, 10],\n",
       "       [10, 14, 18, 16,  0],\n",
       "       [ 8, 18, 14, 16, 18]])"
      ]
     },
     "execution_count": 24,
     "metadata": {},
     "output_type": "execute_result"
    }
   ],
   "source": [
    "d = np.array([\n",
    "    [1,2,3,4,5],\n",
    "    [5,7,9,8,0],\n",
    "    [4,9,7,8,9]\n",
    "    ])\n",
    "\n",
    "e = np.array([\n",
    "    [1,5,4,5,9],\n",
    "    [2,7,9,7,6],\n",
    "    [3,9,7,4,7]\n",
    "    ])\n",
    "d*2"
   ]
  },
  {
   "cell_type": "code",
   "execution_count": 27,
   "metadata": {},
   "outputs": [
    {
     "data": {
      "text/plain": [
       "array([[ 1, 10, 12, 20, 45],\n",
       "       [10, 49, 81, 56,  0],\n",
       "       [12, 81, 49, 32, 63]])"
      ]
     },
     "execution_count": 27,
     "metadata": {},
     "output_type": "execute_result"
    }
   ],
   "source": [
    "d = np.array([\n",
    "    [1,2,3,4,5],\n",
    "    [5,7,9,8,0],\n",
    "    [4,9,7,8,9]\n",
    "    ])\n",
    "\n",
    "e = np.array([\n",
    "    [1,5,4,5,9],\n",
    "    [2,7,9,7,6],\n",
    "    [3,9,7,4,7]\n",
    "    ])\n",
    "d*e"
   ]
  },
  {
   "cell_type": "code",
   "execution_count": 33,
   "metadata": {},
   "outputs": [
    {
     "ename": "LinAlgError",
     "evalue": "Last 2 dimensions of the array must be square",
     "output_type": "error",
     "traceback": [
      "\u001b[1;31m---------------------------------------------------------------------------\u001b[0m",
      "\u001b[1;31mLinAlgError\u001b[0m                               Traceback (most recent call last)",
      "\u001b[1;32m<ipython-input-33-03ec522e62e6>\u001b[0m in \u001b[0;36m<module>\u001b[1;34m\u001b[0m\n\u001b[0;32m      4\u001b[0m     \u001b[1;33m[\u001b[0m\u001b[1;36m4\u001b[0m\u001b[1;33m,\u001b[0m\u001b[1;36m9\u001b[0m\u001b[1;33m,\u001b[0m\u001b[1;36m7\u001b[0m\u001b[1;33m,\u001b[0m\u001b[1;36m8\u001b[0m\u001b[1;33m,\u001b[0m\u001b[1;36m9\u001b[0m\u001b[1;33m]\u001b[0m\u001b[1;33m\u001b[0m\u001b[1;33m\u001b[0m\u001b[0m\n\u001b[0;32m      5\u001b[0m     ])\n\u001b[1;32m----> 6\u001b[1;33m \u001b[0mnp\u001b[0m\u001b[1;33m.\u001b[0m\u001b[0mlinalg\u001b[0m\u001b[1;33m.\u001b[0m\u001b[0minv\u001b[0m\u001b[1;33m(\u001b[0m\u001b[0md\u001b[0m\u001b[1;33m)\u001b[0m\u001b[1;33m\u001b[0m\u001b[1;33m\u001b[0m\u001b[0m\n\u001b[0m",
      "\u001b[1;32m~\\Anaconda3\\lib\\site-packages\\numpy\\linalg\\linalg.py\u001b[0m in \u001b[0;36minv\u001b[1;34m(a)\u001b[0m\n\u001b[0;32m    544\u001b[0m     \u001b[0ma\u001b[0m\u001b[1;33m,\u001b[0m \u001b[0mwrap\u001b[0m \u001b[1;33m=\u001b[0m \u001b[0m_makearray\u001b[0m\u001b[1;33m(\u001b[0m\u001b[0ma\u001b[0m\u001b[1;33m)\u001b[0m\u001b[1;33m\u001b[0m\u001b[1;33m\u001b[0m\u001b[0m\n\u001b[0;32m    545\u001b[0m     \u001b[0m_assertRankAtLeast2\u001b[0m\u001b[1;33m(\u001b[0m\u001b[0ma\u001b[0m\u001b[1;33m)\u001b[0m\u001b[1;33m\u001b[0m\u001b[1;33m\u001b[0m\u001b[0m\n\u001b[1;32m--> 546\u001b[1;33m     \u001b[0m_assertNdSquareness\u001b[0m\u001b[1;33m(\u001b[0m\u001b[0ma\u001b[0m\u001b[1;33m)\u001b[0m\u001b[1;33m\u001b[0m\u001b[1;33m\u001b[0m\u001b[0m\n\u001b[0m\u001b[0;32m    547\u001b[0m     \u001b[0mt\u001b[0m\u001b[1;33m,\u001b[0m \u001b[0mresult_t\u001b[0m \u001b[1;33m=\u001b[0m \u001b[0m_commonType\u001b[0m\u001b[1;33m(\u001b[0m\u001b[0ma\u001b[0m\u001b[1;33m)\u001b[0m\u001b[1;33m\u001b[0m\u001b[1;33m\u001b[0m\u001b[0m\n\u001b[0;32m    548\u001b[0m \u001b[1;33m\u001b[0m\u001b[0m\n",
      "\u001b[1;32m~\\Anaconda3\\lib\\site-packages\\numpy\\linalg\\linalg.py\u001b[0m in \u001b[0;36m_assertNdSquareness\u001b[1;34m(*arrays)\u001b[0m\n\u001b[0;32m    211\u001b[0m         \u001b[0mm\u001b[0m\u001b[1;33m,\u001b[0m \u001b[0mn\u001b[0m \u001b[1;33m=\u001b[0m \u001b[0ma\u001b[0m\u001b[1;33m.\u001b[0m\u001b[0mshape\u001b[0m\u001b[1;33m[\u001b[0m\u001b[1;33m-\u001b[0m\u001b[1;36m2\u001b[0m\u001b[1;33m:\u001b[0m\u001b[1;33m]\u001b[0m\u001b[1;33m\u001b[0m\u001b[1;33m\u001b[0m\u001b[0m\n\u001b[0;32m    212\u001b[0m         \u001b[1;32mif\u001b[0m \u001b[0mm\u001b[0m \u001b[1;33m!=\u001b[0m \u001b[0mn\u001b[0m\u001b[1;33m:\u001b[0m\u001b[1;33m\u001b[0m\u001b[1;33m\u001b[0m\u001b[0m\n\u001b[1;32m--> 213\u001b[1;33m             \u001b[1;32mraise\u001b[0m \u001b[0mLinAlgError\u001b[0m\u001b[1;33m(\u001b[0m\u001b[1;34m'Last 2 dimensions of the array must be square'\u001b[0m\u001b[1;33m)\u001b[0m\u001b[1;33m\u001b[0m\u001b[1;33m\u001b[0m\u001b[0m\n\u001b[0m\u001b[0;32m    214\u001b[0m \u001b[1;33m\u001b[0m\u001b[0m\n\u001b[0;32m    215\u001b[0m \u001b[1;32mdef\u001b[0m \u001b[0m_assertFinite\u001b[0m\u001b[1;33m(\u001b[0m\u001b[1;33m*\u001b[0m\u001b[0marrays\u001b[0m\u001b[1;33m)\u001b[0m\u001b[1;33m:\u001b[0m\u001b[1;33m\u001b[0m\u001b[1;33m\u001b[0m\u001b[0m\n",
      "\u001b[1;31mLinAlgError\u001b[0m: Last 2 dimensions of the array must be square"
     ]
    }
   ],
   "source": [
    "d = np.array([\n",
    "    [1,2,3,4,5],\n",
    "    [5,7,9,8,0],\n",
    "    [4,9,7,8,9]\n",
    "    ])\n",
    "np.linalg.inv(d)"
   ]
  },
  {
   "cell_type": "code",
   "execution_count": 37,
   "metadata": {},
   "outputs": [
    {
     "data": {
      "text/plain": [
       "array([[ 3, -5],\n",
       "       [-1,  2]])"
      ]
     },
     "execution_count": 37,
     "metadata": {},
     "output_type": "execute_result"
    }
   ],
   "source": [
    "f = np.array([[ 3, -5],\n",
    "              [-1,  2]])\n",
    "f"
   ]
  },
  {
   "cell_type": "code",
   "execution_count": 40,
   "metadata": {},
   "outputs": [
    {
     "data": {
      "text/plain": [
       "array([[2., 5.],\n",
       "       [1., 3.]])"
      ]
     },
     "execution_count": 40,
     "metadata": {},
     "output_type": "execute_result"
    }
   ],
   "source": [
    "f_inv = np.linalg.inv(f)\n",
    "f_inv"
   ]
  },
  {
   "cell_type": "code",
   "execution_count": 41,
   "metadata": {},
   "outputs": [
    {
     "data": {
      "text/plain": [
       "array([[1., 0.],\n",
       "       [0., 1.]])"
      ]
     },
     "execution_count": 41,
     "metadata": {},
     "output_type": "execute_result"
    }
   ],
   "source": [
    "np.dot(f,f_inv)"
   ]
  },
  {
   "cell_type": "markdown",
   "metadata": {},
   "source": [
    "# 単位行列"
   ]
  },
  {
   "cell_type": "code",
   "execution_count": 42,
   "metadata": {},
   "outputs": [
    {
     "data": {
      "text/plain": [
       "array([[1, 0, 0, 0, 0],\n",
       "       [0, 1, 0, 0, 0],\n",
       "       [0, 0, 1, 0, 0],\n",
       "       [0, 0, 0, 1, 0],\n",
       "       [0, 0, 0, 0, 1]])"
      ]
     },
     "execution_count": 42,
     "metadata": {},
     "output_type": "execute_result"
    }
   ],
   "source": [
    "aaa = np.array([\n",
    "    [1,0,0,0,0],\n",
    "    [0,1,0,0,0],\n",
    "    [0,0,1,0,0],\n",
    "    [0,0,0,1,0],\n",
    "    [0,0,0,0,1]\n",
    "])\n",
    "aaa"
   ]
  },
  {
   "cell_type": "code",
   "execution_count": 43,
   "metadata": {},
   "outputs": [
    {
     "data": {
      "text/plain": [
       "array([[1, 2, 3, 4, 5],\n",
       "       [5, 7, 9, 8, 0],\n",
       "       [4, 9, 7, 8, 9]])"
      ]
     },
     "execution_count": 43,
     "metadata": {},
     "output_type": "execute_result"
    }
   ],
   "source": [
    "np.dot(d,aaa)"
   ]
  },
  {
   "cell_type": "code",
   "execution_count": 44,
   "metadata": {},
   "outputs": [
    {
     "data": {
      "text/plain": [
       "array([[1, 2, 3, 4, 5],\n",
       "       [5, 7, 9, 8, 0],\n",
       "       [4, 9, 7, 8, 9]])"
      ]
     },
     "execution_count": 44,
     "metadata": {},
     "output_type": "execute_result"
    }
   ],
   "source": [
    "d"
   ]
  },
  {
   "cell_type": "markdown",
   "metadata": {},
   "source": [
    "# 行列式"
   ]
  },
  {
   "cell_type": "code",
   "execution_count": 45,
   "metadata": {},
   "outputs": [
    {
     "data": {
      "text/plain": [
       "1.0000000000000004"
      ]
     },
     "execution_count": 45,
     "metadata": {},
     "output_type": "execute_result"
    }
   ],
   "source": [
    "np.linalg.det(f)"
   ]
  },
  {
   "cell_type": "markdown",
   "metadata": {},
   "source": [
    "# aaa"
   ]
  },
  {
   "cell_type": "markdown",
   "metadata": {},
   "source": [
    "# Pandasを使ったCSVの読み込み"
   ]
  },
  {
   "cell_type": "markdown",
   "metadata": {},
   "source": [
    "## pandasのインポート"
   ]
  },
  {
   "cell_type": "code",
   "execution_count": 48,
   "metadata": {},
   "outputs": [],
   "source": [
    "import pandas as pd"
   ]
  },
  {
   "cell_type": "code",
   "execution_count": 50,
   "metadata": {},
   "outputs": [
    {
     "data": {
      "text/html": [
       "<div>\n",
       "<style scoped>\n",
       "    .dataframe tbody tr th:only-of-type {\n",
       "        vertical-align: middle;\n",
       "    }\n",
       "\n",
       "    .dataframe tbody tr th {\n",
       "        vertical-align: top;\n",
       "    }\n",
       "\n",
       "    .dataframe thead th {\n",
       "        text-align: right;\n",
       "    }\n",
       "</style>\n",
       "<table border=\"1\" class=\"dataframe\">\n",
       "  <thead>\n",
       "    <tr style=\"text-align: right;\">\n",
       "      <th></th>\n",
       "      <th>CreationDate</th>\n",
       "      <th>UserIds</th>\n",
       "      <th>Operations</th>\n",
       "      <th>AuditData</th>\n",
       "    </tr>\n",
       "  </thead>\n",
       "  <tbody>\n",
       "    <tr>\n",
       "      <td>0</td>\n",
       "      <td>2020-08-03T05:57:22.0000000Z</td>\n",
       "      <td>arq-member@androbotics.onmicrosoft.com</td>\n",
       "      <td>UserLoggedIn</td>\n",
       "      <td>{\"CreationTime\":\"2020-08-03T05:57:22\",\"Id\":\"35...</td>\n",
       "    </tr>\n",
       "    <tr>\n",
       "      <td>1</td>\n",
       "      <td>2020-08-03T06:04:17.0000000Z</td>\n",
       "      <td>arn-member@androbotics.onmicrosoft.com</td>\n",
       "      <td>UserLoggedIn</td>\n",
       "      <td>{\"CreationTime\":\"2020-08-03T06:04:17\",\"Id\":\"4e...</td>\n",
       "    </tr>\n",
       "    <tr>\n",
       "      <td>2</td>\n",
       "      <td>2020-08-03T06:04:17.0000000Z</td>\n",
       "      <td>arn-member@androbotics.onmicrosoft.com</td>\n",
       "      <td>UserLoggedIn</td>\n",
       "      <td>{\"CreationTime\":\"2020-08-03T06:04:17\",\"Id\":\"9e...</td>\n",
       "    </tr>\n",
       "    <tr>\n",
       "      <td>3</td>\n",
       "      <td>2020-08-03T06:19:47.0000000Z</td>\n",
       "      <td>s.ida@ml.androbo.co.jp</td>\n",
       "      <td>FileSyncUploadedFull</td>\n",
       "      <td>{\"CreationTime\":\"2020-08-03T06:19:47\",\"Id\":\"f0...</td>\n",
       "    </tr>\n",
       "    <tr>\n",
       "      <td>4</td>\n",
       "      <td>2020-08-03T06:19:58.0000000Z</td>\n",
       "      <td>s.ida@ml.androbo.co.jp</td>\n",
       "      <td>FileRenamed</td>\n",
       "      <td>{\"CreationTime\":\"2020-08-03T06:19:58\",\"Id\":\"7c...</td>\n",
       "    </tr>\n",
       "    <tr>\n",
       "      <td>...</td>\n",
       "      <td>...</td>\n",
       "      <td>...</td>\n",
       "      <td>...</td>\n",
       "      <td>...</td>\n",
       "    </tr>\n",
       "    <tr>\n",
       "      <td>30821</td>\n",
       "      <td>2020-07-28T22:49:03.0000000Z</td>\n",
       "      <td>aro-member@androbotics.onmicrosoft.com</td>\n",
       "      <td>CompanyLinkUsed</td>\n",
       "      <td>{\"CreationTime\":\"2020-07-28T22:49:03\",\"Id\":\"d7...</td>\n",
       "    </tr>\n",
       "    <tr>\n",
       "      <td>30822</td>\n",
       "      <td>2020-07-28T22:49:03.0000000Z</td>\n",
       "      <td>aro-member@androbotics.onmicrosoft.com</td>\n",
       "      <td>FileAccessed</td>\n",
       "      <td>{\"CreationTime\":\"2020-07-28T22:49:03\",\"Id\":\"62...</td>\n",
       "    </tr>\n",
       "    <tr>\n",
       "      <td>30823</td>\n",
       "      <td>2020-07-28T15:20:15.0000000Z</td>\n",
       "      <td>app@sharepoint</td>\n",
       "      <td>FileAccessed</td>\n",
       "      <td>{\"CreationTime\":\"2020-07-28T15:20:15\",\"Id\":\"6c...</td>\n",
       "    </tr>\n",
       "    <tr>\n",
       "      <td>30824</td>\n",
       "      <td>2020-07-28T15:26:36.0000000Z</td>\n",
       "      <td>app@sharepoint</td>\n",
       "      <td>FileAccessed</td>\n",
       "      <td>{\"CreationTime\":\"2020-07-28T15:26:36\",\"Id\":\"f7...</td>\n",
       "    </tr>\n",
       "    <tr>\n",
       "      <td>30825</td>\n",
       "      <td>2020-07-28T15:28:21.0000000Z</td>\n",
       "      <td>app@sharepoint</td>\n",
       "      <td>FileAccessed</td>\n",
       "      <td>{\"CreationTime\":\"2020-07-28T15:28:21\",\"Id\":\"67...</td>\n",
       "    </tr>\n",
       "  </tbody>\n",
       "</table>\n",
       "<p>30826 rows × 4 columns</p>\n",
       "</div>"
      ],
      "text/plain": [
       "                       CreationDate                                 UserIds  \\\n",
       "0      2020-08-03T05:57:22.0000000Z  arq-member@androbotics.onmicrosoft.com   \n",
       "1      2020-08-03T06:04:17.0000000Z  arn-member@androbotics.onmicrosoft.com   \n",
       "2      2020-08-03T06:04:17.0000000Z  arn-member@androbotics.onmicrosoft.com   \n",
       "3      2020-08-03T06:19:47.0000000Z                  s.ida@ml.androbo.co.jp   \n",
       "4      2020-08-03T06:19:58.0000000Z                  s.ida@ml.androbo.co.jp   \n",
       "...                             ...                                     ...   \n",
       "30821  2020-07-28T22:49:03.0000000Z  aro-member@androbotics.onmicrosoft.com   \n",
       "30822  2020-07-28T22:49:03.0000000Z  aro-member@androbotics.onmicrosoft.com   \n",
       "30823  2020-07-28T15:20:15.0000000Z                          app@sharepoint   \n",
       "30824  2020-07-28T15:26:36.0000000Z                          app@sharepoint   \n",
       "30825  2020-07-28T15:28:21.0000000Z                          app@sharepoint   \n",
       "\n",
       "                 Operations                                          AuditData  \n",
       "0              UserLoggedIn  {\"CreationTime\":\"2020-08-03T05:57:22\",\"Id\":\"35...  \n",
       "1              UserLoggedIn  {\"CreationTime\":\"2020-08-03T06:04:17\",\"Id\":\"4e...  \n",
       "2              UserLoggedIn  {\"CreationTime\":\"2020-08-03T06:04:17\",\"Id\":\"9e...  \n",
       "3      FileSyncUploadedFull  {\"CreationTime\":\"2020-08-03T06:19:47\",\"Id\":\"f0...  \n",
       "4               FileRenamed  {\"CreationTime\":\"2020-08-03T06:19:58\",\"Id\":\"7c...  \n",
       "...                     ...                                                ...  \n",
       "30821       CompanyLinkUsed  {\"CreationTime\":\"2020-07-28T22:49:03\",\"Id\":\"d7...  \n",
       "30822          FileAccessed  {\"CreationTime\":\"2020-07-28T22:49:03\",\"Id\":\"62...  \n",
       "30823          FileAccessed  {\"CreationTime\":\"2020-07-28T15:20:15\",\"Id\":\"6c...  \n",
       "30824          FileAccessed  {\"CreationTime\":\"2020-07-28T15:26:36\",\"Id\":\"f7...  \n",
       "30825          FileAccessed  {\"CreationTime\":\"2020-07-28T15:28:21\",\"Id\":\"67...  \n",
       "\n",
       "[30826 rows x 4 columns]"
      ]
     },
     "execution_count": 50,
     "metadata": {},
     "output_type": "execute_result"
    }
   ],
   "source": [
    "pd.read_csv(\"AuditLog_2020-07-28_2020-08-03.csv\")"
   ]
  },
  {
   "cell_type": "code",
   "execution_count": 54,
   "metadata": {
    "scrolled": true
   },
   "outputs": [
    {
     "data": {
      "text/html": [
       "<div>\n",
       "<style scoped>\n",
       "    .dataframe tbody tr th:only-of-type {\n",
       "        vertical-align: middle;\n",
       "    }\n",
       "\n",
       "    .dataframe tbody tr th {\n",
       "        vertical-align: top;\n",
       "    }\n",
       "\n",
       "    .dataframe thead th {\n",
       "        text-align: right;\n",
       "    }\n",
       "</style>\n",
       "<table border=\"1\" class=\"dataframe\">\n",
       "  <thead>\n",
       "    <tr style=\"text-align: right;\">\n",
       "      <th></th>\n",
       "      <th>CreationDate</th>\n",
       "      <th>UserIds</th>\n",
       "      <th>Operations</th>\n",
       "      <th>AuditData</th>\n",
       "    </tr>\n",
       "  </thead>\n",
       "  <tbody>\n",
       "    <tr>\n",
       "      <td>0</td>\n",
       "      <td>2020-08-03T05:57:22.0000000Z</td>\n",
       "      <td>arq-member@androbotics.onmicrosoft.com</td>\n",
       "      <td>UserLoggedIn</td>\n",
       "      <td>{\"CreationTime\":\"2020-08-03T05:57:22\",\"Id\":\"35...</td>\n",
       "    </tr>\n",
       "    <tr>\n",
       "      <td>1</td>\n",
       "      <td>2020-08-03T06:04:17.0000000Z</td>\n",
       "      <td>arn-member@androbotics.onmicrosoft.com</td>\n",
       "      <td>UserLoggedIn</td>\n",
       "      <td>{\"CreationTime\":\"2020-08-03T06:04:17\",\"Id\":\"4e...</td>\n",
       "    </tr>\n",
       "    <tr>\n",
       "      <td>2</td>\n",
       "      <td>2020-08-03T06:04:17.0000000Z</td>\n",
       "      <td>arn-member@androbotics.onmicrosoft.com</td>\n",
       "      <td>UserLoggedIn</td>\n",
       "      <td>{\"CreationTime\":\"2020-08-03T06:04:17\",\"Id\":\"9e...</td>\n",
       "    </tr>\n",
       "    <tr>\n",
       "      <td>3</td>\n",
       "      <td>2020-08-03T06:19:47.0000000Z</td>\n",
       "      <td>s.ida@ml.androbo.co.jp</td>\n",
       "      <td>FileSyncUploadedFull</td>\n",
       "      <td>{\"CreationTime\":\"2020-08-03T06:19:47\",\"Id\":\"f0...</td>\n",
       "    </tr>\n",
       "    <tr>\n",
       "      <td>4</td>\n",
       "      <td>2020-08-03T06:19:58.0000000Z</td>\n",
       "      <td>s.ida@ml.androbo.co.jp</td>\n",
       "      <td>FileRenamed</td>\n",
       "      <td>{\"CreationTime\":\"2020-08-03T06:19:58\",\"Id\":\"7c...</td>\n",
       "    </tr>\n",
       "    <tr>\n",
       "      <td>...</td>\n",
       "      <td>...</td>\n",
       "      <td>...</td>\n",
       "      <td>...</td>\n",
       "      <td>...</td>\n",
       "    </tr>\n",
       "    <tr>\n",
       "      <td>30821</td>\n",
       "      <td>2020-07-28T22:49:03.0000000Z</td>\n",
       "      <td>aro-member@androbotics.onmicrosoft.com</td>\n",
       "      <td>CompanyLinkUsed</td>\n",
       "      <td>{\"CreationTime\":\"2020-07-28T22:49:03\",\"Id\":\"d7...</td>\n",
       "    </tr>\n",
       "    <tr>\n",
       "      <td>30822</td>\n",
       "      <td>2020-07-28T22:49:03.0000000Z</td>\n",
       "      <td>aro-member@androbotics.onmicrosoft.com</td>\n",
       "      <td>FileAccessed</td>\n",
       "      <td>{\"CreationTime\":\"2020-07-28T22:49:03\",\"Id\":\"62...</td>\n",
       "    </tr>\n",
       "    <tr>\n",
       "      <td>30823</td>\n",
       "      <td>2020-07-28T15:20:15.0000000Z</td>\n",
       "      <td>app@sharepoint</td>\n",
       "      <td>FileAccessed</td>\n",
       "      <td>{\"CreationTime\":\"2020-07-28T15:20:15\",\"Id\":\"6c...</td>\n",
       "    </tr>\n",
       "    <tr>\n",
       "      <td>30824</td>\n",
       "      <td>2020-07-28T15:26:36.0000000Z</td>\n",
       "      <td>app@sharepoint</td>\n",
       "      <td>FileAccessed</td>\n",
       "      <td>{\"CreationTime\":\"2020-07-28T15:26:36\",\"Id\":\"f7...</td>\n",
       "    </tr>\n",
       "    <tr>\n",
       "      <td>30825</td>\n",
       "      <td>2020-07-28T15:28:21.0000000Z</td>\n",
       "      <td>app@sharepoint</td>\n",
       "      <td>FileAccessed</td>\n",
       "      <td>{\"CreationTime\":\"2020-07-28T15:28:21\",\"Id\":\"67...</td>\n",
       "    </tr>\n",
       "  </tbody>\n",
       "</table>\n",
       "<p>30826 rows × 4 columns</p>\n",
       "</div>"
      ],
      "text/plain": [
       "                       CreationDate                                 UserIds  \\\n",
       "0      2020-08-03T05:57:22.0000000Z  arq-member@androbotics.onmicrosoft.com   \n",
       "1      2020-08-03T06:04:17.0000000Z  arn-member@androbotics.onmicrosoft.com   \n",
       "2      2020-08-03T06:04:17.0000000Z  arn-member@androbotics.onmicrosoft.com   \n",
       "3      2020-08-03T06:19:47.0000000Z                  s.ida@ml.androbo.co.jp   \n",
       "4      2020-08-03T06:19:58.0000000Z                  s.ida@ml.androbo.co.jp   \n",
       "...                             ...                                     ...   \n",
       "30821  2020-07-28T22:49:03.0000000Z  aro-member@androbotics.onmicrosoft.com   \n",
       "30822  2020-07-28T22:49:03.0000000Z  aro-member@androbotics.onmicrosoft.com   \n",
       "30823  2020-07-28T15:20:15.0000000Z                          app@sharepoint   \n",
       "30824  2020-07-28T15:26:36.0000000Z                          app@sharepoint   \n",
       "30825  2020-07-28T15:28:21.0000000Z                          app@sharepoint   \n",
       "\n",
       "                 Operations                                          AuditData  \n",
       "0              UserLoggedIn  {\"CreationTime\":\"2020-08-03T05:57:22\",\"Id\":\"35...  \n",
       "1              UserLoggedIn  {\"CreationTime\":\"2020-08-03T06:04:17\",\"Id\":\"4e...  \n",
       "2              UserLoggedIn  {\"CreationTime\":\"2020-08-03T06:04:17\",\"Id\":\"9e...  \n",
       "3      FileSyncUploadedFull  {\"CreationTime\":\"2020-08-03T06:19:47\",\"Id\":\"f0...  \n",
       "4               FileRenamed  {\"CreationTime\":\"2020-08-03T06:19:58\",\"Id\":\"7c...  \n",
       "...                     ...                                                ...  \n",
       "30821       CompanyLinkUsed  {\"CreationTime\":\"2020-07-28T22:49:03\",\"Id\":\"d7...  \n",
       "30822          FileAccessed  {\"CreationTime\":\"2020-07-28T22:49:03\",\"Id\":\"62...  \n",
       "30823          FileAccessed  {\"CreationTime\":\"2020-07-28T15:20:15\",\"Id\":\"6c...  \n",
       "30824          FileAccessed  {\"CreationTime\":\"2020-07-28T15:26:36\",\"Id\":\"f7...  \n",
       "30825          FileAccessed  {\"CreationTime\":\"2020-07-28T15:28:21\",\"Id\":\"67...  \n",
       "\n",
       "[30826 rows x 4 columns]"
      ]
     },
     "execution_count": 54,
     "metadata": {},
     "output_type": "execute_result"
    }
   ],
   "source": [
    "pd.read_csv(r\"C:\\Users\\K_androbo\\Desktop\\AuditLog_2020-07-28_2020-08-03.csv\")"
   ]
  }
 ],
 "metadata": {
  "kernelspec": {
   "display_name": "Python 3",
   "language": "python",
   "name": "python3"
  },
  "language_info": {
   "codemirror_mode": {
    "name": "ipython",
    "version": 3
   },
   "file_extension": ".py",
   "mimetype": "text/x-python",
   "name": "python",
   "nbconvert_exporter": "python",
   "pygments_lexer": "ipython3",
   "version": "3.7.4"
  }
 },
 "nbformat": 4,
 "nbformat_minor": 2
}
