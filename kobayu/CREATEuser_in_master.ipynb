{
    "metadata": {
        "kernelspec": {
            "name": "SQL",
            "display_name": "SQL",
            "language": "sql"
        },
        "language_info": {
            "name": "sql",
            "version": ""
        }
    },
    "nbformat_minor": 2,
    "nbformat": 4,
    "cells": [
        {
            "cell_type": "code",
            "source": [
                "CREATE LOGIN yuuki_kobayashi WITH PASSWORD = 'B6hXYRKz';"
            ],
            "metadata": {
                "azdata_cell_guid": "ae8791d5-8499-4e9c-9137-75ded7d10574"
            },
            "outputs": [],
            "execution_count": null
        },
        {
            "cell_type": "code",
            "source": [
                "CREATE USER yuuki_kobayashi FOR LOGIN yuuki_kobayashi;\r\n",
                "GO"
            ],
            "metadata": {
                "azdata_cell_guid": "03d3baea-9aa6-4257-9f7f-7d94fbcd06c2",
                "tags": [
                    "hide_input"
                ]
            },
            "outputs": [
                {
                    "output_type": "display_data",
                    "data": {
                        "text/html": "Commands completed successfully."
                    },
                    "metadata": {}
                },
                {
                    "output_type": "display_data",
                    "data": {
                        "text/html": "Total execution time: 00:00:00.036"
                    },
                    "metadata": {}
                }
            ],
            "execution_count": 1
        },
        {
            "cell_type": "code",
            "source": [
                "EXEC sp_addrolemember 'db_datareader', yuuki_kobayashi\r\n",
                "GO\r\n",
                "EXEC sp_addrolemember 'db_datawriter', yuuki_kobayashi\r\n",
                "GO\r\n",
                "EXEC sp_addrolemember 'db_ddladmin', yuuki_kobayashi\r\n",
                "GO"
            ],
            "metadata": {
                "azdata_cell_guid": "0ea90867-c6e8-4ae6-bc07-ba67157b39f7"
            },
            "outputs": [
                {
                    "output_type": "error",
                    "evalue": "Msg 15151, Level 16, State 1, Line 1\r\nCannot alter the role 'db_datareader', because it does not exist or you do not have permission.",
                    "ename": "",
                    "traceback": []
                },
                {
                    "output_type": "error",
                    "evalue": "Msg 15151, Level 16, State 1, Line 3\r\nCannot alter the role 'db_datawriter', because it does not exist or you do not have permission.",
                    "ename": "",
                    "traceback": []
                },
                {
                    "output_type": "error",
                    "evalue": "Msg 15151, Level 16, State 1, Line 5\r\nCannot alter the role 'db_ddladmin', because it does not exist or you do not have permission.",
                    "ename": "",
                    "traceback": []
                },
                {
                    "output_type": "display_data",
                    "data": {
                        "text/html": "Total execution time: 00:00:00.072"
                    },
                    "metadata": {}
                }
            ],
            "execution_count": 3
        },
        {
            "cell_type": "code",
            "source": [
                ""
            ],
            "metadata": {
                "azdata_cell_guid": "25bd9d2d-de06-426e-9d83-1598b24f3a68"
            },
            "outputs": [],
            "execution_count": null
        }
    ]
}