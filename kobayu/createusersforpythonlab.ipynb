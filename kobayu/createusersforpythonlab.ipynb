{
    "metadata": {
        "kernelspec": {
            "name": "SQL",
            "display_name": "SQL",
            "language": "sql"
        },
        "language_info": {
            "name": "sql",
            "version": ""
        }
    },
    "nbformat_minor": 2,
    "nbformat": 4,
    "cells": [
        {
            "cell_type": "code",
            "source": [
                "ALTER LOGIN m_hutagawa WITH NAME = m_futagawa"
            ],
            "metadata": {
                "azdata_cell_guid": "0d8a5c3a-0418-470a-afc0-699f98f1ca3d"
            },
            "outputs": [
                {
                    "output_type": "display_data",
                    "data": {
                        "text/html": "Commands completed successfully."
                    },
                    "metadata": {}
                },
                {
                    "output_type": "display_data",
                    "data": {
                        "text/html": "Total execution time: 00:00:00.733"
                    },
                    "metadata": {}
                }
            ],
            "execution_count": 1
        },
        {
            "cell_type": "code",
            "source": [
                "--USE [master]\r\n",
                "CREATE LOGIN k_horita WITH PASSWORD = 'Qz4stn7V';\r\n",
                "GO\r\n",
                "CREATE LOGIN s_ootomo WITH PASSWORD = 'T3aWy7ui';\r\n",
                "GO\r\n",
                "CREATE LOGIN d_nishidate WITH PASSWORD = 'hU9qJBWE';\r\n",
                "GO\r\n",
                "CREATE LOGIN h_kurohabaki WITH PASSWORD = 'Gj72ZpWC';\r\n",
                "GO\r\n",
                "CREATE LOGIN n_mihara WITH PASSWORD = 'bN8EiwHK';\r\n",
                "GO\r\n",
                "CREATE LOGIN m_futagawa WITH PASSWORD = 'N3dEYum5';\r\n",
                "GO\r\n",
                "CREATE LOGIN rui_ito WITH PASSWORD = 'P7fcuJSg';\r\n",
                "GO"
            ],
            "metadata": {
                "azdata_cell_guid": "db281ddb-de27-4242-99f4-db05d2da529a",
                "tags": []
            },
            "outputs": [
                {
                    "output_type": "display_data",
                    "data": {
                        "text/html": "Commands completed successfully."
                    },
                    "metadata": {}
                },
                {
                    "output_type": "display_data",
                    "data": {
                        "text/html": "Commands completed successfully."
                    },
                    "metadata": {}
                },
                {
                    "output_type": "display_data",
                    "data": {
                        "text/html": "Commands completed successfully."
                    },
                    "metadata": {}
                },
                {
                    "output_type": "display_data",
                    "data": {
                        "text/html": "Commands completed successfully."
                    },
                    "metadata": {}
                },
                {
                    "output_type": "display_data",
                    "data": {
                        "text/html": "Commands completed successfully."
                    },
                    "metadata": {}
                },
                {
                    "output_type": "display_data",
                    "data": {
                        "text/html": "Commands completed successfully."
                    },
                    "metadata": {}
                },
                {
                    "output_type": "display_data",
                    "data": {
                        "text/html": "Commands completed successfully."
                    },
                    "metadata": {}
                },
                {
                    "output_type": "display_data",
                    "data": {
                        "text/html": "Total execution time: 00:00:00.131"
                    },
                    "metadata": {}
                }
            ],
            "execution_count": 2
        },
        {
            "cell_type": "code",
            "source": [
                "USE [master]\r\n",
                "select DB_NAME()"
            ],
            "metadata": {
                "azdata_cell_guid": "96578717-88e7-4cb2-b3f4-6637a72e7f49"
            },
            "outputs": [
                {
                    "output_type": "error",
                    "ename": "",
                    "evalue": "Msg 40508, Level 16, State 1, Line 1\r\nUSE statement is not supported to switch between databases. Use a new connection to connect to a different database.",
                    "traceback": []
                },
                {
                    "output_type": "display_data",
                    "data": {
                        "text/html": "Total execution time: 00:00:00.013"
                    },
                    "metadata": {}
                }
            ],
            "execution_count": 25
        },
        {
            "cell_type": "code",
            "source": [
                "USE [PythonLab]\r\n",
                "select DB_NAME()"
            ],
            "metadata": {
                "azdata_cell_guid": "338dd0b6-e545-4fe4-b849-10a1cbbd0fa2"
            },
            "outputs": [
                {
                    "output_type": "display_data",
                    "data": {
                        "text/html": "(1 row affected)"
                    },
                    "metadata": {}
                },
                {
                    "output_type": "display_data",
                    "data": {
                        "text/html": "Total execution time: 00:00:00.013"
                    },
                    "metadata": {}
                },
                {
                    "output_type": "execute_result",
                    "execution_count": 24,
                    "data": {
                        "application/vnd.dataresource+json": {
                            "schema": {
                                "fields": [
                                    {
                                        "name": "(No column name)"
                                    }
                                ]
                            },
                            "data": [
                                {
                                    "0": "PythonLab"
                                }
                            ]
                        },
                        "text/html": "<table><tr><th>(No column name)</th></tr><tr><td>PythonLab</td></tr></table>"
                    },
                    "metadata": {
                        "resultSet": {
                            "id": 0,
                            "batchId": 0,
                            "rowCount": 1,
                            "complete": true,
                            "columnInfo": [
                                {
                                    "isBytes": false,
                                    "isChars": true,
                                    "isSqlVariant": false,
                                    "isUdt": false,
                                    "isXml": false,
                                    "isJson": false,
                                    "sqlDbType": 12,
                                    "isHierarchyId": false,
                                    "isSqlXmlType": false,
                                    "isUnknownType": false,
                                    "isUpdatable": false,
                                    "allowDBNull": true,
                                    "baseCatalogName": null,
                                    "baseColumnName": null,
                                    "baseSchemaName": null,
                                    "baseServerName": null,
                                    "baseTableName": null,
                                    "columnName": "(No column name)",
                                    "columnOrdinal": 0,
                                    "columnSize": 128,
                                    "isAliased": null,
                                    "isAutoIncrement": false,
                                    "isExpression": null,
                                    "isHidden": null,
                                    "isIdentity": false,
                                    "isKey": null,
                                    "isLong": false,
                                    "isReadOnly": true,
                                    "isUnique": false,
                                    "numericPrecision": 255,
                                    "numericScale": 255,
                                    "udtAssemblyQualifiedName": null,
                                    "dataType": "System.String, System.Private.CoreLib, Version=4.0.0.0, Culture=neutral, PublicKeyToken=7cec85d7bea7798e",
                                    "dataTypeName": "nvarchar"
                                }
                            ],
                            "specialAction": {
                                "none": true,
                                "expectYukonXMLShowPlan": false
                            }
                        }
                    }
                }
            ],
            "execution_count": 24
        },
        {
            "cell_type": "code",
            "source": [
                "CREATE USER k_horita FOR LOGIN k_horita;\r\n",
                "CREATE USER s_ootomo FOR LOGIN s_ootomo;\r\n",
                "CREATE USER d_nishidate FOR LOGIN d_nishidate;\r\n",
                "CREATE USER h_kurohabaki FOR LOGIN h_kurohabaki;\r\n",
                "CREATE USER n_mihara FOR LOGIN n_mihara;\r\n",
                "CREATE USER m_futagawa FOR LOGIN m_futagawa;\r\n",
                "CREATE USER rui_ito FOR LOGIN rui_ito;"
            ],
            "metadata": {
                "azdata_cell_guid": "a5acccb8-d34e-48b4-961d-416b005cdf0e"
            },
            "outputs": [
                {
                    "output_type": "display_data",
                    "data": {
                        "text/html": "Commands completed successfully."
                    },
                    "metadata": {}
                },
                {
                    "output_type": "display_data",
                    "data": {
                        "text/html": "Total execution time: 00:00:00.298"
                    },
                    "metadata": {}
                }
            ],
            "execution_count": 26
        },
        {
            "cell_type": "code",
            "source": [
                "SELECT * FROM sys.database_principals"
            ],
            "metadata": {
                "azdata_cell_guid": "74d9b899-315a-4484-9d28-87c7f9dbf191"
            },
            "outputs": [
                {
                    "output_type": "display_data",
                    "data": {
                        "text/html": "(22 rows affected)"
                    },
                    "metadata": {}
                },
                {
                    "output_type": "display_data",
                    "data": {
                        "text/html": "Total execution time: 00:00:00.148"
                    },
                    "metadata": {}
                },
                {
                    "output_type": "execute_result",
                    "metadata": {
                        "resultSet": {
                            "id": 0,
                            "batchId": 0,
                            "rowCount": 22,
                            "complete": false,
                            "columnInfo": [
                                {
                                    "isBytes": false,
                                    "isChars": true,
                                    "isSqlVariant": false,
                                    "isUdt": false,
                                    "isXml": false,
                                    "isJson": false,
                                    "sqlDbType": 12,
                                    "isHierarchyId": false,
                                    "isSqlXmlType": false,
                                    "isUnknownType": false,
                                    "isUpdatable": true,
                                    "allowDBNull": false,
                                    "baseCatalogName": null,
                                    "baseColumnName": null,
                                    "baseSchemaName": null,
                                    "baseServerName": null,
                                    "baseTableName": null,
                                    "columnName": "name",
                                    "columnOrdinal": 0,
                                    "columnSize": 128,
                                    "isAliased": null,
                                    "isAutoIncrement": false,
                                    "isExpression": null,
                                    "isHidden": null,
                                    "isIdentity": false,
                                    "isKey": null,
                                    "isLong": false,
                                    "isReadOnly": false,
                                    "isUnique": false,
                                    "numericPrecision": 255,
                                    "numericScale": 255,
                                    "udtAssemblyQualifiedName": null,
                                    "dataType": "System.String, System.Private.CoreLib, Version=4.0.0.0, Culture=neutral, PublicKeyToken=7cec85d7bea7798e",
                                    "dataTypeName": "nvarchar"
                                },
                                {
                                    "isBytes": false,
                                    "isChars": false,
                                    "isSqlVariant": false,
                                    "isUdt": false,
                                    "isXml": false,
                                    "isJson": false,
                                    "sqlDbType": 8,
                                    "isHierarchyId": false,
                                    "isSqlXmlType": false,
                                    "isUnknownType": false,
                                    "isUpdatable": true,
                                    "allowDBNull": false,
                                    "baseCatalogName": null,
                                    "baseColumnName": null,
                                    "baseSchemaName": null,
                                    "baseServerName": null,
                                    "baseTableName": null,
                                    "columnName": "principal_id",
                                    "columnOrdinal": 1,
                                    "columnSize": 4,
                                    "isAliased": null,
                                    "isAutoIncrement": false,
                                    "isExpression": null,
                                    "isHidden": null,
                                    "isIdentity": false,
                                    "isKey": null,
                                    "isLong": false,
                                    "isReadOnly": false,
                                    "isUnique": false,
                                    "numericPrecision": 10,
                                    "numericScale": 255,
                                    "udtAssemblyQualifiedName": null,
                                    "dataType": "System.Int32, System.Private.CoreLib, Version=4.0.0.0, Culture=neutral, PublicKeyToken=7cec85d7bea7798e",
                                    "dataTypeName": "int"
                                },
                                {
                                    "isBytes": false,
                                    "isChars": false,
                                    "isSqlVariant": false,
                                    "isUdt": false,
                                    "isXml": false,
                                    "isJson": false,
                                    "sqlDbType": 3,
                                    "isHierarchyId": false,
                                    "isSqlXmlType": false,
                                    "isUnknownType": false,
                                    "isUpdatable": true,
                                    "allowDBNull": false,
                                    "baseCatalogName": null,
                                    "baseColumnName": null,
                                    "baseSchemaName": null,
                                    "baseServerName": null,
                                    "baseTableName": null,
                                    "columnName": "type",
                                    "columnOrdinal": 2,
                                    "columnSize": 1,
                                    "isAliased": null,
                                    "isAutoIncrement": false,
                                    "isExpression": null,
                                    "isHidden": null,
                                    "isIdentity": false,
                                    "isKey": null,
                                    "isLong": false,
                                    "isReadOnly": false,
                                    "isUnique": false,
                                    "numericPrecision": 255,
                                    "numericScale": 255,
                                    "udtAssemblyQualifiedName": null,
                                    "dataType": "System.String, System.Private.CoreLib, Version=4.0.0.0, Culture=neutral, PublicKeyToken=7cec85d7bea7798e",
                                    "dataTypeName": "char"
                                },
                                {
                                    "isBytes": false,
                                    "isChars": true,
                                    "isSqlVariant": false,
                                    "isUdt": false,
                                    "isXml": false,
                                    "isJson": false,
                                    "sqlDbType": 12,
                                    "isHierarchyId": false,
                                    "isSqlXmlType": false,
                                    "isUnknownType": false,
                                    "isUpdatable": true,
                                    "allowDBNull": true,
                                    "baseCatalogName": null,
                                    "baseColumnName": null,
                                    "baseSchemaName": null,
                                    "baseServerName": null,
                                    "baseTableName": null,
                                    "columnName": "type_desc",
                                    "columnOrdinal": 3,
                                    "columnSize": 60,
                                    "isAliased": null,
                                    "isAutoIncrement": false,
                                    "isExpression": null,
                                    "isHidden": null,
                                    "isIdentity": false,
                                    "isKey": null,
                                    "isLong": false,
                                    "isReadOnly": false,
                                    "isUnique": false,
                                    "numericPrecision": 255,
                                    "numericScale": 255,
                                    "udtAssemblyQualifiedName": null,
                                    "dataType": "System.String, System.Private.CoreLib, Version=4.0.0.0, Culture=neutral, PublicKeyToken=7cec85d7bea7798e",
                                    "dataTypeName": "nvarchar"
                                },
                                {
                                    "isBytes": false,
                                    "isChars": true,
                                    "isSqlVariant": false,
                                    "isUdt": false,
                                    "isXml": false,
                                    "isJson": false,
                                    "sqlDbType": 12,
                                    "isHierarchyId": false,
                                    "isSqlXmlType": false,
                                    "isUnknownType": false,
                                    "isUpdatable": true,
                                    "allowDBNull": true,
                                    "baseCatalogName": null,
                                    "baseColumnName": null,
                                    "baseSchemaName": null,
                                    "baseServerName": null,
                                    "baseTableName": null,
                                    "columnName": "default_schema_name",
                                    "columnOrdinal": 4,
                                    "columnSize": 128,
                                    "isAliased": null,
                                    "isAutoIncrement": false,
                                    "isExpression": null,
                                    "isHidden": null,
                                    "isIdentity": false,
                                    "isKey": null,
                                    "isLong": false,
                                    "isReadOnly": false,
                                    "isUnique": false,
                                    "numericPrecision": 255,
                                    "numericScale": 255,
                                    "udtAssemblyQualifiedName": null,
                                    "dataType": "System.String, System.Private.CoreLib, Version=4.0.0.0, Culture=neutral, PublicKeyToken=7cec85d7bea7798e",
                                    "dataTypeName": "nvarchar"
                                },
                                {
                                    "isBytes": false,
                                    "isChars": false,
                                    "isSqlVariant": false,
                                    "isUdt": false,
                                    "isXml": false,
                                    "isJson": false,
                                    "sqlDbType": 4,
                                    "isHierarchyId": false,
                                    "isSqlXmlType": false,
                                    "isUnknownType": false,
                                    "isUpdatable": true,
                                    "allowDBNull": false,
                                    "baseCatalogName": null,
                                    "baseColumnName": null,
                                    "baseSchemaName": null,
                                    "baseServerName": null,
                                    "baseTableName": null,
                                    "columnName": "create_date",
                                    "columnOrdinal": 5,
                                    "columnSize": 8,
                                    "isAliased": null,
                                    "isAutoIncrement": false,
                                    "isExpression": null,
                                    "isHidden": null,
                                    "isIdentity": false,
                                    "isKey": null,
                                    "isLong": false,
                                    "isReadOnly": false,
                                    "isUnique": false,
                                    "numericPrecision": 23,
                                    "numericScale": 3,
                                    "udtAssemblyQualifiedName": null,
                                    "dataType": "System.DateTime, System.Private.CoreLib, Version=4.0.0.0, Culture=neutral, PublicKeyToken=7cec85d7bea7798e",
                                    "dataTypeName": "datetime"
                                },
                                {
                                    "isBytes": false,
                                    "isChars": false,
                                    "isSqlVariant": false,
                                    "isUdt": false,
                                    "isXml": false,
                                    "isJson": false,
                                    "sqlDbType": 4,
                                    "isHierarchyId": false,
                                    "isSqlXmlType": false,
                                    "isUnknownType": false,
                                    "isUpdatable": true,
                                    "allowDBNull": false,
                                    "baseCatalogName": null,
                                    "baseColumnName": null,
                                    "baseSchemaName": null,
                                    "baseServerName": null,
                                    "baseTableName": null,
                                    "columnName": "modify_date",
                                    "columnOrdinal": 6,
                                    "columnSize": 8,
                                    "isAliased": null,
                                    "isAutoIncrement": false,
                                    "isExpression": null,
                                    "isHidden": null,
                                    "isIdentity": false,
                                    "isKey": null,
                                    "isLong": false,
                                    "isReadOnly": false,
                                    "isUnique": false,
                                    "numericPrecision": 23,
                                    "numericScale": 3,
                                    "udtAssemblyQualifiedName": null,
                                    "dataType": "System.DateTime, System.Private.CoreLib, Version=4.0.0.0, Culture=neutral, PublicKeyToken=7cec85d7bea7798e",
                                    "dataTypeName": "datetime"
                                },
                                {
                                    "isBytes": false,
                                    "isChars": false,
                                    "isSqlVariant": false,
                                    "isUdt": false,
                                    "isXml": false,
                                    "isJson": false,
                                    "sqlDbType": 8,
                                    "isHierarchyId": false,
                                    "isSqlXmlType": false,
                                    "isUnknownType": false,
                                    "isUpdatable": true,
                                    "allowDBNull": true,
                                    "baseCatalogName": null,
                                    "baseColumnName": null,
                                    "baseSchemaName": null,
                                    "baseServerName": null,
                                    "baseTableName": null,
                                    "columnName": "owning_principal_id",
                                    "columnOrdinal": 7,
                                    "columnSize": 4,
                                    "isAliased": null,
                                    "isAutoIncrement": false,
                                    "isExpression": null,
                                    "isHidden": null,
                                    "isIdentity": false,
                                    "isKey": null,
                                    "isLong": false,
                                    "isReadOnly": false,
                                    "isUnique": false,
                                    "numericPrecision": 10,
                                    "numericScale": 255,
                                    "udtAssemblyQualifiedName": null,
                                    "dataType": "System.Int32, System.Private.CoreLib, Version=4.0.0.0, Culture=neutral, PublicKeyToken=7cec85d7bea7798e",
                                    "dataTypeName": "int"
                                },
                                {
                                    "isBytes": true,
                                    "isChars": false,
                                    "isSqlVariant": false,
                                    "isUdt": false,
                                    "isXml": false,
                                    "isJson": false,
                                    "sqlDbType": 21,
                                    "isHierarchyId": false,
                                    "isSqlXmlType": false,
                                    "isUnknownType": false,
                                    "isUpdatable": true,
                                    "allowDBNull": true,
                                    "baseCatalogName": null,
                                    "baseColumnName": null,
                                    "baseSchemaName": null,
                                    "baseServerName": null,
                                    "baseTableName": null,
                                    "columnName": "sid",
                                    "columnOrdinal": 8,
                                    "columnSize": 85,
                                    "isAliased": null,
                                    "isAutoIncrement": false,
                                    "isExpression": null,
                                    "isHidden": null,
                                    "isIdentity": false,
                                    "isKey": null,
                                    "isLong": false,
                                    "isReadOnly": false,
                                    "isUnique": false,
                                    "numericPrecision": 255,
                                    "numericScale": 255,
                                    "udtAssemblyQualifiedName": null,
                                    "dataType": "System.Byte[], System.Private.CoreLib, Version=4.0.0.0, Culture=neutral, PublicKeyToken=7cec85d7bea7798e",
                                    "dataTypeName": "varbinary"
                                },
                                {
                                    "isBytes": false,
                                    "isChars": false,
                                    "isSqlVariant": false,
                                    "isUdt": false,
                                    "isXml": false,
                                    "isJson": false,
                                    "sqlDbType": 2,
                                    "isHierarchyId": false,
                                    "isSqlXmlType": false,
                                    "isUnknownType": false,
                                    "isUpdatable": false,
                                    "allowDBNull": false,
                                    "baseCatalogName": null,
                                    "baseColumnName": null,
                                    "baseSchemaName": null,
                                    "baseServerName": null,
                                    "baseTableName": null,
                                    "columnName": "is_fixed_role",
                                    "columnOrdinal": 9,
                                    "columnSize": 1,
                                    "isAliased": null,
                                    "isAutoIncrement": false,
                                    "isExpression": null,
                                    "isHidden": null,
                                    "isIdentity": false,
                                    "isKey": null,
                                    "isLong": false,
                                    "isReadOnly": true,
                                    "isUnique": false,
                                    "numericPrecision": 255,
                                    "numericScale": 255,
                                    "udtAssemblyQualifiedName": null,
                                    "dataType": "System.Boolean, System.Private.CoreLib, Version=4.0.0.0, Culture=neutral, PublicKeyToken=7cec85d7bea7798e",
                                    "dataTypeName": "bit"
                                },
                                {
                                    "isBytes": false,
                                    "isChars": false,
                                    "isSqlVariant": false,
                                    "isUdt": false,
                                    "isXml": false,
                                    "isJson": false,
                                    "sqlDbType": 8,
                                    "isHierarchyId": false,
                                    "isSqlXmlType": false,
                                    "isUnknownType": false,
                                    "isUpdatable": true,
                                    "allowDBNull": false,
                                    "baseCatalogName": null,
                                    "baseColumnName": null,
                                    "baseSchemaName": null,
                                    "baseServerName": null,
                                    "baseTableName": null,
                                    "columnName": "authentication_type",
                                    "columnOrdinal": 10,
                                    "columnSize": 4,
                                    "isAliased": null,
                                    "isAutoIncrement": false,
                                    "isExpression": null,
                                    "isHidden": null,
                                    "isIdentity": false,
                                    "isKey": null,
                                    "isLong": false,
                                    "isReadOnly": false,
                                    "isUnique": false,
                                    "numericPrecision": 10,
                                    "numericScale": 255,
                                    "udtAssemblyQualifiedName": null,
                                    "dataType": "System.Int32, System.Private.CoreLib, Version=4.0.0.0, Culture=neutral, PublicKeyToken=7cec85d7bea7798e",
                                    "dataTypeName": "int"
                                },
                                {
                                    "isBytes": false,
                                    "isChars": true,
                                    "isSqlVariant": false,
                                    "isUdt": false,
                                    "isXml": false,
                                    "isJson": false,
                                    "sqlDbType": 12,
                                    "isHierarchyId": false,
                                    "isSqlXmlType": false,
                                    "isUnknownType": false,
                                    "isUpdatable": true,
                                    "allowDBNull": true,
                                    "baseCatalogName": null,
                                    "baseColumnName": null,
                                    "baseSchemaName": null,
                                    "baseServerName": null,
                                    "baseTableName": null,
                                    "columnName": "authentication_type_desc",
                                    "columnOrdinal": 11,
                                    "columnSize": 60,
                                    "isAliased": null,
                                    "isAutoIncrement": false,
                                    "isExpression": null,
                                    "isHidden": null,
                                    "isIdentity": false,
                                    "isKey": null,
                                    "isLong": false,
                                    "isReadOnly": false,
                                    "isUnique": false,
                                    "numericPrecision": 255,
                                    "numericScale": 255,
                                    "udtAssemblyQualifiedName": null,
                                    "dataType": "System.String, System.Private.CoreLib, Version=4.0.0.0, Culture=neutral, PublicKeyToken=7cec85d7bea7798e",
                                    "dataTypeName": "nvarchar"
                                },
                                {
                                    "isBytes": false,
                                    "isChars": true,
                                    "isSqlVariant": false,
                                    "isUdt": false,
                                    "isXml": false,
                                    "isJson": false,
                                    "sqlDbType": 12,
                                    "isHierarchyId": false,
                                    "isSqlXmlType": false,
                                    "isUnknownType": false,
                                    "isUpdatable": true,
                                    "allowDBNull": true,
                                    "baseCatalogName": null,
                                    "baseColumnName": null,
                                    "baseSchemaName": null,
                                    "baseServerName": null,
                                    "baseTableName": null,
                                    "columnName": "default_language_name",
                                    "columnOrdinal": 12,
                                    "columnSize": 128,
                                    "isAliased": null,
                                    "isAutoIncrement": false,
                                    "isExpression": null,
                                    "isHidden": null,
                                    "isIdentity": false,
                                    "isKey": null,
                                    "isLong": false,
                                    "isReadOnly": false,
                                    "isUnique": false,
                                    "numericPrecision": 255,
                                    "numericScale": 255,
                                    "udtAssemblyQualifiedName": null,
                                    "dataType": "System.String, System.Private.CoreLib, Version=4.0.0.0, Culture=neutral, PublicKeyToken=7cec85d7bea7798e",
                                    "dataTypeName": "nvarchar"
                                },
                                {
                                    "isBytes": false,
                                    "isChars": false,
                                    "isSqlVariant": false,
                                    "isUdt": false,
                                    "isXml": false,
                                    "isJson": false,
                                    "sqlDbType": 8,
                                    "isHierarchyId": false,
                                    "isSqlXmlType": false,
                                    "isUnknownType": false,
                                    "isUpdatable": true,
                                    "allowDBNull": true,
                                    "baseCatalogName": null,
                                    "baseColumnName": null,
                                    "baseSchemaName": null,
                                    "baseServerName": null,
                                    "baseTableName": null,
                                    "columnName": "default_language_lcid",
                                    "columnOrdinal": 13,
                                    "columnSize": 4,
                                    "isAliased": null,
                                    "isAutoIncrement": false,
                                    "isExpression": null,
                                    "isHidden": null,
                                    "isIdentity": false,
                                    "isKey": null,
                                    "isLong": false,
                                    "isReadOnly": false,
                                    "isUnique": false,
                                    "numericPrecision": 10,
                                    "numericScale": 255,
                                    "udtAssemblyQualifiedName": null,
                                    "dataType": "System.Int32, System.Private.CoreLib, Version=4.0.0.0, Culture=neutral, PublicKeyToken=7cec85d7bea7798e",
                                    "dataTypeName": "int"
                                },
                                {
                                    "isBytes": false,
                                    "isChars": false,
                                    "isSqlVariant": false,
                                    "isUdt": false,
                                    "isXml": false,
                                    "isJson": false,
                                    "sqlDbType": 2,
                                    "isHierarchyId": false,
                                    "isSqlXmlType": false,
                                    "isUnknownType": false,
                                    "isUpdatable": false,
                                    "allowDBNull": false,
                                    "baseCatalogName": null,
                                    "baseColumnName": null,
                                    "baseSchemaName": null,
                                    "baseServerName": null,
                                    "baseTableName": null,
                                    "columnName": "allow_encrypted_value_modifications",
                                    "columnOrdinal": 14,
                                    "columnSize": 1,
                                    "isAliased": null,
                                    "isAutoIncrement": false,
                                    "isExpression": null,
                                    "isHidden": null,
                                    "isIdentity": false,
                                    "isKey": null,
                                    "isLong": false,
                                    "isReadOnly": true,
                                    "isUnique": false,
                                    "numericPrecision": 255,
                                    "numericScale": 255,
                                    "udtAssemblyQualifiedName": null,
                                    "dataType": "System.Boolean, System.Private.CoreLib, Version=4.0.0.0, Culture=neutral, PublicKeyToken=7cec85d7bea7798e",
                                    "dataTypeName": "bit"
                                }
                            ],
                            "specialAction": null
                        }
                    },
                    "execution_count": 3,
                    "data": {
                        "application/vnd.dataresource+json": {
                            "schema": {
                                "fields": [
                                    {
                                        "name": "name"
                                    },
                                    {
                                        "name": "principal_id"
                                    },
                                    {
                                        "name": "type"
                                    },
                                    {
                                        "name": "type_desc"
                                    },
                                    {
                                        "name": "default_schema_name"
                                    },
                                    {
                                        "name": "create_date"
                                    },
                                    {
                                        "name": "modify_date"
                                    },
                                    {
                                        "name": "owning_principal_id"
                                    },
                                    {
                                        "name": "sid"
                                    },
                                    {
                                        "name": "is_fixed_role"
                                    },
                                    {
                                        "name": "authentication_type"
                                    },
                                    {
                                        "name": "authentication_type_desc"
                                    },
                                    {
                                        "name": "default_language_name"
                                    },
                                    {
                                        "name": "default_language_lcid"
                                    },
                                    {
                                        "name": "allow_encrypted_value_modifications"
                                    }
                                ]
                            },
                            "data": [
                                {
                                    "0": "public",
                                    "1": "0",
                                    "2": "R",
                                    "3": "DATABASE_ROLE",
                                    "4": "NULL",
                                    "5": "2003-04-08 09:10:42.317",
                                    "6": "2009-04-13 12:59:14.467",
                                    "7": "1",
                                    "8": "0x01050000000000090400000083741B006749C04BA943C02702F2A762",
                                    "9": "0",
                                    "10": "0",
                                    "11": "NONE",
                                    "12": "NULL",
                                    "13": "NULL",
                                    "14": "0"
                                },
                                {
                                    "0": "dbo",
                                    "1": "1",
                                    "2": "S",
                                    "3": "SQL_USER",
                                    "4": "dbo",
                                    "5": "2003-04-08 09:10:42.287",
                                    "6": "2020-11-25 04:33:53.430",
                                    "7": "NULL",
                                    "8": "0x0106000000000164000000000000000080FD659A1DEFC640BD0676FE3B0AFB38",
                                    "9": "0",
                                    "10": "1",
                                    "11": "INSTANCE",
                                    "12": "NULL",
                                    "13": "NULL",
                                    "14": "0"
                                },
                                {
                                    "0": "guest",
                                    "1": "2",
                                    "2": "S",
                                    "3": "SQL_USER",
                                    "4": "guest",
                                    "5": "2003-04-08 09:10:42.317",
                                    "6": "2003-04-08 09:10:42.317",
                                    "7": "NULL",
                                    "8": "0x00",
                                    "9": "0",
                                    "10": "0",
                                    "11": "NONE",
                                    "12": "NULL",
                                    "13": "NULL",
                                    "14": "0"
                                },
                                {
                                    "0": "INFORMATION_SCHEMA",
                                    "1": "3",
                                    "2": "S",
                                    "3": "SQL_USER",
                                    "4": "NULL",
                                    "5": "2009-04-13 12:59:11.717",
                                    "6": "2009-04-13 12:59:11.717",
                                    "7": "NULL",
                                    "8": "NULL",
                                    "9": "0",
                                    "10": "0",
                                    "11": "NONE",
                                    "12": "NULL",
                                    "13": "NULL",
                                    "14": "0"
                                },
                                {
                                    "0": "sys",
                                    "1": "4",
                                    "2": "S",
                                    "3": "SQL_USER",
                                    "4": "NULL",
                                    "5": "2009-04-13 12:59:11.717",
                                    "6": "2009-04-13 12:59:11.717",
                                    "7": "NULL",
                                    "8": "NULL",
                                    "9": "0",
                                    "10": "0",
                                    "11": "NONE",
                                    "12": "NULL",
                                    "13": "NULL",
                                    "14": "0"
                                },
                                {
                                    "0": "yuuki_kobayashi",
                                    "1": "5",
                                    "2": "S",
                                    "3": "SQL_USER",
                                    "4": "dbo",
                                    "5": "2020-12-12 02:30:51.537",
                                    "6": "2020-12-12 02:30:51.537",
                                    "7": "NULL",
                                    "8": "0x0106000000000064000000000000000071D32F695D982A47A383E5E51939D4A8",
                                    "9": "0",
                                    "10": "1",
                                    "11": "INSTANCE",
                                    "12": "NULL",
                                    "13": "NULL",
                                    "14": "0"
                                },
                                {
                                    "0": "k_horita",
                                    "1": "6",
                                    "2": "S",
                                    "3": "SQL_USER",
                                    "4": "dbo",
                                    "5": "2020-12-12 03:29:13.907",
                                    "6": "2020-12-12 03:29:13.907",
                                    "7": "NULL",
                                    "8": "0x010600000000006400000000000000006795CED2C7A4AC4EA4EF68FFF7A42BCE",
                                    "9": "0",
                                    "10": "1",
                                    "11": "INSTANCE",
                                    "12": "NULL",
                                    "13": "NULL",
                                    "14": "0"
                                },
                                {
                                    "0": "s_ootomo",
                                    "1": "7",
                                    "2": "S",
                                    "3": "SQL_USER",
                                    "4": "dbo",
                                    "5": "2020-12-12 03:29:13.993",
                                    "6": "2020-12-12 03:29:13.993",
                                    "7": "NULL",
                                    "8": "0x010600000000006400000000000000001E27E0B4BF0AD74CA7FEED53A8177A66",
                                    "9": "0",
                                    "10": "1",
                                    "11": "INSTANCE",
                                    "12": "NULL",
                                    "13": "NULL",
                                    "14": "0"
                                },
                                {
                                    "0": "d_nishidate",
                                    "1": "8",
                                    "2": "S",
                                    "3": "SQL_USER",
                                    "4": "dbo",
                                    "5": "2020-12-12 03:29:14.003",
                                    "6": "2020-12-12 03:29:14.003",
                                    "7": "NULL",
                                    "8": "0x010600000000006400000000000000002FEE63BA1F6BAB42B3F937771B52AC63",
                                    "9": "0",
                                    "10": "1",
                                    "11": "INSTANCE",
                                    "12": "NULL",
                                    "13": "NULL",
                                    "14": "0"
                                },
                                {
                                    "0": "h_kurohabaki",
                                    "1": "9",
                                    "2": "S",
                                    "3": "SQL_USER",
                                    "4": "dbo",
                                    "5": "2020-12-12 03:29:14.013",
                                    "6": "2020-12-12 03:29:14.013",
                                    "7": "NULL",
                                    "8": "0x0106000000000064000000000000000072BFACFCB69A9C44A8A5BDC4C0D3B2EE",
                                    "9": "0",
                                    "10": "1",
                                    "11": "INSTANCE",
                                    "12": "NULL",
                                    "13": "NULL",
                                    "14": "0"
                                },
                                {
                                    "0": "n_mihara",
                                    "1": "10",
                                    "2": "S",
                                    "3": "SQL_USER",
                                    "4": "dbo",
                                    "5": "2020-12-12 03:29:14.023",
                                    "6": "2020-12-12 03:29:14.023",
                                    "7": "NULL",
                                    "8": "0x01060000000000640000000000000000B878890938CD894EBD1AA1777BB7F2A7",
                                    "9": "0",
                                    "10": "1",
                                    "11": "INSTANCE",
                                    "12": "NULL",
                                    "13": "NULL",
                                    "14": "0"
                                },
                                {
                                    "0": "m_futagawa",
                                    "1": "11",
                                    "2": "S",
                                    "3": "SQL_USER",
                                    "4": "dbo",
                                    "5": "2020-12-12 03:29:14.030",
                                    "6": "2020-12-12 06:03:46.730",
                                    "7": "NULL",
                                    "8": "0x01060000000000640000000000000000333E317E3673384AA700B90FD731E195",
                                    "9": "0",
                                    "10": "1",
                                    "11": "INSTANCE",
                                    "12": "NULL",
                                    "13": "NULL",
                                    "14": "0"
                                },
                                {
                                    "0": "rui_ito",
                                    "1": "12",
                                    "2": "S",
                                    "3": "SQL_USER",
                                    "4": "dbo",
                                    "5": "2020-12-12 03:29:14.040",
                                    "6": "2020-12-12 03:29:14.040",
                                    "7": "NULL",
                                    "8": "0x01060000000000640000000000000000EE4EC8BE969EB240AC34390EAF94A789",
                                    "9": "0",
                                    "10": "1",
                                    "11": "INSTANCE",
                                    "12": "NULL",
                                    "13": "NULL",
                                    "14": "0"
                                },
                                {
                                    "0": "db_owner",
                                    "1": "16384",
                                    "2": "R",
                                    "3": "DATABASE_ROLE",
                                    "4": "NULL",
                                    "5": "2003-04-08 09:10:42.333",
                                    "6": "2009-04-13 12:59:14.467",
                                    "7": "1",
                                    "8": "0x01050000000000090400000000000000000000000000000000400000",
                                    "9": "1",
                                    "10": "0",
                                    "11": "NONE",
                                    "12": "NULL",
                                    "13": "NULL",
                                    "14": "0"
                                },
                                {
                                    "0": "db_accessadmin",
                                    "1": "16385",
                                    "2": "R",
                                    "3": "DATABASE_ROLE",
                                    "4": "NULL",
                                    "5": "2003-04-08 09:10:42.333",
                                    "6": "2009-04-13 12:59:14.467",
                                    "7": "1",
                                    "8": "0x01050000000000090400000000000000000000000000000001400000",
                                    "9": "1",
                                    "10": "0",
                                    "11": "NONE",
                                    "12": "NULL",
                                    "13": "NULL",
                                    "14": "0"
                                },
                                {
                                    "0": "db_securityadmin",
                                    "1": "16386",
                                    "2": "R",
                                    "3": "DATABASE_ROLE",
                                    "4": "NULL",
                                    "5": "2003-04-08 09:10:42.350",
                                    "6": "2009-04-13 12:59:14.467",
                                    "7": "1",
                                    "8": "0x01050000000000090400000000000000000000000000000002400000",
                                    "9": "1",
                                    "10": "0",
                                    "11": "NONE",
                                    "12": "NULL",
                                    "13": "NULL",
                                    "14": "0"
                                },
                                {
                                    "0": "db_ddladmin",
                                    "1": "16387",
                                    "2": "R",
                                    "3": "DATABASE_ROLE",
                                    "4": "NULL",
                                    "5": "2003-04-08 09:10:42.350",
                                    "6": "2009-04-13 12:59:14.467",
                                    "7": "1",
                                    "8": "0x01050000000000090400000000000000000000000000000003400000",
                                    "9": "1",
                                    "10": "0",
                                    "11": "NONE",
                                    "12": "NULL",
                                    "13": "NULL",
                                    "14": "0"
                                },
                                {
                                    "0": "db_backupoperator",
                                    "1": "16389",
                                    "2": "R",
                                    "3": "DATABASE_ROLE",
                                    "4": "NULL",
                                    "5": "2003-04-08 09:10:42.350",
                                    "6": "2009-04-13 12:59:14.467",
                                    "7": "1",
                                    "8": "0x01050000000000090400000000000000000000000000000005400000",
                                    "9": "1",
                                    "10": "0",
                                    "11": "NONE",
                                    "12": "NULL",
                                    "13": "NULL",
                                    "14": "0"
                                },
                                {
                                    "0": "db_datareader",
                                    "1": "16390",
                                    "2": "R",
                                    "3": "DATABASE_ROLE",
                                    "4": "NULL",
                                    "5": "2003-04-08 09:10:42.363",
                                    "6": "2009-04-13 12:59:14.467",
                                    "7": "1",
                                    "8": "0x01050000000000090400000000000000000000000000000006400000",
                                    "9": "1",
                                    "10": "0",
                                    "11": "NONE",
                                    "12": "NULL",
                                    "13": "NULL",
                                    "14": "0"
                                },
                                {
                                    "0": "db_datawriter",
                                    "1": "16391",
                                    "2": "R",
                                    "3": "DATABASE_ROLE",
                                    "4": "NULL",
                                    "5": "2003-04-08 09:10:42.363",
                                    "6": "2009-04-13 12:59:14.467",
                                    "7": "1",
                                    "8": "0x01050000000000090400000000000000000000000000000007400000",
                                    "9": "1",
                                    "10": "0",
                                    "11": "NONE",
                                    "12": "NULL",
                                    "13": "NULL",
                                    "14": "0"
                                },
                                {
                                    "0": "db_denydatareader",
                                    "1": "16392",
                                    "2": "R",
                                    "3": "DATABASE_ROLE",
                                    "4": "NULL",
                                    "5": "2003-04-08 09:10:42.380",
                                    "6": "2009-04-13 12:59:14.467",
                                    "7": "1",
                                    "8": "0x01050000000000090400000000000000000000000000000008400000",
                                    "9": "1",
                                    "10": "0",
                                    "11": "NONE",
                                    "12": "NULL",
                                    "13": "NULL",
                                    "14": "0"
                                },
                                {
                                    "0": "db_denydatawriter",
                                    "1": "16393",
                                    "2": "R",
                                    "3": "DATABASE_ROLE",
                                    "4": "NULL",
                                    "5": "2003-04-08 09:10:42.380",
                                    "6": "2009-04-13 12:59:14.467",
                                    "7": "1",
                                    "8": "0x01050000000000090400000000000000000000000000000009400000",
                                    "9": "1",
                                    "10": "0",
                                    "11": "NONE",
                                    "12": "NULL",
                                    "13": "NULL",
                                    "14": "0"
                                }
                            ]
                        },
                        "text/html": [
                            "<table>",
                            "<tr><th>name</th><th>principal_id</th><th>type</th><th>type_desc</th><th>default_schema_name</th><th>create_date</th><th>modify_date</th><th>owning_principal_id</th><th>sid</th><th>is_fixed_role</th><th>authentication_type</th><th>authentication_type_desc</th><th>default_language_name</th><th>default_language_lcid</th><th>allow_encrypted_value_modifications</th></tr>",
                            "<tr><td>public</td><td>0</td><td>R</td><td>DATABASE_ROLE</td><td>NULL</td><td>2003-04-08 09:10:42.317</td><td>2009-04-13 12:59:14.467</td><td>1</td><td>0x01050000000000090400000083741B006749C04BA943C02702F2A762</td><td>0</td><td>0</td><td>NONE</td><td>NULL</td><td>NULL</td><td>0</td></tr>",
                            "<tr><td>dbo</td><td>1</td><td>S</td><td>SQL_USER</td><td>dbo</td><td>2003-04-08 09:10:42.287</td><td>2020-11-25 04:33:53.430</td><td>NULL</td><td>0x0106000000000164000000000000000080FD659A1DEFC640BD0676FE3B0AFB38</td><td>0</td><td>1</td><td>INSTANCE</td><td>NULL</td><td>NULL</td><td>0</td></tr>",
                            "<tr><td>guest</td><td>2</td><td>S</td><td>SQL_USER</td><td>guest</td><td>2003-04-08 09:10:42.317</td><td>2003-04-08 09:10:42.317</td><td>NULL</td><td>0x00</td><td>0</td><td>0</td><td>NONE</td><td>NULL</td><td>NULL</td><td>0</td></tr>",
                            "<tr><td>INFORMATION_SCHEMA</td><td>3</td><td>S</td><td>SQL_USER</td><td>NULL</td><td>2009-04-13 12:59:11.717</td><td>2009-04-13 12:59:11.717</td><td>NULL</td><td>NULL</td><td>0</td><td>0</td><td>NONE</td><td>NULL</td><td>NULL</td><td>0</td></tr>",
                            "<tr><td>sys</td><td>4</td><td>S</td><td>SQL_USER</td><td>NULL</td><td>2009-04-13 12:59:11.717</td><td>2009-04-13 12:59:11.717</td><td>NULL</td><td>NULL</td><td>0</td><td>0</td><td>NONE</td><td>NULL</td><td>NULL</td><td>0</td></tr>",
                            "<tr><td>yuuki_kobayashi</td><td>5</td><td>S</td><td>SQL_USER</td><td>dbo</td><td>2020-12-12 02:30:51.537</td><td>2020-12-12 02:30:51.537</td><td>NULL</td><td>0x0106000000000064000000000000000071D32F695D982A47A383E5E51939D4A8</td><td>0</td><td>1</td><td>INSTANCE</td><td>NULL</td><td>NULL</td><td>0</td></tr>",
                            "<tr><td>k_horita</td><td>6</td><td>S</td><td>SQL_USER</td><td>dbo</td><td>2020-12-12 03:29:13.907</td><td>2020-12-12 03:29:13.907</td><td>NULL</td><td>0x010600000000006400000000000000006795CED2C7A4AC4EA4EF68FFF7A42BCE</td><td>0</td><td>1</td><td>INSTANCE</td><td>NULL</td><td>NULL</td><td>0</td></tr>",
                            "<tr><td>s_ootomo</td><td>7</td><td>S</td><td>SQL_USER</td><td>dbo</td><td>2020-12-12 03:29:13.993</td><td>2020-12-12 03:29:13.993</td><td>NULL</td><td>0x010600000000006400000000000000001E27E0B4BF0AD74CA7FEED53A8177A66</td><td>0</td><td>1</td><td>INSTANCE</td><td>NULL</td><td>NULL</td><td>0</td></tr>",
                            "<tr><td>d_nishidate</td><td>8</td><td>S</td><td>SQL_USER</td><td>dbo</td><td>2020-12-12 03:29:14.003</td><td>2020-12-12 03:29:14.003</td><td>NULL</td><td>0x010600000000006400000000000000002FEE63BA1F6BAB42B3F937771B52AC63</td><td>0</td><td>1</td><td>INSTANCE</td><td>NULL</td><td>NULL</td><td>0</td></tr>",
                            "<tr><td>h_kurohabaki</td><td>9</td><td>S</td><td>SQL_USER</td><td>dbo</td><td>2020-12-12 03:29:14.013</td><td>2020-12-12 03:29:14.013</td><td>NULL</td><td>0x0106000000000064000000000000000072BFACFCB69A9C44A8A5BDC4C0D3B2EE</td><td>0</td><td>1</td><td>INSTANCE</td><td>NULL</td><td>NULL</td><td>0</td></tr>",
                            "<tr><td>n_mihara</td><td>10</td><td>S</td><td>SQL_USER</td><td>dbo</td><td>2020-12-12 03:29:14.023</td><td>2020-12-12 03:29:14.023</td><td>NULL</td><td>0x01060000000000640000000000000000B878890938CD894EBD1AA1777BB7F2A7</td><td>0</td><td>1</td><td>INSTANCE</td><td>NULL</td><td>NULL</td><td>0</td></tr>",
                            "<tr><td>m_futagawa</td><td>11</td><td>S</td><td>SQL_USER</td><td>dbo</td><td>2020-12-12 03:29:14.030</td><td>2020-12-12 06:03:46.730</td><td>NULL</td><td>0x01060000000000640000000000000000333E317E3673384AA700B90FD731E195</td><td>0</td><td>1</td><td>INSTANCE</td><td>NULL</td><td>NULL</td><td>0</td></tr>",
                            "<tr><td>rui_ito</td><td>12</td><td>S</td><td>SQL_USER</td><td>dbo</td><td>2020-12-12 03:29:14.040</td><td>2020-12-12 03:29:14.040</td><td>NULL</td><td>0x01060000000000640000000000000000EE4EC8BE969EB240AC34390EAF94A789</td><td>0</td><td>1</td><td>INSTANCE</td><td>NULL</td><td>NULL</td><td>0</td></tr>",
                            "<tr><td>db_owner</td><td>16384</td><td>R</td><td>DATABASE_ROLE</td><td>NULL</td><td>2003-04-08 09:10:42.333</td><td>2009-04-13 12:59:14.467</td><td>1</td><td>0x01050000000000090400000000000000000000000000000000400000</td><td>1</td><td>0</td><td>NONE</td><td>NULL</td><td>NULL</td><td>0</td></tr>",
                            "<tr><td>db_accessadmin</td><td>16385</td><td>R</td><td>DATABASE_ROLE</td><td>NULL</td><td>2003-04-08 09:10:42.333</td><td>2009-04-13 12:59:14.467</td><td>1</td><td>0x01050000000000090400000000000000000000000000000001400000</td><td>1</td><td>0</td><td>NONE</td><td>NULL</td><td>NULL</td><td>0</td></tr>",
                            "<tr><td>db_securityadmin</td><td>16386</td><td>R</td><td>DATABASE_ROLE</td><td>NULL</td><td>2003-04-08 09:10:42.350</td><td>2009-04-13 12:59:14.467</td><td>1</td><td>0x01050000000000090400000000000000000000000000000002400000</td><td>1</td><td>0</td><td>NONE</td><td>NULL</td><td>NULL</td><td>0</td></tr>",
                            "<tr><td>db_ddladmin</td><td>16387</td><td>R</td><td>DATABASE_ROLE</td><td>NULL</td><td>2003-04-08 09:10:42.350</td><td>2009-04-13 12:59:14.467</td><td>1</td><td>0x01050000000000090400000000000000000000000000000003400000</td><td>1</td><td>0</td><td>NONE</td><td>NULL</td><td>NULL</td><td>0</td></tr>",
                            "<tr><td>db_backupoperator</td><td>16389</td><td>R</td><td>DATABASE_ROLE</td><td>NULL</td><td>2003-04-08 09:10:42.350</td><td>2009-04-13 12:59:14.467</td><td>1</td><td>0x01050000000000090400000000000000000000000000000005400000</td><td>1</td><td>0</td><td>NONE</td><td>NULL</td><td>NULL</td><td>0</td></tr>",
                            "<tr><td>db_datareader</td><td>16390</td><td>R</td><td>DATABASE_ROLE</td><td>NULL</td><td>2003-04-08 09:10:42.363</td><td>2009-04-13 12:59:14.467</td><td>1</td><td>0x01050000000000090400000000000000000000000000000006400000</td><td>1</td><td>0</td><td>NONE</td><td>NULL</td><td>NULL</td><td>0</td></tr>",
                            "<tr><td>db_datawriter</td><td>16391</td><td>R</td><td>DATABASE_ROLE</td><td>NULL</td><td>2003-04-08 09:10:42.363</td><td>2009-04-13 12:59:14.467</td><td>1</td><td>0x01050000000000090400000000000000000000000000000007400000</td><td>1</td><td>0</td><td>NONE</td><td>NULL</td><td>NULL</td><td>0</td></tr>",
                            "<tr><td>db_denydatareader</td><td>16392</td><td>R</td><td>DATABASE_ROLE</td><td>NULL</td><td>2003-04-08 09:10:42.380</td><td>2009-04-13 12:59:14.467</td><td>1</td><td>0x01050000000000090400000000000000000000000000000008400000</td><td>1</td><td>0</td><td>NONE</td><td>NULL</td><td>NULL</td><td>0</td></tr>",
                            "<tr><td>db_denydatawriter</td><td>16393</td><td>R</td><td>DATABASE_ROLE</td><td>NULL</td><td>2003-04-08 09:10:42.380</td><td>2009-04-13 12:59:14.467</td><td>1</td><td>0x01050000000000090400000000000000000000000000000009400000</td><td>1</td><td>0</td><td>NONE</td><td>NULL</td><td>NULL</td><td>0</td></tr>",
                            "</table>"
                        ]
                    }
                }
            ],
            "execution_count": 3
        },
        {
            "cell_type": "code",
            "source": [
                "ALTER USER m_hutagawa WITH NAME = m_futagawa"
            ],
            "metadata": {
                "azdata_cell_guid": "70b70bb9-7e20-4bcd-a186-1b905d8a9440"
            },
            "outputs": [
                {
                    "output_type": "display_data",
                    "data": {
                        "text/html": "Commands completed successfully."
                    },
                    "metadata": {}
                },
                {
                    "output_type": "display_data",
                    "data": {
                        "text/html": "Total execution time: 00:00:00.044"
                    },
                    "metadata": {}
                }
            ],
            "execution_count": 2
        }
    ]
}