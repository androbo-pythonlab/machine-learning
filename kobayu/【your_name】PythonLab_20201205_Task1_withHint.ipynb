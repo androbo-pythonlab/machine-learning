{
 "cells": [
  {
   "cell_type": "markdown",
   "metadata": {},
   "source": [
    "# 今回の課題：条件分岐・ループ編\n",
    "\n",
    "課題に取り組むにあたって、こちらの記事を読んでおくとヒントが落ちているかもしれません！\n",
    "\n",
    "\n",
    "https://qiita.com/kobayu0902art/items/1e4007102a7a564f3b58\n",
    "\n",
    "また、今回の課題ではAtcoderの問題を使用していますが、問題の詳細は問題タイトルのリンクをクリックしてください。"
   ]
  },
  {
   "attachments": {
    "image.png": {
     "image/png": "[encoded data removed]"
    }
   },
   "cell_type": "markdown",
   "metadata": {},
   "source": [
    "Q1.\n",
    "\n",
    "PokemonStatus_Gen8.csvから\n",
    "\n",
    "[0,3,5,17,21,25,46,57,79,100,101]\n",
    "\n",
    "上記の図鑑番号に対応するポケモンの名前を列挙しよう\n",
    "\n",
    "出力例：\n",
    "![image.png](attachment:image.png)"
   ]
  },
  {
   "cell_type": "markdown",
   "metadata": {},
   "source": [
    "A1."
   ]
  },
  {
   "cell_type": "code",
   "execution_count": null,
   "metadata": {},
   "outputs": [],
   "source": []
  },
  {
   "cell_type": "markdown",
   "metadata": {},
   "source": [
    "Q2.\n",
    "\n",
    "l = [1231231,2342,423,14234,123,41234,123412341,2341,254,656745,672346,134763,45123,5467,456234,134523,927834,4235,245,3463,246,7547,32356357,235,63754,423456,57458,347845,6234657,2356]\n",
    "\n",
    "上記リストの中で、\n",
    "\n",
    "- 偶数\n",
    "- 奇数\n",
    "- 7の倍数\n",
    "- 19の倍数\n",
    "\n",
    "\n",
    "がいくつあるかそれぞれカウントしてください。"
   ]
  },
  {
   "cell_type": "markdown",
   "metadata": {},
   "source": [
    "A2."
   ]
  },
  {
   "cell_type": "code",
   "execution_count": 1,
   "metadata": {},
   "outputs": [],
   "source": [
    "l = [1231231,2342,423,14234,123,41234,123412341,2341,254,656745,672346,134763,45123,5467,456234,134523,927834,4235,245,3463,246,7547,32356357,235,63754,423456,57458,347845,6234657,2356]\n",
    "\n",
    "#回答ここから～～"
   ]
  },
  {
   "cell_type": "markdown",
   "metadata": {},
   "source": [
    "Q3.\n",
    "2020年1月1日から2050年12月31日までの日付を8桁の数字で表現したyyyyMMdd(例:20201205)について、以下の条件を満たすものが何個あるか数え、列挙してください。\n",
    "\n",
    "- 左右対称なもの\n",
    "- 各桁の数字の和が[0,1,8]のいずれかであるもの\n",
    "\n",
    "回答例：\n",
    "- 左右対称なもの：　20コ　、　[21211212,…]\n",
    "- 各桁の数字の和が[0,1,8]のいずれかであるもの：　50コ　、　[20200202,…]"
   ]
  },
  {
   "cell_type": "markdown",
   "metadata": {},
   "source": [
    "A3."
   ]
  },
  {
   "cell_type": "markdown",
   "metadata": {},
   "source": [
    "# ヒント"
   ]
  },
  {
   "cell_type": "code",
   "execution_count": 2,
   "metadata": {},
   "outputs": [],
   "source": [
    "# MMとddについて、1桁のときには2桁にあわせてあげなきゃ\n",
    "# 数値として扱うか？文字列として扱うか？\n",
    "# 左右対称⇔「○文字目と×文字目が同じ」×4？\n",
    "# 10000で割った和とあまりで左右分割できるか？\n",
    "# int(20200202/10000),str(20200202%10000).zfill(4)"
   ]
  },
  {
   "cell_type": "code",
   "execution_count": null,
   "metadata": {},
   "outputs": [],
   "source": []
  },
  {
   "cell_type": "markdown",
   "metadata": {},
   "source": [
    "# 訂正\n",
    "\n",
    "各桁の総和が0や1になる日付のパターンはあり得ませんでした！！\n",
    "\n",
    "なので8のパターンを求める、\n",
    "\n",
    "あるいは、1桁になるまで足したときの回答を出してみてください！"
   ]
  },
  {
   "cell_type": "markdown",
   "metadata": {},
   "source": [
    "Q4.[ABC 087 B - Coins](https://atcoder.jp/contests/abc087/tasks/abc087_b)\n",
    "\n",
    "問題文\n",
    "\n",
    "あなたは、\n",
    "500\n",
    " 円玉を \n",
    "A\n",
    " 枚、\n",
    "100\n",
    " 円玉を \n",
    "B\n",
    " 枚、\n",
    "50\n",
    " 円玉を \n",
    "C\n",
    " 枚持っています。 これらの硬貨の中から何枚かを選び、合計金額をちょうど \n",
    "X\n",
    " 円にする方法は何通りありますか。\n",
    "\n",
    "同じ種類の硬貨どうしは区別できません。2 通りの硬貨の選び方は、ある種類の硬貨についてその硬貨を選ぶ枚数が異なるとき区別されます。"
   ]
  },
  {
   "cell_type": "markdown",
   "metadata": {},
   "source": [
    "入力例\n",
    "\n",
    "A\n",
    "\n",
    "B\n",
    "\n",
    "C\n",
    "\n",
    "X\n",
    "\n",
    "----------\n",
    "\n",
    "2\n",
    "\n",
    "2\n",
    "\n",
    "2\n",
    "\n",
    "100\n",
    "\n",
    "----------\n",
    "\n",
    "出力例\n",
    "\n",
    "2"
   ]
  },
  {
   "cell_type": "markdown",
   "metadata": {},
   "source": [
    "# ヒント"
   ]
  },
  {
   "cell_type": "code",
   "execution_count": 3,
   "metadata": {},
   "outputs": [],
   "source": [
    "# 500円から確定していくべきか、50円から確定していくべきか、、、"
   ]
  },
  {
   "cell_type": "markdown",
   "metadata": {},
   "source": [
    "A4."
   ]
  },
  {
   "cell_type": "code",
   "execution_count": null,
   "metadata": {},
   "outputs": [],
   "source": []
  },
  {
   "cell_type": "markdown",
   "metadata": {},
   "source": [
    "Q5.[ABC 083 B - Some Sums](https://atcoder.jp/contests/abc083/tasks/abc083_b)\n",
    "\n",
    "問題文\n",
    "\n",
    "1\n",
    " 以上 \n",
    "N\n",
    " 以下の整数のうち、\n",
    "10\n",
    " 進法での各桁の和が \n",
    "A\n",
    " 以上 \n",
    "B\n",
    " 以下であるものの総和を求めてください。"
   ]
  },
  {
   "cell_type": "markdown",
   "metadata": {},
   "source": [
    "A5."
   ]
  },
  {
   "cell_type": "code",
   "execution_count": null,
   "metadata": {},
   "outputs": [],
   "source": []
  }
 ],
 "metadata": {
  "kernelspec": {
   "display_name": "Python 3",
   "language": "python",
   "name": "python3"
  },
  "language_info": {
   "codemirror_mode": {
    "name": "ipython",
    "version": 3
   },
   "file_extension": ".py",
   "mimetype": "text/x-python",
   "name": "python",
   "nbconvert_exporter": "python",
   "pygments_lexer": "ipython3",
   "version": "3.8.5"
  }
 },
 "nbformat": 4,
 "nbformat_minor": 4
}
