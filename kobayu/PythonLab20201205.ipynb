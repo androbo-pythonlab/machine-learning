{
 "cells": [
  {
   "cell_type": "markdown",
   "metadata": {},
   "source": [
    "# 前回のおさらい+追加\n",
    "\n",
    "### 行の削除\n",
    "- df.drop(行名)\n",
    "- df.drop(df.index[行番号])\n",
    "\n",
    "### 列の削除\n",
    "- df.drop(columns=列名)\n",
    "- df.drop(columns=df.columns[列番号])\n",
    "\n",
    "### 行の新規作成\n",
    "df.loc[新規行名] = [行情報のリスト]"
   ]
  },
  {
   "cell_type": "markdown",
   "metadata": {},
   "source": [
    "## 行の条件での抽出\n",
    "- 特定の列が含む情報に一致する行の抽出\n",
    "\n",
    "df[df[列名] == 文字列]"
   ]
  },
  {
   "cell_type": "markdown",
   "metadata": {},
   "source": [
    "# 本日の目標\n",
    "条件分岐・ループを使いこなす\n",
    " - if\n",
    " - for"
   ]
  },
  {
   "cell_type": "markdown",
   "metadata": {},
   "source": [
    "# input - 標準入力"
   ]
  },
  {
   "cell_type": "code",
   "execution_count": 1,
   "metadata": {},
   "outputs": [
    {
     "name": "stdout",
     "output_type": "stream",
     "text": [
      "464646\n"
     ]
    },
    {
     "data": {
      "text/plain": [
       "'464646'"
      ]
     },
     "execution_count": 1,
     "metadata": {},
     "output_type": "execute_result"
    }
   ],
   "source": [
    "input()"
   ]
  },
  {
   "cell_type": "code",
   "execution_count": 5,
   "metadata": {},
   "outputs": [
    {
     "name": "stdout",
     "output_type": "stream",
     "text": [
      "1\n"
     ]
    },
    {
     "data": {
      "text/plain": [
       "'11'"
      ]
     },
     "execution_count": 5,
     "metadata": {},
     "output_type": "execute_result"
    }
   ],
   "source": [
    "a = input()\n",
    "a*2"
   ]
  },
  {
   "cell_type": "code",
   "execution_count": 14,
   "metadata": {},
   "outputs": [
    {
     "name": "stdout",
     "output_type": "stream",
     "text": [
      "1\n"
     ]
    },
    {
     "data": {
      "text/plain": [
       "str"
      ]
     },
     "execution_count": 14,
     "metadata": {},
     "output_type": "execute_result"
    }
   ],
   "source": [
    "type(input())"
   ]
  },
  {
   "cell_type": "code",
   "execution_count": 20,
   "metadata": {},
   "outputs": [
    {
     "data": {
      "text/plain": [
       "'AA'"
      ]
     },
     "execution_count": 20,
     "metadata": {},
     "output_type": "execute_result"
    }
   ],
   "source": [
    "\"A\"*2"
   ]
  },
  {
   "cell_type": "code",
   "execution_count": 6,
   "metadata": {},
   "outputs": [
    {
     "name": "stdout",
     "output_type": "stream",
     "text": [
      "373\n"
     ]
    },
    {
     "data": {
      "text/plain": [
       "746"
      ]
     },
     "execution_count": 6,
     "metadata": {},
     "output_type": "execute_result"
    }
   ],
   "source": [
    "a = int(input())\n",
    "a * 2"
   ]
  },
  {
   "cell_type": "code",
   "execution_count": 8,
   "metadata": {},
   "outputs": [
    {
     "name": "stdout",
     "output_type": "stream",
     "text": [
      "3\n",
      "4\n"
     ]
    },
    {
     "data": {
      "text/plain": [
       "12"
      ]
     },
     "execution_count": 8,
     "metadata": {},
     "output_type": "execute_result"
    }
   ],
   "source": [
    "a,b = int(input()),int(input())\n",
    "a*b"
   ]
  },
  {
   "cell_type": "markdown",
   "metadata": {},
   "source": [
    "# if - 条件分岐\n",
    "\n",
    "if 条件式:\n",
    "    \n",
    "    処理1\n",
    "    \n",
    "    処理2"
   ]
  },
  {
   "cell_type": "markdown",
   "metadata": {},
   "source": [
    "-------------------------------------\n",
    "\n",
    "\n",
    "if 条件式:\n",
    "    \n",
    "    処理1\n",
    "    \n",
    "    処理2\n",
    "    \n",
    "elif 条件式:\n",
    "    \n",
    "    処理1\n",
    "    \n",
    "    処理2\n",
    "\n",
    "else 条件式:\n",
    "    \n",
    "    処理1\n",
    "    \n",
    "    処理2"
   ]
  },
  {
   "cell_type": "code",
   "execution_count": 10,
   "metadata": {},
   "outputs": [
    {
     "name": "stdout",
     "output_type": "stream",
     "text": [
      "240\n",
      "3の倍数だよ！！\n"
     ]
    }
   ],
   "source": [
    "a = int(input())\n",
    "if a%3 == 0:\n",
    "    print(\"3の倍数だよ！！\")\n",
    "else:\n",
    "    print(\"3の倍数じゃないよ！！\")"
   ]
  },
  {
   "cell_type": "markdown",
   "metadata": {},
   "source": [
    "- 3で割り切れるときは「Fizz」を表示\n",
    "- 5で割り切れるときは「Buzz」を表示\n",
    "- 両方で割り切れるときは「FizzBuzz」を表示\n",
    "- それ以外は「foobar」を表示"
   ]
  },
  {
   "cell_type": "markdown",
   "metadata": {},
   "source": [
    "|\n",
    "\n",
    "|\n",
    "\n",
    "|\n",
    "\n",
    "|\n",
    "\n",
    "|\n",
    "\n",
    "|\n",
    "\n",
    "|\n",
    "\n",
    "|\n",
    "\n",
    "|\n",
    "\n",
    "|\n",
    "\n",
    "|\n",
    "\n",
    "|\n",
    "\n",
    "|\n",
    "\n",
    "|\n",
    "\n",
    "|\n",
    "\n",
    "|"
   ]
  },
  {
   "cell_type": "code",
   "execution_count": 12,
   "metadata": {},
   "outputs": [
    {
     "name": "stdout",
     "output_type": "stream",
     "text": [
      "15\n",
      "fizz\n"
     ]
    }
   ],
   "source": [
    "a = int(input())\n",
    "if a%15 == 0:\n",
    "    print(\"fizzbuzz\")\n",
    "elif a%5 == 0:\n",
    "    print(\"buzz\")\n",
    "elif a%3 == 0:\n",
    "    print(\"fizz\")\n",
    "else:\n",
    "    print(\"foobar\")"
   ]
  },
  {
   "cell_type": "markdown",
   "metadata": {},
   "source": [
    "# for - ループ\n",
    "\n",
    "forの用途\n",
    "\n",
    "- 指定した回数ループ\n",
    "- リスト、オブジェクトの要素数分ループし各要素に対して処理"
   ]
  },
  {
   "cell_type": "markdown",
   "metadata": {},
   "source": [
    "Hello World!!を10回表示"
   ]
  },
  {
   "cell_type": "code",
   "execution_count": 13,
   "metadata": {
    "scrolled": true
   },
   "outputs": [
    {
     "name": "stdout",
     "output_type": "stream",
     "text": [
      "Hello World!!\n",
      "Hello World!!\n",
      "Hello World!!\n",
      "Hello World!!\n",
      "Hello World!!\n",
      "Hello World!!\n",
      "Hello World!!\n",
      "Hello World!!\n",
      "Hello World!!\n",
      "Hello World!!\n"
     ]
    }
   ],
   "source": [
    "for _ in range(10):\n",
    "    \n",
    "    print(\"Hello World!!\")"
   ]
  },
  {
   "cell_type": "markdown",
   "metadata": {},
   "source": [
    "# 10回繰り返したいとき　→　range(10)\n",
    "range(繰り返したい回数)"
   ]
  },
  {
   "cell_type": "code",
   "execution_count": 22,
   "metadata": {},
   "outputs": [
    {
     "name": "stdout",
     "output_type": "stream",
     "text": [
      "1\n",
      "2\n",
      "3\n",
      "4\n",
      "5\n",
      "6\n",
      "7\n",
      "8\n",
      "9\n",
      "10\n"
     ]
    }
   ],
   "source": [
    "x = 1\n",
    "for _ in range(10):\n",
    "    print(x)\n",
    "    x += 1"
   ]
  },
  {
   "cell_type": "markdown",
   "metadata": {},
   "source": [
    "x += 1\n",
    "\n",
    "xに1加えた値をxに代入"
   ]
  },
  {
   "cell_type": "markdown",
   "metadata": {},
   "source": [
    "[0,1,2,3,4,5,6,7,8,9,10]"
   ]
  },
  {
   "cell_type": "code",
   "execution_count": 14,
   "metadata": {},
   "outputs": [
    {
     "name": "stdout",
     "output_type": "stream",
     "text": [
      "0\n",
      "1\n",
      "2\n",
      "3\n",
      "4\n",
      "5\n",
      "6\n",
      "7\n",
      "8\n",
      "9\n",
      "10\n"
     ]
    }
   ],
   "source": [
    "l = [0,1,2,3,4,5,6,7,8,9,10]\n",
    "for x in [0,1,2,3,4,5,6,7,8,9,10]:\n",
    "    print(x)"
   ]
  },
  {
   "cell_type": "code",
   "execution_count": 15,
   "metadata": {},
   "outputs": [],
   "source": [
    "import pandas as pd\n",
    "df = pd.read_csv(\"PokemonStatus_Gen8.csv\").set_index(\"ポケモン名\" , drop = False)"
   ]
  },
  {
   "cell_type": "code",
   "execution_count": 18,
   "metadata": {},
   "outputs": [
    {
     "data": {
      "text/html": [
       "<div>\n",
       "<style scoped>\n",
       "    .dataframe tbody tr th:only-of-type {\n",
       "        vertical-align: middle;\n",
       "    }\n",
       "\n",
       "    .dataframe tbody tr th {\n",
       "        vertical-align: top;\n",
       "    }\n",
       "\n",
       "    .dataframe thead th {\n",
       "        text-align: right;\n",
       "    }\n",
       "</style>\n",
       "<table border=\"1\" class=\"dataframe\">\n",
       "  <thead>\n",
       "    <tr style=\"text-align: right;\">\n",
       "      <th></th>\n",
       "      <th>図鑑番号</th>\n",
       "      <th>ポケモン名</th>\n",
       "      <th>タイプ１</th>\n",
       "      <th>タイプ２</th>\n",
       "      <th>通常特性１</th>\n",
       "      <th>通常特性２</th>\n",
       "      <th>夢特性</th>\n",
       "      <th>HP</th>\n",
       "      <th>こうげき</th>\n",
       "      <th>ぼうぎょ</th>\n",
       "      <th>とくこう</th>\n",
       "      <th>とくぼう</th>\n",
       "      <th>すばやさ</th>\n",
       "      <th>合計</th>\n",
       "    </tr>\n",
       "  </thead>\n",
       "  <tbody>\n",
       "    <tr>\n",
       "      <th>フシギソウ</th>\n",
       "      <td>2</td>\n",
       "      <td>フシギソウ</td>\n",
       "      <td>くさ</td>\n",
       "      <td>どく</td>\n",
       "      <td>しんりょく</td>\n",
       "      <td>NaN</td>\n",
       "      <td>ようりょくそ</td>\n",
       "      <td>60</td>\n",
       "      <td>62</td>\n",
       "      <td>63</td>\n",
       "      <td>80</td>\n",
       "      <td>80</td>\n",
       "      <td>60</td>\n",
       "      <td>405</td>\n",
       "    </tr>\n",
       "  </tbody>\n",
       "</table>\n",
       "</div>"
      ],
      "text/plain": [
       "      図鑑番号  ポケモン名 タイプ１ タイプ２  通常特性１ 通常特性２     夢特性  HP こうげき ぼうぎょ とくこう とくぼう すばやさ  \\\n",
       "フシギソウ    2  フシギソウ   くさ   どく  しんりょく   NaN  ようりょくそ  60   62   63   80   80   60   \n",
       "\n",
       "        合計  \n",
       "フシギソウ  405  "
      ]
     },
     "execution_count": 18,
     "metadata": {},
     "output_type": "execute_result"
    }
   ],
   "source": [
    "x=1\n",
    "pd.DataFrame(df.loc[df.index[x],:]).T"
   ]
  },
  {
   "cell_type": "code",
   "execution_count": 20,
   "metadata": {},
   "outputs": [
    {
     "name": "stdout",
     "output_type": "stream",
     "text": [
      "      図鑑番号  ポケモン名 タイプ１ タイプ２  通常特性１ 通常特性２     夢特性  HP こうげき ぼうぎょ とくこう とくぼう すばやさ  \\\n",
      "フシギダネ    1  フシギダネ   くさ   どく  しんりょく   NaN  ようりょくそ  45   49   49   65   65   45   \n",
      "\n",
      "        合計  \n",
      "フシギダネ  318  \n",
      "      図鑑番号  ポケモン名 タイプ１ タイプ２  通常特性１ 通常特性２     夢特性  HP こうげき ぼうぎょ とくこう とくぼう すばやさ  \\\n",
      "フシギソウ    2  フシギソウ   くさ   どく  しんりょく   NaN  ようりょくそ  60   62   63   80   80   60   \n",
      "\n",
      "        合計  \n",
      "フシギソウ  405  \n",
      "      図鑑番号  ポケモン名 タイプ１ タイプ２  通常特性１ 通常特性２     夢特性  HP こうげき ぼうぎょ とくこう とくぼう すばやさ  \\\n",
      "フシギバナ    3  フシギバナ   くさ   どく  しんりょく   NaN  ようりょくそ  80   82   83  100  100   80   \n",
      "\n",
      "        合計  \n",
      "フシギバナ  525  \n",
      "        図鑑番号    ポケモン名 タイプ１ タイプ２   通常特性１ 通常特性２  夢特性  HP こうげき ぼうぎょ とくこう とくぼう  \\\n",
      "メガフシギバナ    3  メガフシギバナ   くさ   どく  あついしぼう   NaN  NaN  80  100  123  122  120   \n",
      "\n",
      "        すばやさ   合計  \n",
      "メガフシギバナ   80  625  \n",
      "     図鑑番号 ポケモン名 タイプ１ タイプ２ 通常特性１ 通常特性２    夢特性  HP こうげき ぼうぎょ とくこう とくぼう すばやさ   合計\n",
      "ヒトカゲ    4  ヒトカゲ  ほのお  NaN   もうか   NaN  サンパワー  39   52   43   60   50   65  309\n",
      "     図鑑番号 ポケモン名 タイプ１ タイプ２ 通常特性１ 通常特性２    夢特性  HP こうげき ぼうぎょ とくこう とくぼう すばやさ   合計\n",
      "リザード    5  リザード  ほのお  NaN   もうか   NaN  サンパワー  58   64   58   80   65   80  405\n",
      "      図鑑番号  ポケモン名 タイプ１ タイプ２ 通常特性１ 通常特性２    夢特性  HP こうげき ぼうぎょ とくこう とくぼう すばやさ  \\\n",
      "リザードン    6  リザードン  ほのお  ひこう   もうか   NaN  サンパワー  78   84   78  109   85  100   \n",
      "\n",
      "        合計  \n",
      "リザードン  534  \n",
      "         図鑑番号     ポケモン名 タイプ１  タイプ２  通常特性１ 通常特性２  夢特性  HP こうげき ぼうぎょ とくこう とくぼう  \\\n",
      "メガリザードンX    6  メガリザードンX  ほのお  ドラゴン  かたいツメ   NaN  NaN  78  130  111  130   85   \n",
      "\n",
      "         すばやさ   合計  \n",
      "メガリザードンX  100  634  \n",
      "         図鑑番号     ポケモン名 タイプ１ タイプ２ 通常特性１ 通常特性２  夢特性  HP こうげき ぼうぎょ とくこう とくぼう  \\\n",
      "メガリザードンY    6  メガリザードンY  ほのお  ひこう   ひでり   NaN  NaN  78  104   78  159  115   \n",
      "\n",
      "         すばやさ   合計  \n",
      "メガリザードンY  100  634  \n",
      "     図鑑番号 ポケモン名 タイプ１ タイプ２  通常特性１ 通常特性２     夢特性  HP こうげき ぼうぎょ とくこう とくぼう すばやさ  \\\n",
      "ゼニガメ    7  ゼニガメ   みず  NaN  げきりゅう   NaN  あめうけざら  44   48   65   50   64   43   \n",
      "\n",
      "       合計  \n",
      "ゼニガメ  314  \n",
      "     図鑑番号 ポケモン名 タイプ１ タイプ２  通常特性１ 通常特性２     夢特性  HP こうげき ぼうぎょ とくこう とくぼう すばやさ  \\\n",
      "カメール    8  カメール   みず  NaN  げきりゅう   NaN  あめうけざら  59   63   80   65   80   58   \n",
      "\n",
      "       合計  \n",
      "カメール  405  \n"
     ]
    }
   ],
   "source": [
    "for x in [0,1,2,3,4,5,6,7,8,9,10]:\n",
    "    print(pd.DataFrame(df.loc[df.index[x],:]).T)    "
   ]
  },
  {
   "cell_type": "code",
   "execution_count": 22,
   "metadata": {},
   "outputs": [
    {
     "data": {
      "text/html": [
       "<div>\n",
       "<style scoped>\n",
       "    .dataframe tbody tr th:only-of-type {\n",
       "        vertical-align: middle;\n",
       "    }\n",
       "\n",
       "    .dataframe tbody tr th {\n",
       "        vertical-align: top;\n",
       "    }\n",
       "\n",
       "    .dataframe thead th {\n",
       "        text-align: right;\n",
       "    }\n",
       "</style>\n",
       "<table border=\"1\" class=\"dataframe\">\n",
       "  <thead>\n",
       "    <tr style=\"text-align: right;\">\n",
       "      <th></th>\n",
       "      <th>図鑑番号</th>\n",
       "      <th>ポケモン名</th>\n",
       "      <th>タイプ１</th>\n",
       "      <th>タイプ２</th>\n",
       "      <th>通常特性１</th>\n",
       "      <th>通常特性２</th>\n",
       "      <th>夢特性</th>\n",
       "      <th>HP</th>\n",
       "      <th>こうげき</th>\n",
       "      <th>ぼうぎょ</th>\n",
       "      <th>とくこう</th>\n",
       "      <th>とくぼう</th>\n",
       "      <th>すばやさ</th>\n",
       "      <th>合計</th>\n",
       "    </tr>\n",
       "    <tr>\n",
       "      <th>ポケモン名</th>\n",
       "      <th></th>\n",
       "      <th></th>\n",
       "      <th></th>\n",
       "      <th></th>\n",
       "      <th></th>\n",
       "      <th></th>\n",
       "      <th></th>\n",
       "      <th></th>\n",
       "      <th></th>\n",
       "      <th></th>\n",
       "      <th></th>\n",
       "      <th></th>\n",
       "      <th></th>\n",
       "      <th></th>\n",
       "    </tr>\n",
       "  </thead>\n",
       "  <tbody>\n",
       "    <tr>\n",
       "      <th>フシギダネ</th>\n",
       "      <td>1</td>\n",
       "      <td>フシギダネ</td>\n",
       "      <td>くさ</td>\n",
       "      <td>どく</td>\n",
       "      <td>しんりょく</td>\n",
       "      <td>NaN</td>\n",
       "      <td>ようりょくそ</td>\n",
       "      <td>45</td>\n",
       "      <td>49</td>\n",
       "      <td>49</td>\n",
       "      <td>65</td>\n",
       "      <td>65</td>\n",
       "      <td>45</td>\n",
       "      <td>318</td>\n",
       "    </tr>\n",
       "    <tr>\n",
       "      <th>フシギソウ</th>\n",
       "      <td>2</td>\n",
       "      <td>フシギソウ</td>\n",
       "      <td>くさ</td>\n",
       "      <td>どく</td>\n",
       "      <td>しんりょく</td>\n",
       "      <td>NaN</td>\n",
       "      <td>ようりょくそ</td>\n",
       "      <td>60</td>\n",
       "      <td>62</td>\n",
       "      <td>63</td>\n",
       "      <td>80</td>\n",
       "      <td>80</td>\n",
       "      <td>60</td>\n",
       "      <td>405</td>\n",
       "    </tr>\n",
       "    <tr>\n",
       "      <th>フシギバナ</th>\n",
       "      <td>3</td>\n",
       "      <td>フシギバナ</td>\n",
       "      <td>くさ</td>\n",
       "      <td>どく</td>\n",
       "      <td>しんりょく</td>\n",
       "      <td>NaN</td>\n",
       "      <td>ようりょくそ</td>\n",
       "      <td>80</td>\n",
       "      <td>82</td>\n",
       "      <td>83</td>\n",
       "      <td>100</td>\n",
       "      <td>100</td>\n",
       "      <td>80</td>\n",
       "      <td>525</td>\n",
       "    </tr>\n",
       "    <tr>\n",
       "      <th>メガフシギバナ</th>\n",
       "      <td>3</td>\n",
       "      <td>メガフシギバナ</td>\n",
       "      <td>くさ</td>\n",
       "      <td>どく</td>\n",
       "      <td>あついしぼう</td>\n",
       "      <td>NaN</td>\n",
       "      <td>NaN</td>\n",
       "      <td>80</td>\n",
       "      <td>100</td>\n",
       "      <td>123</td>\n",
       "      <td>122</td>\n",
       "      <td>120</td>\n",
       "      <td>80</td>\n",
       "      <td>625</td>\n",
       "    </tr>\n",
       "    <tr>\n",
       "      <th>ヒトカゲ</th>\n",
       "      <td>4</td>\n",
       "      <td>ヒトカゲ</td>\n",
       "      <td>ほのお</td>\n",
       "      <td>NaN</td>\n",
       "      <td>もうか</td>\n",
       "      <td>NaN</td>\n",
       "      <td>サンパワー</td>\n",
       "      <td>39</td>\n",
       "      <td>52</td>\n",
       "      <td>43</td>\n",
       "      <td>60</td>\n",
       "      <td>50</td>\n",
       "      <td>65</td>\n",
       "      <td>309</td>\n",
       "    </tr>\n",
       "    <tr>\n",
       "      <th>リザード</th>\n",
       "      <td>5</td>\n",
       "      <td>リザード</td>\n",
       "      <td>ほのお</td>\n",
       "      <td>NaN</td>\n",
       "      <td>もうか</td>\n",
       "      <td>NaN</td>\n",
       "      <td>サンパワー</td>\n",
       "      <td>58</td>\n",
       "      <td>64</td>\n",
       "      <td>58</td>\n",
       "      <td>80</td>\n",
       "      <td>65</td>\n",
       "      <td>80</td>\n",
       "      <td>405</td>\n",
       "    </tr>\n",
       "    <tr>\n",
       "      <th>リザードン</th>\n",
       "      <td>6</td>\n",
       "      <td>リザードン</td>\n",
       "      <td>ほのお</td>\n",
       "      <td>ひこう</td>\n",
       "      <td>もうか</td>\n",
       "      <td>NaN</td>\n",
       "      <td>サンパワー</td>\n",
       "      <td>78</td>\n",
       "      <td>84</td>\n",
       "      <td>78</td>\n",
       "      <td>109</td>\n",
       "      <td>85</td>\n",
       "      <td>100</td>\n",
       "      <td>534</td>\n",
       "    </tr>\n",
       "    <tr>\n",
       "      <th>メガリザードンX</th>\n",
       "      <td>6</td>\n",
       "      <td>メガリザードンX</td>\n",
       "      <td>ほのお</td>\n",
       "      <td>ドラゴン</td>\n",
       "      <td>かたいツメ</td>\n",
       "      <td>NaN</td>\n",
       "      <td>NaN</td>\n",
       "      <td>78</td>\n",
       "      <td>130</td>\n",
       "      <td>111</td>\n",
       "      <td>130</td>\n",
       "      <td>85</td>\n",
       "      <td>100</td>\n",
       "      <td>634</td>\n",
       "    </tr>\n",
       "    <tr>\n",
       "      <th>メガリザードンY</th>\n",
       "      <td>6</td>\n",
       "      <td>メガリザードンY</td>\n",
       "      <td>ほのお</td>\n",
       "      <td>ひこう</td>\n",
       "      <td>ひでり</td>\n",
       "      <td>NaN</td>\n",
       "      <td>NaN</td>\n",
       "      <td>78</td>\n",
       "      <td>104</td>\n",
       "      <td>78</td>\n",
       "      <td>159</td>\n",
       "      <td>115</td>\n",
       "      <td>100</td>\n",
       "      <td>634</td>\n",
       "    </tr>\n",
       "    <tr>\n",
       "      <th>ゼニガメ</th>\n",
       "      <td>7</td>\n",
       "      <td>ゼニガメ</td>\n",
       "      <td>みず</td>\n",
       "      <td>NaN</td>\n",
       "      <td>げきりゅう</td>\n",
       "      <td>NaN</td>\n",
       "      <td>あめうけざら</td>\n",
       "      <td>44</td>\n",
       "      <td>48</td>\n",
       "      <td>65</td>\n",
       "      <td>50</td>\n",
       "      <td>64</td>\n",
       "      <td>43</td>\n",
       "      <td>314</td>\n",
       "    </tr>\n",
       "    <tr>\n",
       "      <th>カメール</th>\n",
       "      <td>8</td>\n",
       "      <td>カメール</td>\n",
       "      <td>みず</td>\n",
       "      <td>NaN</td>\n",
       "      <td>げきりゅう</td>\n",
       "      <td>NaN</td>\n",
       "      <td>あめうけざら</td>\n",
       "      <td>59</td>\n",
       "      <td>63</td>\n",
       "      <td>80</td>\n",
       "      <td>65</td>\n",
       "      <td>80</td>\n",
       "      <td>58</td>\n",
       "      <td>405</td>\n",
       "    </tr>\n",
       "  </tbody>\n",
       "</table>\n",
       "</div>"
      ],
      "text/plain": [
       "          図鑑番号     ポケモン名 タイプ１  タイプ２   通常特性１ 通常特性２     夢特性  HP  こうげき  ぼうぎょ  \\\n",
       "ポケモン名                                                                       \n",
       "フシギダネ        1     フシギダネ   くさ    どく   しんりょく   NaN  ようりょくそ  45    49    49   \n",
       "フシギソウ        2     フシギソウ   くさ    どく   しんりょく   NaN  ようりょくそ  60    62    63   \n",
       "フシギバナ        3     フシギバナ   くさ    どく   しんりょく   NaN  ようりょくそ  80    82    83   \n",
       "メガフシギバナ      3   メガフシギバナ   くさ    どく  あついしぼう   NaN     NaN  80   100   123   \n",
       "ヒトカゲ         4      ヒトカゲ  ほのお   NaN     もうか   NaN   サンパワー  39    52    43   \n",
       "リザード         5      リザード  ほのお   NaN     もうか   NaN   サンパワー  58    64    58   \n",
       "リザードン        6     リザードン  ほのお   ひこう     もうか   NaN   サンパワー  78    84    78   \n",
       "メガリザードンX     6  メガリザードンX  ほのお  ドラゴン   かたいツメ   NaN     NaN  78   130   111   \n",
       "メガリザードンY     6  メガリザードンY  ほのお   ひこう     ひでり   NaN     NaN  78   104    78   \n",
       "ゼニガメ         7      ゼニガメ   みず   NaN   げきりゅう   NaN  あめうけざら  44    48    65   \n",
       "カメール         8      カメール   みず   NaN   げきりゅう   NaN  あめうけざら  59    63    80   \n",
       "\n",
       "          とくこう  とくぼう  すばやさ   合計  \n",
       "ポケモン名                            \n",
       "フシギダネ       65    65    45  318  \n",
       "フシギソウ       80    80    60  405  \n",
       "フシギバナ      100   100    80  525  \n",
       "メガフシギバナ    122   120    80  625  \n",
       "ヒトカゲ        60    50    65  309  \n",
       "リザード        80    65    80  405  \n",
       "リザードン      109    85   100  534  \n",
       "メガリザードンX   130    85   100  634  \n",
       "メガリザードンY   159   115   100  634  \n",
       "ゼニガメ        50    64    43  314  \n",
       "カメール        65    80    58  405  "
      ]
     },
     "execution_count": 22,
     "metadata": {},
     "output_type": "execute_result"
    }
   ],
   "source": [
    "pd.DataFrame(df.loc[df.index[0]:df.index[10],:])"
   ]
  },
  {
   "cell_type": "code",
   "execution_count": 23,
   "metadata": {},
   "outputs": [
    {
     "name": "stdout",
     "output_type": "stream",
     "text": [
      "      図鑑番号  ポケモン名 タイプ１ タイプ２  通常特性１ 通常特性２     夢特性  HP こうげき ぼうぎょ とくこう とくぼう すばやさ  \\\n",
      "フシギダネ    1  フシギダネ   くさ   どく  しんりょく   NaN  ようりょくそ  45   49   49   65   65   45   \n",
      "\n",
      "        合計  \n",
      "フシギダネ  318  \n",
      "        図鑑番号    ポケモン名 タイプ１ タイプ２   通常特性１ 通常特性２  夢特性  HP こうげき ぼうぎょ とくこう とくぼう  \\\n",
      "メガフシギバナ    3  メガフシギバナ   くさ   どく  あついしぼう   NaN  NaN  80  100  123  122  120   \n",
      "\n",
      "        すばやさ   合計  \n",
      "メガフシギバナ   80  625  \n",
      "     図鑑番号 ポケモン名 タイプ１ タイプ２ 通常特性１ 通常特性２    夢特性  HP こうげき ぼうぎょ とくこう とくぼう すばやさ   合計\n",
      "リザード    5  リザード  ほのお  NaN   もうか   NaN  サンパワー  58   64   58   80   65   80  405\n",
      "     図鑑番号 ポケモン名 タイプ１ タイプ２ 通常特性１ 通常特性２  夢特性  HP こうげき ぼうぎょ とくこう とくぼう すばやさ   合計\n",
      "コクーン   14  コクーン   むし   どく   だっぴ   NaN  NaN  45   25   50   25   25   35  205\n",
      "     図鑑番号 ポケモン名  タイプ１ タイプ２  通常特性１  通常特性２   夢特性  HP こうげき ぼうぎょ とくこう とくぼう すばやさ  \\\n",
      "ピジョン   17  ピジョン  ノーマル  ひこう  するどいめ  ちどりあし  はとむね  63   60   55   50   50   71   \n",
      "\n",
      "       合計  \n",
      "ピジョン  349  \n",
      "               図鑑番号           ポケモン名 タイプ１  タイプ２   通常特性１ 通常特性２     夢特性  HP こうげき  \\\n",
      "コラッタ(アローラのすがた)   19  コラッタ(アローラのすがた)   あく  ノーマル  くいしんぼう  はりきり  あついしぼう  30   56   \n",
      "\n",
      "               ぼうぎょ とくこう とくぼう すばやさ   合計  \n",
      "コラッタ(アローラのすがた)   35   25   35   72  253  \n",
      "    図鑑番号 ポケモン名   タイプ１ タイプ２    通常特性１    通常特性２      夢特性  HP こうげき ぼうぎょ とくこう とくぼう  \\\n",
      "ピッピ   35   ピッピ  フェアリー  NaN  メロメロボディ  マジックガード  フレンドガード  70   45   48   60   65   \n",
      "\n",
      "    すばやさ   合計  \n",
      "ピッピ   35  323  \n",
      "      図鑑番号  ポケモン名 タイプ１ タイプ２   通常特性１ 通常特性２    夢特性  HP こうげき ぼうぎょ とくこう とくぼう すばやさ  \\\n",
      "クサイハナ   44  クサイハナ   くさ   どく  ようりょくそ   NaN  あくしゅう  60   65   70   85   75   40   \n",
      "\n",
      "        合計  \n",
      "クサイハナ  395  \n",
      "              図鑑番号          ポケモン名  タイプ１ タイプ２ 通常特性１    通常特性２    夢特性  HP こうげき  \\\n",
      "ポニータ(ガラルのすがた)   77  ポニータ(ガラルのすがた)  エスパー  NaN  にげあし  パステルベール  きけんよち  50   85   \n",
      "\n",
      "              ぼうぎょ とくこう とくぼう すばやさ   合計  \n",
      "ポニータ(ガラルのすがた)   55   65   65   90  410  \n",
      "      図鑑番号  ポケモン名 タイプ１ タイプ２ 通常特性１ 通常特性２      夢特性  HP こうげき ぼうぎょ とくこう とくぼう すばやさ  \\\n",
      "ギャロップ   78  ギャロップ  ほのお  NaN  にげあし  もらいび  ほのおのからだ  65  100   70   80   80  105   \n",
      "\n",
      "        合計  \n",
      "ギャロップ  500  \n"
     ]
    }
   ],
   "source": [
    "for x in [0,3,5,17,21,25,46,57,100,101]:\n",
    "    print(pd.DataFrame(df.loc[df.index[x],:]).T) "
   ]
  },
  {
   "cell_type": "code",
   "execution_count": 24,
   "metadata": {},
   "outputs": [
    {
     "name": "stdout",
     "output_type": "stream",
     "text": [
      "0\n",
      "1\n",
      "2\n",
      "3\n",
      "4\n",
      "5\n",
      "6\n",
      "7\n",
      "8\n",
      "9\n"
     ]
    }
   ],
   "source": [
    "for x in range(10):\n",
    "    print(x)"
   ]
  },
  {
   "cell_type": "code",
   "execution_count": 25,
   "metadata": {},
   "outputs": [
    {
     "name": "stdout",
     "output_type": "stream",
     "text": [
      "0\n",
      "3\n",
      "5\n",
      "17\n",
      "21\n",
      "25\n",
      "46\n",
      "57\n",
      "100\n",
      "101\n"
     ]
    }
   ],
   "source": [
    "for x in [0,3,5,17,21,25,46,57,100,101]:\n",
    "    print(x)"
   ]
  },
  {
   "cell_type": "markdown",
   "metadata": {},
   "source": [
    "- 3で割り切れるときは「Fizz」を表示\n",
    "- 5で割り切れるときは「Buzz」を表示\n",
    "- 両方で割り切れるときは「FizzBuzz」を表示\n",
    "- それ以外は「foobar」を表示\n",
    "\n",
    "↓\n",
    "\n",
    "0～50までの結果を一気に表示\n"
   ]
  },
  {
   "cell_type": "markdown",
   "metadata": {},
   "source": [
    "range(10) = [0,1,2,3,4,5,6,7,8,9]"
   ]
  },
  {
   "cell_type": "code",
   "execution_count": 31,
   "metadata": {},
   "outputs": [
    {
     "name": "stdout",
     "output_type": "stream",
     "text": [
      "0 :fizzbuzz\n",
      "1 :foobar\n",
      "2 :foobar\n",
      "3 :fizz\n",
      "4 :foobar\n",
      "5 :buzz\n",
      "6 :fizz\n",
      "7 :foobar\n",
      "8 :foobar\n",
      "9 :fizz\n",
      "10 :buzz\n",
      "11 :foobar\n",
      "12 :fizz\n",
      "13 :foobar\n",
      "14 :foobar\n",
      "15 :fizzbuzz\n",
      "16 :foobar\n",
      "17 :foobar\n",
      "18 :fizz\n",
      "19 :foobar\n",
      "20 :buzz\n",
      "21 :fizz\n",
      "22 :foobar\n",
      "23 :foobar\n",
      "24 :fizz\n",
      "25 :buzz\n",
      "26 :foobar\n",
      "27 :fizz\n",
      "28 :foobar\n",
      "29 :foobar\n",
      "30 :fizzbuzz\n",
      "31 :foobar\n",
      "32 :foobar\n",
      "33 :fizz\n",
      "34 :foobar\n",
      "35 :buzz\n",
      "36 :fizz\n",
      "37 :foobar\n",
      "38 :foobar\n",
      "39 :fizz\n",
      "40 :buzz\n",
      "41 :foobar\n",
      "42 :fizz\n",
      "43 :foobar\n",
      "44 :foobar\n",
      "45 :fizzbuzz\n",
      "46 :foobar\n",
      "47 :foobar\n",
      "48 :fizz\n",
      "49 :foobar\n",
      "50 :buzz\n"
     ]
    }
   ],
   "source": [
    "for a in range(51):\n",
    "    if a%15 == 0:\n",
    "        print(a,\":fizzbuzz\")\n",
    "    elif a%5 == 0:\n",
    "        print(a,\":buzz\")\n",
    "    elif a%3 == 0:\n",
    "        print(a,\":fizz\")\n",
    "    else:\n",
    "        print(a,\":foobar\")"
   ]
  },
  {
   "cell_type": "markdown",
   "metadata": {},
   "source": [
    "# 多重ループについて"
   ]
  },
  {
   "cell_type": "code",
   "execution_count": 32,
   "metadata": {},
   "outputs": [
    {
     "name": "stdout",
     "output_type": "stream",
     "text": [
      "0\n",
      "0\n",
      "0\n",
      "0\n",
      "0\n",
      "0\n",
      "0\n",
      "0\n",
      "0\n",
      "0\n",
      "0\n",
      "1\n",
      "2\n",
      "3\n",
      "4\n",
      "5\n",
      "6\n",
      "7\n",
      "8\n",
      "9\n",
      "0\n",
      "2\n",
      "4\n",
      "6\n",
      "8\n",
      "10\n",
      "12\n",
      "14\n",
      "16\n",
      "18\n",
      "0\n",
      "3\n",
      "6\n",
      "9\n",
      "12\n",
      "15\n",
      "18\n",
      "21\n",
      "24\n",
      "27\n",
      "0\n",
      "4\n",
      "8\n",
      "12\n",
      "16\n",
      "20\n",
      "24\n",
      "28\n",
      "32\n",
      "36\n",
      "0\n",
      "5\n",
      "10\n",
      "15\n",
      "20\n",
      "25\n",
      "30\n",
      "35\n",
      "40\n",
      "45\n",
      "0\n",
      "6\n",
      "12\n",
      "18\n",
      "24\n",
      "30\n",
      "36\n",
      "42\n",
      "48\n",
      "54\n",
      "0\n",
      "7\n",
      "14\n",
      "21\n",
      "28\n",
      "35\n",
      "42\n",
      "49\n",
      "56\n",
      "63\n",
      "0\n",
      "8\n",
      "16\n",
      "24\n",
      "32\n",
      "40\n",
      "48\n",
      "56\n",
      "64\n",
      "72\n",
      "0\n",
      "9\n",
      "18\n",
      "27\n",
      "36\n",
      "45\n",
      "54\n",
      "63\n",
      "72\n",
      "81\n"
     ]
    }
   ],
   "source": [
    "for x in range(10): #[0,1,2,3,4,5,6,7,8,9]\n",
    "    for y in range(10): #[0,1,2,3,4,5,6,7,8,9]\n",
    "        print(x*y)"
   ]
  },
  {
   "cell_type": "code",
   "execution_count": 34,
   "metadata": {},
   "outputs": [
    {
     "data": {
      "text/plain": [
       "'P'"
      ]
     },
     "execution_count": 34,
     "metadata": {},
     "output_type": "execute_result"
    }
   ],
   "source": [
    "target = \"PythonLab\"\n",
    "target[0]"
   ]
  },
  {
   "cell_type": "code",
   "execution_count": 35,
   "metadata": {},
   "outputs": [
    {
     "data": {
      "text/plain": [
       "'tho'"
      ]
     },
     "execution_count": 35,
     "metadata": {},
     "output_type": "execute_result"
    }
   ],
   "source": [
    "target[2:5]"
   ]
  },
  {
   "cell_type": "code",
   "execution_count": 37,
   "metadata": {},
   "outputs": [
    {
     "data": {
      "text/plain": [
       "'b'"
      ]
     },
     "execution_count": 37,
     "metadata": {},
     "output_type": "execute_result"
    }
   ],
   "source": [
    "target[-1]"
   ]
  },
  {
   "cell_type": "code",
   "execution_count": 38,
   "metadata": {},
   "outputs": [
    {
     "data": {
      "text/plain": [
       "'2'"
      ]
     },
     "execution_count": 38,
     "metadata": {},
     "output_type": "execute_result"
    }
   ],
   "source": [
    "targetnum = \"20201205\"\n",
    "targetnum[0]"
   ]
  },
  {
   "cell_type": "code",
   "execution_count": 46,
   "metadata": {},
   "outputs": [
    {
     "name": "stdout",
     "output_type": "stream",
     "text": [
      "20180901\n",
      "20180902\n",
      "20180903\n",
      "20180904\n"
     ]
    }
   ],
   "source": [
    "from datetime import datetime\n",
    "from datetime import timedelta\n",
    "\n",
    "start = datetime(2018,9,1)\n",
    "end = datetime(2018,9,5)\n",
    "\n",
    "def daterange(_start, _end):\n",
    "    for n in range((_end - _start).days):\n",
    "        yield _start + timedelta(n)\n",
    "\n",
    "for i in daterange(start,end):\n",
    "    print(i.strftime(\"%Y%m%d\"))"
   ]
  }
 ],
 "metadata": {
  "kernelspec": {
   "display_name": "Python 3",
   "language": "python",
   "name": "python3"
  },
  "language_info": {
   "codemirror_mode": {
    "name": "ipython",
    "version": 3
   },
   "file_extension": ".py",
   "mimetype": "text/x-python",
   "name": "python",
   "nbconvert_exporter": "python",
   "pygments_lexer": "ipython3",
   "version": "3.8.5"
  }
 },
 "nbformat": 4,
 "nbformat_minor": 4
}
