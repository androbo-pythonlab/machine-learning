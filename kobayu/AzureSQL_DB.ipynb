{
 "cells": [
  {
   "cell_type": "code",
   "execution_count": null,
   "metadata": {},
   "outputs": [],
   "source": [
    "pip install pyodbc"
   ]
  },
  {
   "cell_type": "code",
   "execution_count": 1,
   "metadata": {},
   "outputs": [],
   "source": [
    "import pyodbc"
   ]
  },
  {
   "cell_type": "code",
   "execution_count": null,
   "metadata": {},
   "outputs": [],
   "source": [
    "cnxn = pyodbc.connect('Driver={ODBC Driver 13 for SQL Server};Server=tcp:pythonlab.database.windows.net,1433;Database=PythonLab;Uid=pythonlabadmin;Pwd=PythonLab2020;Encrypt=yes;TrustServerCertificate=no;Connection Timeout=30;')\n",
    "cursor = cnxn.cursor()"
   ]
  },
  {
   "cell_type": "code",
   "execution_count": null,
   "metadata": {},
   "outputs": [],
   "source": [
    "cnxn = pyodbc.connect('Driver={SQL Server};Server=tcp:pythonlab.database.windows.net,1433;Database=PythonLab;Uid=pythonlabadmin;Pwd=PythonLab2020;Encrypt=yes;TrustServerCertificate=no;Connection Timeout=30;')\n",
    "cursor = cnxn.cursor()"
   ]
  },
  {
   "cell_type": "code",
   "execution_count": 8,
   "metadata": {},
   "outputs": [],
   "source": [
    "cnxn = pyodbc.connect('Driver={SQL Server};Server=tcp:pythonlab.database.windows.net,1433;Database=PythonLab;Uid=yuuki_kobayashi;Pwd=B6hXYRKz;Encrypt=yes;TrustServerCertificate=no;Connection Timeout=30;')\n",
    "cursor = cnxn.cursor()"
   ]
  },
  {
   "cell_type": "code",
   "execution_count": 13,
   "metadata": {},
   "outputs": [
    {
     "name": "stdout",
     "output_type": "stream",
     "text": [
      "('c00001', '1    ', datetime.datetime(1900, 1, 1, 0, 0), datetime.datetime(1900, 1, 1, 0, 0), 1)\n"
     ]
    }
   ],
   "source": [
    "with cursor.execute(\"SELECT TOP (1000) [CardID],[CustomerID] ,[IssueDate] ,[ExpireDate] ,[EmployeeID] FROM [dbo].[CardInfo]\") :\n",
    "    rows = cursor.fetchall()\n",
    "    for row in rows:\n",
    "        print(row)"
   ]
  },
  {
   "cell_type": "code",
   "execution_count": 25,
   "metadata": {},
   "outputs": [
    {
     "data": {
      "text/plain": [
       "'c00001'"
      ]
     },
     "execution_count": 25,
     "metadata": {},
     "output_type": "execute_result"
    }
   ],
   "source": [
    "row.CardID"
   ]
  }
 ],
 "metadata": {
  "kernelspec": {
   "display_name": "Python 3",
   "language": "python",
   "name": "python3"
  },
  "language_info": {
   "codemirror_mode": {
    "name": "ipython",
    "version": 3
   },
   "file_extension": ".py",
   "mimetype": "text/x-python",
   "name": "python",
   "nbconvert_exporter": "python",
   "pygments_lexer": "ipython3",
   "version": "3.8.5"
  }
 },
 "nbformat": 4,
 "nbformat_minor": 4
}
