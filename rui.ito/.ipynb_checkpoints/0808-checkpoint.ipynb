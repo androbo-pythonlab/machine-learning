{
 "cells": [
  {
   "cell_type": "code",
   "execution_count": 84,
   "metadata": {},
   "outputs": [],
   "source": [
    "import numpy as np\n",
    "import pandas as pd"
   ]
  },
  {
   "cell_type": "markdown",
   "metadata": {},
   "source": [
    "## スカラー"
   ]
  },
  {
   "cell_type": "code",
   "execution_count": null,
   "metadata": {},
   "outputs": [],
   "source": [
    "1 [1]"
   ]
  },
  {
   "cell_type": "code",
   "execution_count": 25,
   "metadata": {},
   "outputs": [],
   "source": [
    "a=[1,5]\n",
    "b=[1,5,8,8,9]\n",
    "\n",
    "c = [[1],[2],[3],[4]]"
   ]
  },
  {
   "cell_type": "markdown",
   "metadata": {},
   "source": [
    "## 行列"
   ]
  },
  {
   "cell_type": "code",
   "execution_count": 26,
   "metadata": {},
   "outputs": [],
   "source": [
    "d = [\n",
    "    [1,2,3,4,5],\n",
    "    [6,7,8,9,0],\n",
    "    [4,9,7,8,9],\n",
    "]\n",
    "\n",
    "#転置行列\n",
    "e = [\n",
    "    [1,6,4],\n",
    "    [2,7,9],\n",
    "    [3,8,7],\n",
    "    [4,9,8],\n",
    "    [5,0,9]\n",
    "]"
   ]
  },
  {
   "cell_type": "code",
   "execution_count": 40,
   "metadata": {},
   "outputs": [
    {
     "data": {
      "text/plain": [
       "[[1, 2, 3, 4, 5],\n",
       " [6, 7, 8, 9, 0],\n",
       " [4, 9, 7, 8, 9],\n",
       " [1, 6, 4],\n",
       " [2, 7, 9],\n",
       " [3, 8, 7],\n",
       " [4, 9, 8],\n",
       " [5, 0, 9]]"
      ]
     },
     "execution_count": 40,
     "metadata": {},
     "output_type": "execute_result"
    }
   ],
   "source": [
    "d+e"
   ]
  },
  {
   "cell_type": "code",
   "execution_count": 41,
   "metadata": {},
   "outputs": [
    {
     "ename": "TypeError",
     "evalue": "can't multiply sequence by non-int of type 'list'",
     "output_type": "error",
     "traceback": [
      "\u001b[0;31m---------------------------------------------------------------------------\u001b[0m",
      "\u001b[0;31mTypeError\u001b[0m                                 Traceback (most recent call last)",
      "\u001b[0;32m<ipython-input-41-7ae455585254>\u001b[0m in \u001b[0;36m<module>\u001b[0;34m\u001b[0m\n\u001b[0;32m----> 1\u001b[0;31m \u001b[0md\u001b[0m\u001b[0;34m*\u001b[0m\u001b[0me\u001b[0m\u001b[0;34m\u001b[0m\u001b[0;34m\u001b[0m\u001b[0m\n\u001b[0m",
      "\u001b[0;31mTypeError\u001b[0m: can't multiply sequence by non-int of type 'list'"
     ]
    }
   ],
   "source": [
    "d*e"
   ]
  },
  {
   "cell_type": "code",
   "execution_count": 28,
   "metadata": {},
   "outputs": [
    {
     "data": {
      "text/plain": [
       "array([['1', '2', '3', '4', '5'],\n",
       "       ['6', '7', '8', '9', '0'],\n",
       "       ['4', '9', '7', '8', '9'],\n",
       "       ['おはよう', 'こんにちわ', 'こんばんわ', 'いただきます', '']], dtype='<U21')"
      ]
     },
     "execution_count": 28,
     "metadata": {},
     "output_type": "execute_result"
    }
   ],
   "source": [
    "a = np.array( [\n",
    "    [1,2,3,4,5],\n",
    "    [6,7,8,9,0],\n",
    "    [4,9,7,8,9],\n",
    "    ['おはよう','こんにちわ','こんばんわ','いただきます','']\n",
    "])\n",
    "a"
   ]
  },
  {
   "cell_type": "code",
   "execution_count": 13,
   "metadata": {},
   "outputs": [
    {
     "data": {
      "text/plain": [
       "(4, 5)"
      ]
     },
     "execution_count": 13,
     "metadata": {},
     "output_type": "execute_result"
    }
   ],
   "source": [
    "np.shape(a)"
   ]
  },
  {
   "cell_type": "code",
   "execution_count": 14,
   "metadata": {},
   "outputs": [
    {
     "data": {
      "text/plain": [
       "array([['1', '6', '4', 'おはよう'],\n",
       "       ['2', '7', '9', 'こんにちわ'],\n",
       "       ['3', '8', '7', 'こんばんわ'],\n",
       "       ['4', '9', '8', 'いただきます'],\n",
       "       ['5', '0', '9', '']], dtype='<U21')"
      ]
     },
     "execution_count": 14,
     "metadata": {},
     "output_type": "execute_result"
    }
   ],
   "source": [
    "np.transpose(a)"
   ]
  },
  {
   "cell_type": "code",
   "execution_count": 31,
   "metadata": {},
   "outputs": [],
   "source": [
    "a_list=[2,6,6,5,1]\n",
    "x=2"
   ]
  },
  {
   "cell_type": "code",
   "execution_count": 33,
   "metadata": {},
   "outputs": [
    {
     "data": {
      "text/plain": [
       "array([[1, 2, 3, 4, 5],\n",
       "       [6, 7, 8, 9, 0],\n",
       "       [4, 9, 7, 8, 2],\n",
       "       [2, 6, 6, 5, 1]])"
      ]
     },
     "execution_count": 33,
     "metadata": {},
     "output_type": "execute_result"
    }
   ],
   "source": [
    "a = np.array( [\n",
    "    [1,2,3,4,5],\n",
    "    [6,7,8,9,0],\n",
    "    [4,9,7,8,x],\n",
    "    a_list\n",
    "])\n",
    "a"
   ]
  },
  {
   "cell_type": "markdown",
   "metadata": {},
   "source": [
    "### 行列足し算"
   ]
  },
  {
   "cell_type": "code",
   "execution_count": 37,
   "metadata": {},
   "outputs": [
    {
     "data": {
      "text/plain": [
       "array([[ 2,  4,  6,  8, 10],\n",
       "       [12, 14, 16, 18,  0],\n",
       "       [ 8, 18, 14, 16,  4],\n",
       "       [ 4, 12, 12, 10,  2]])"
      ]
     },
     "execution_count": 37,
     "metadata": {},
     "output_type": "execute_result"
    }
   ],
   "source": [
    "a + a"
   ]
  },
  {
   "cell_type": "code",
   "execution_count": 39,
   "metadata": {},
   "outputs": [
    {
     "data": {
      "text/plain": [
       "array([[10, 20, 30, 40, 50],\n",
       "       [60, 70, 80, 90,  0],\n",
       "       [40, 90, 70, 80, 20],\n",
       "       [20, 60, 60, 50, 10]])"
      ]
     },
     "execution_count": 39,
     "metadata": {},
     "output_type": "execute_result"
    }
   ],
   "source": [
    "a*10"
   ]
  },
  {
   "cell_type": "markdown",
   "metadata": {},
   "source": [
    "### numpy.dot()\n",
    "形の違う行列の掛け算"
   ]
  },
  {
   "cell_type": "code",
   "execution_count": 43,
   "metadata": {},
   "outputs": [
    {
     "data": {
      "text/plain": [
       "array([[1, 6, 4, 2],\n",
       "       [2, 7, 9, 6],\n",
       "       [3, 8, 7, 6],\n",
       "       [4, 9, 8, 5],\n",
       "       [5, 0, 2, 1]])"
      ]
     },
     "execution_count": 43,
     "metadata": {},
     "output_type": "execute_result"
    }
   ],
   "source": [
    "b = np.transpose(a)\n",
    "b"
   ]
  },
  {
   "cell_type": "code",
   "execution_count": 45,
   "metadata": {},
   "outputs": [
    {
     "data": {
      "text/plain": [
       "(4, 5)"
      ]
     },
     "execution_count": 45,
     "metadata": {},
     "output_type": "execute_result"
    }
   ],
   "source": [
    "np.shape(a)"
   ]
  },
  {
   "cell_type": "code",
   "execution_count": 46,
   "metadata": {},
   "outputs": [
    {
     "data": {
      "text/plain": [
       "(5, 4)"
      ]
     },
     "execution_count": 46,
     "metadata": {},
     "output_type": "execute_result"
    }
   ],
   "source": [
    "np.shape(b)"
   ]
  },
  {
   "cell_type": "code",
   "execution_count": 44,
   "metadata": {},
   "outputs": [
    {
     "data": {
      "text/plain": [
       "array([[ 55,  80,  85,  57],\n",
       "       [ 80, 230, 215, 147],\n",
       "       [ 85, 215, 214, 146],\n",
       "       [ 57, 147, 146, 102]])"
      ]
     },
     "execution_count": 44,
     "metadata": {},
     "output_type": "execute_result"
    }
   ],
   "source": [
    "np.dot(a,b)"
   ]
  },
  {
   "cell_type": "markdown",
   "metadata": {},
   "source": [
    "#### numpy.matrixは2次元配列に特化"
   ]
  },
  {
   "cell_type": "markdown",
   "metadata": {},
   "source": [
    "## 逆行列: numpy.linalg.inv()\n",
    "linear algebra:線形代数　　　　逆行列の条件:正則行列"
   ]
  },
  {
   "cell_type": "code",
   "execution_count": 64,
   "metadata": {},
   "outputs": [
    {
     "data": {
      "text/plain": [
       "array([[1, 0],\n",
       "       [0, 2]])"
      ]
     },
     "execution_count": 64,
     "metadata": {},
     "output_type": "execute_result"
    }
   ],
   "source": [
    "f=np.array([[1,0], [0, 2]] )\n",
    "f"
   ]
  },
  {
   "cell_type": "code",
   "execution_count": 65,
   "metadata": {},
   "outputs": [
    {
     "data": {
      "text/plain": [
       "array([[1. , 0. ],\n",
       "       [0. , 0.5]])"
      ]
     },
     "execution_count": 65,
     "metadata": {},
     "output_type": "execute_result"
    }
   ],
   "source": [
    "f_inv = np.linalg.inv(f)\n",
    "f_inv"
   ]
  },
  {
   "cell_type": "markdown",
   "metadata": {},
   "source": [
    "### 元の行列と逆行列を掛け算すると単位行列が産出される\n",
    "単位行列"
   ]
  },
  {
   "cell_type": "code",
   "execution_count": 66,
   "metadata": {},
   "outputs": [
    {
     "data": {
      "text/plain": [
       "array([[1., 0.],\n",
       "       [0., 1.]])"
      ]
     },
     "execution_count": 66,
     "metadata": {},
     "output_type": "execute_result"
    }
   ],
   "source": [
    "np.dot(f,f_inv)"
   ]
  },
  {
   "cell_type": "code",
   "execution_count": 81,
   "metadata": {},
   "outputs": [],
   "source": [
    "h= np.array([\n",
    "    [[5,1],[3,-1]],\n",
    "    [[3,2],[-3,0]],\n",
    "    [[0,1],[1,-6]]\n",
    "    ]\n",
    ")"
   ]
  },
  {
   "cell_type": "code",
   "execution_count": 82,
   "metadata": {},
   "outputs": [
    {
     "data": {
      "text/plain": [
       "array([[[ 0.125     ,  0.125     ],\n",
       "        [ 0.375     , -0.625     ]],\n",
       "\n",
       "       [[ 0.        , -0.33333333],\n",
       "        [ 0.5       ,  0.5       ]],\n",
       "\n",
       "       [[ 6.        ,  1.        ],\n",
       "        [ 1.        ,  0.        ]]])"
      ]
     },
     "execution_count": 82,
     "metadata": {},
     "output_type": "execute_result"
    }
   ],
   "source": [
    "h_inv = np.linalg.inv(h)\n",
    "h_inv"
   ]
  },
  {
   "cell_type": "code",
   "execution_count": 83,
   "metadata": {},
   "outputs": [
    {
     "data": {
      "text/plain": [
       "array([[[[ 1.00000000e+00,  0.00000000e+00],\n",
       "         [ 5.00000000e-01, -1.16666667e+00],\n",
       "         [ 3.10000000e+01,  5.00000000e+00]],\n",
       "\n",
       "        [[ 5.55111512e-17,  1.00000000e+00],\n",
       "         [-5.00000000e-01, -1.50000000e+00],\n",
       "         [ 1.70000000e+01,  3.00000000e+00]]],\n",
       "\n",
       "\n",
       "       [[[ 1.12500000e+00, -8.75000000e-01],\n",
       "         [ 1.00000000e+00,  0.00000000e+00],\n",
       "         [ 2.00000000e+01,  3.00000000e+00]],\n",
       "\n",
       "        [[-3.75000000e-01, -3.75000000e-01],\n",
       "         [ 0.00000000e+00,  1.00000000e+00],\n",
       "         [-1.80000000e+01, -3.00000000e+00]]],\n",
       "\n",
       "\n",
       "       [[[ 3.75000000e-01, -6.25000000e-01],\n",
       "         [ 5.00000000e-01,  5.00000000e-01],\n",
       "         [ 1.00000000e+00,  0.00000000e+00]],\n",
       "\n",
       "        [[-2.12500000e+00,  3.87500000e+00],\n",
       "         [-3.00000000e+00, -3.33333333e+00],\n",
       "         [ 0.00000000e+00,  1.00000000e+00]]]])"
      ]
     },
     "execution_count": 83,
     "metadata": {},
     "output_type": "execute_result"
    }
   ],
   "source": [
    "np.dot(h,h_inv)"
   ]
  },
  {
   "cell_type": "markdown",
   "metadata": {},
   "source": [
    "## 行列式: numpy.linalg.det()\n",
    "determinant:決定力のある、限定的な、行列式"
   ]
  },
  {
   "cell_type": "code",
   "execution_count": 78,
   "metadata": {},
   "outputs": [
    {
     "data": {
      "text/plain": [
       "2.0"
      ]
     },
     "execution_count": 78,
     "metadata": {},
     "output_type": "execute_result"
    }
   ],
   "source": [
    "np.linalg.det(f)"
   ]
  },
  {
   "cell_type": "code",
   "execution_count": 79,
   "metadata": {},
   "outputs": [
    {
     "data": {
      "text/plain": [
       "array([-8.,  6., -1.])"
      ]
     },
     "execution_count": 79,
     "metadata": {},
     "output_type": "execute_result"
    }
   ],
   "source": [
    "np.linalg.det(h)"
   ]
  },
  {
   "cell_type": "markdown",
   "metadata": {},
   "source": [
    "# pandas"
   ]
  },
  {
   "cell_type": "markdown",
   "metadata": {},
   "source": [
    "### csvファイル読み込み"
   ]
  },
  {
   "cell_type": "code",
   "execution_count": 87,
   "metadata": {},
   "outputs": [
    {
     "data": {
      "text/html": [
       "<div>\n",
       "<style scoped>\n",
       "    .dataframe tbody tr th:only-of-type {\n",
       "        vertical-align: middle;\n",
       "    }\n",
       "\n",
       "    .dataframe tbody tr th {\n",
       "        vertical-align: top;\n",
       "    }\n",
       "\n",
       "    .dataframe thead th {\n",
       "        text-align: right;\n",
       "    }\n",
       "</style>\n",
       "<table border=\"1\" class=\"dataframe\">\n",
       "  <thead>\n",
       "    <tr style=\"text-align: right;\">\n",
       "      <th></th>\n",
       "      <th>CreationDate</th>\n",
       "      <th>UserIds</th>\n",
       "      <th>Operations</th>\n",
       "      <th>AuditData</th>\n",
       "    </tr>\n",
       "  </thead>\n",
       "  <tbody>\n",
       "    <tr>\n",
       "      <th>0</th>\n",
       "      <td>2020-08-03T05:57:22.0000000Z</td>\n",
       "      <td>arq-member@androbotics.onmicrosoft.com</td>\n",
       "      <td>UserLoggedIn</td>\n",
       "      <td>{\"CreationTime\":\"2020-08-03T05:57:22\",\"Id\":\"35...</td>\n",
       "    </tr>\n",
       "    <tr>\n",
       "      <th>1</th>\n",
       "      <td>2020-08-03T06:04:17.0000000Z</td>\n",
       "      <td>arn-member@androbotics.onmicrosoft.com</td>\n",
       "      <td>UserLoggedIn</td>\n",
       "      <td>{\"CreationTime\":\"2020-08-03T06:04:17\",\"Id\":\"4e...</td>\n",
       "    </tr>\n",
       "    <tr>\n",
       "      <th>2</th>\n",
       "      <td>2020-08-03T06:04:17.0000000Z</td>\n",
       "      <td>arn-member@androbotics.onmicrosoft.com</td>\n",
       "      <td>UserLoggedIn</td>\n",
       "      <td>{\"CreationTime\":\"2020-08-03T06:04:17\",\"Id\":\"9e...</td>\n",
       "    </tr>\n",
       "    <tr>\n",
       "      <th>3</th>\n",
       "      <td>2020-08-03T06:19:47.0000000Z</td>\n",
       "      <td>s.ida@ml.androbo.co.jp</td>\n",
       "      <td>FileSyncUploadedFull</td>\n",
       "      <td>{\"CreationTime\":\"2020-08-03T06:19:47\",\"Id\":\"f0...</td>\n",
       "    </tr>\n",
       "    <tr>\n",
       "      <th>4</th>\n",
       "      <td>2020-08-03T06:19:58.0000000Z</td>\n",
       "      <td>s.ida@ml.androbo.co.jp</td>\n",
       "      <td>FileRenamed</td>\n",
       "      <td>{\"CreationTime\":\"2020-08-03T06:19:58\",\"Id\":\"7c...</td>\n",
       "    </tr>\n",
       "    <tr>\n",
       "      <th>...</th>\n",
       "      <td>...</td>\n",
       "      <td>...</td>\n",
       "      <td>...</td>\n",
       "      <td>...</td>\n",
       "    </tr>\n",
       "    <tr>\n",
       "      <th>30821</th>\n",
       "      <td>2020-07-28T22:49:03.0000000Z</td>\n",
       "      <td>aro-member@androbotics.onmicrosoft.com</td>\n",
       "      <td>CompanyLinkUsed</td>\n",
       "      <td>{\"CreationTime\":\"2020-07-28T22:49:03\",\"Id\":\"d7...</td>\n",
       "    </tr>\n",
       "    <tr>\n",
       "      <th>30822</th>\n",
       "      <td>2020-07-28T22:49:03.0000000Z</td>\n",
       "      <td>aro-member@androbotics.onmicrosoft.com</td>\n",
       "      <td>FileAccessed</td>\n",
       "      <td>{\"CreationTime\":\"2020-07-28T22:49:03\",\"Id\":\"62...</td>\n",
       "    </tr>\n",
       "    <tr>\n",
       "      <th>30823</th>\n",
       "      <td>2020-07-28T15:20:15.0000000Z</td>\n",
       "      <td>app@sharepoint</td>\n",
       "      <td>FileAccessed</td>\n",
       "      <td>{\"CreationTime\":\"2020-07-28T15:20:15\",\"Id\":\"6c...</td>\n",
       "    </tr>\n",
       "    <tr>\n",
       "      <th>30824</th>\n",
       "      <td>2020-07-28T15:26:36.0000000Z</td>\n",
       "      <td>app@sharepoint</td>\n",
       "      <td>FileAccessed</td>\n",
       "      <td>{\"CreationTime\":\"2020-07-28T15:26:36\",\"Id\":\"f7...</td>\n",
       "    </tr>\n",
       "    <tr>\n",
       "      <th>30825</th>\n",
       "      <td>2020-07-28T15:28:21.0000000Z</td>\n",
       "      <td>app@sharepoint</td>\n",
       "      <td>FileAccessed</td>\n",
       "      <td>{\"CreationTime\":\"2020-07-28T15:28:21\",\"Id\":\"67...</td>\n",
       "    </tr>\n",
       "  </tbody>\n",
       "</table>\n",
       "<p>30826 rows × 4 columns</p>\n",
       "</div>"
      ],
      "text/plain": [
       "                       CreationDate                                 UserIds  \\\n",
       "0      2020-08-03T05:57:22.0000000Z  arq-member@androbotics.onmicrosoft.com   \n",
       "1      2020-08-03T06:04:17.0000000Z  arn-member@androbotics.onmicrosoft.com   \n",
       "2      2020-08-03T06:04:17.0000000Z  arn-member@androbotics.onmicrosoft.com   \n",
       "3      2020-08-03T06:19:47.0000000Z                  s.ida@ml.androbo.co.jp   \n",
       "4      2020-08-03T06:19:58.0000000Z                  s.ida@ml.androbo.co.jp   \n",
       "...                             ...                                     ...   \n",
       "30821  2020-07-28T22:49:03.0000000Z  aro-member@androbotics.onmicrosoft.com   \n",
       "30822  2020-07-28T22:49:03.0000000Z  aro-member@androbotics.onmicrosoft.com   \n",
       "30823  2020-07-28T15:20:15.0000000Z                          app@sharepoint   \n",
       "30824  2020-07-28T15:26:36.0000000Z                          app@sharepoint   \n",
       "30825  2020-07-28T15:28:21.0000000Z                          app@sharepoint   \n",
       "\n",
       "                 Operations                                          AuditData  \n",
       "0              UserLoggedIn  {\"CreationTime\":\"2020-08-03T05:57:22\",\"Id\":\"35...  \n",
       "1              UserLoggedIn  {\"CreationTime\":\"2020-08-03T06:04:17\",\"Id\":\"4e...  \n",
       "2              UserLoggedIn  {\"CreationTime\":\"2020-08-03T06:04:17\",\"Id\":\"9e...  \n",
       "3      FileSyncUploadedFull  {\"CreationTime\":\"2020-08-03T06:19:47\",\"Id\":\"f0...  \n",
       "4               FileRenamed  {\"CreationTime\":\"2020-08-03T06:19:58\",\"Id\":\"7c...  \n",
       "...                     ...                                                ...  \n",
       "30821       CompanyLinkUsed  {\"CreationTime\":\"2020-07-28T22:49:03\",\"Id\":\"d7...  \n",
       "30822          FileAccessed  {\"CreationTime\":\"2020-07-28T22:49:03\",\"Id\":\"62...  \n",
       "30823          FileAccessed  {\"CreationTime\":\"2020-07-28T15:20:15\",\"Id\":\"6c...  \n",
       "30824          FileAccessed  {\"CreationTime\":\"2020-07-28T15:26:36\",\"Id\":\"f7...  \n",
       "30825          FileAccessed  {\"CreationTime\":\"2020-07-28T15:28:21\",\"Id\":\"67...  \n",
       "\n",
       "[30826 rows x 4 columns]"
      ]
     },
     "execution_count": 87,
     "metadata": {},
     "output_type": "execute_result"
    }
   ],
   "source": [
    "df = pd.read_csv('AuditLog_2020-07-28_2020-08-03.csv')\n",
    "#df = pd.read_csv('ファイルパス')　　　(r'ffffffff')  (f'ffffffff')  などもある\n",
    "df"
   ]
  },
  {
   "cell_type": "code",
   "execution_count": null,
   "metadata": {},
   "outputs": [],
   "source": []
  }
 ],
 "metadata": {
  "kernelspec": {
   "display_name": "Python 3",
   "language": "python",
   "name": "python3"
  },
  "language_info": {
   "codemirror_mode": {
    "name": "ipython",
    "version": 3
   },
   "file_extension": ".py",
   "mimetype": "text/x-python",
   "name": "python",
   "nbconvert_exporter": "python",
   "pygments_lexer": "ipython3",
   "version": "3.7.4"
  }
 },
 "nbformat": 4,
 "nbformat_minor": 4
}
