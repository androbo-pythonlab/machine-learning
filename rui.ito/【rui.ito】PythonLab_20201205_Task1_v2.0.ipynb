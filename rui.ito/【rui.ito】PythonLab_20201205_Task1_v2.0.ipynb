{
 "cells": [
  {
   "cell_type": "markdown",
   "metadata": {},
   "source": [
    "# 今回の課題：条件分岐・ループ編\n",
    "\n",
    "課題に取り組むにあたって、こちらの記事を読んでおくとヒントが落ちているかもしれません！\n",
    "\n",
    "\n",
    "https://qiita.com/kobayu0902art/items/1e4007102a7a564f3b58\n",
    "\n",
    "また、今回の課題ではAtcoderの問題を使用していますが、問題の詳細は問題タイトルのリンクをクリックしてください。"
   ]
  },
  {
   "attachments": {
    "image.png": {
     "image/png": "[encoded data removed]"
    }
   },
   "cell_type": "markdown",
   "metadata": {},
   "source": [
    "Q1.\n",
    "\n",
    "PokemonStatus_Gen8.csvから\n",
    "\n",
    "[0,3,5,17,21,25,46,57,79,100,101]\n",
    "\n",
    "上記の図鑑番号に対応するポケモンの名前を列挙しよう\n",
    "\n",
    "出力例：\n",
    "![image.png](attachment:image.png)"
   ]
  },
  {
   "cell_type": "markdown",
   "metadata": {},
   "source": [
    "A1."
   ]
  },
  {
   "cell_type": "code",
   "execution_count": 2,
   "metadata": {},
   "outputs": [
    {
     "name": "stdout",
     "output_type": "stream",
     "text": [
      "フシギダネ\n",
      "メガフシギバナ\n",
      "リザード\n",
      "コクーン\n",
      "ピジョン\n",
      "コラッタ(アローラのすがた)\n",
      "ピッピ\n",
      "クサイハナ\n",
      "ニョロゾ\n",
      "ポニータ(ガラルのすがた)\n",
      "ギャロップ\n"
     ]
    }
   ],
   "source": [
    "import pandas as pd\n",
    "\n",
    "df=pd.read_csv('PokemonStatus_Gen8.csv').set_index(\"ポケモン名\" , drop = False)\n",
    "\n",
    "for i in [0,3,5,17,21,25,46,57,79,100,101]:\n",
    "    print(df.loc[df.index[i],'ポケモン名'])"
   ]
  },
  {
   "cell_type": "markdown",
   "metadata": {},
   "source": [
    "Q2.\n",
    "\n",
    "l = [1231231,2342,423,14234,123,41234,123412341,2341,254,656745,672346,134763,45123,5467,456234,134523,927834,4235,245,3463,246,7547,32356357,235,63754,423456,57458,347845,6234657,2356]\n",
    "\n",
    "上記リストの中で、\n",
    "\n",
    "- 偶数\n",
    "- 奇数\n",
    "- 7の倍数\n",
    "- 19の倍数\n",
    "\n",
    "\n",
    "がいくつあるかそれぞれカウントしてください。"
   ]
  },
  {
   "cell_type": "markdown",
   "metadata": {},
   "source": [
    "A2."
   ]
  },
  {
   "cell_type": "code",
   "execution_count": 3,
   "metadata": {},
   "outputs": [
    {
     "name": "stdout",
     "output_type": "stream",
     "text": [
      "偶数:12\n",
      "奇数:10\n",
      "7の倍数:3\n",
      "19の倍数:1\n"
     ]
    }
   ],
   "source": [
    "l = [1231231,2342,423,14234,123,41234,123412341,2341,254,656745,672346,134763,45123,5467,456234,134523,927834,4235,245,3463,246,7547,32356357,235,63754,423456,57458,347845,6234657,2356]\n",
    "\n",
    "#回答ここから～～\n",
    "c1,c2,c3,c4=0,0,0,0\n",
    "\n",
    "for i in l:\n",
    "    if i%2 == 0:\n",
    "        c1+=1\n",
    "    if i%3 == 1:\n",
    "        c2+=1\n",
    "    if i%7 == 0:\n",
    "        c3+=1\n",
    "    if i%19 == 0:\n",
    "        c4+=1\n",
    "\n",
    "print('偶数:'+str(c1)+'\\n奇数:'+str(c2)+'\\n7の倍数:'+str(c3)+'\\n19の倍数:'+str(c4))"
   ]
  },
  {
   "cell_type": "markdown",
   "metadata": {},
   "source": [
    "Q3.\n",
    "2020年1月1日から2050年12月31日までの日付を8桁の数字で表現したyyyyMMdd(例:20201205)について、以下の条件を満たすものが何個あるか数え、列挙してください。\n",
    "\n",
    "- 左右対称なもの\n",
    "- 各桁の数字の和が[0,1,8]のいずれかであるもの"
   ]
  },
  {
   "cell_type": "markdown",
   "metadata": {},
   "source": [
    "A3."
   ]
  },
  {
   "cell_type": "markdown",
   "metadata": {},
   "source": [
    "日付リスト作成 参考:https://qiita.com/YuukiMiyoshi/items/42a890a95af6ab7a5348"
   ]
  },
  {
   "cell_type": "code",
   "execution_count": 4,
   "metadata": {},
   "outputs": [],
   "source": [
    "\n",
    "# 使用するモジュールのインポート\n",
    "from datetime import datetime as dt\n",
    "from datetime import timedelta\n",
    "\n",
    "# 日付条件の設定\n",
    "strdt = dt.strptime(\"2020-01-01\", '%Y-%m-%d')  # 開始日\n",
    "enddt = dt.strptime(\"2050-12-31\", '%Y-%m-%d')  # 終了日\n",
    "\n",
    "# 日付差の日数を算出（リストに最終日も含めたいので、＋１しています）\n",
    "days_num = (enddt - strdt).days + 1  # （参考）括弧の部分はtimedelta型のオブジェクトになります\n",
    "\n",
    "datelist = []\n",
    "for i in range(days_num):\n",
    "    datelist.append(strdt + timedelta(days=i))\n",
    "str_datelist = []\n",
    "for d in datelist:\n",
    "    str_datelist.append(str(d.strftime(\"%Y-%m-%d\")).replace('-',''))\n",
    "\n",
    "# 確認用\n",
    "# for i in str_datelist:\n",
    "#     print(i)"
   ]
  },
  {
   "cell_type": "markdown",
   "metadata": {},
   "source": [
    "左右対称なもの"
   ]
  },
  {
   "cell_type": "code",
   "execution_count": 5,
   "metadata": {},
   "outputs": [
    {
     "data": {
      "text/plain": [
       "['2', '0', '2', '0', '0', '1', '0', '1']"
      ]
     },
     "execution_count": 5,
     "metadata": {},
     "output_type": "execute_result"
    }
   ],
   "source": [
    "l = list(str_datelist[0])\n",
    "l"
   ]
  },
  {
   "cell_type": "code",
   "execution_count": 6,
   "metadata": {},
   "outputs": [
    {
     "name": "stdout",
     "output_type": "stream",
     "text": [
      "5\n",
      "['20200202', '20211202', '20300302', '20400402', '20500502']\n"
     ]
    }
   ],
   "source": [
    "s=0\n",
    "l=[]\n",
    "for d in str_datelist:\n",
    "    l_d=list(d)\n",
    "    if l_d[0]==l_d[7] and l_d[1]==l_d[6] and l_d[2]==l_d[5] and l_d[3]==l_d[4]:\n",
    "        s+=1\n",
    "        l.append(d)\n",
    "print(s)\n",
    "print(l)"
   ]
  },
  {
   "cell_type": "markdown",
   "metadata": {},
   "source": [
    "各桁の数字の和が[0,1,8]のいずれかであるもの"
   ]
  },
  {
   "cell_type": "code",
   "execution_count": 8,
   "metadata": {},
   "outputs": [
    {
     "name": "stdout",
     "output_type": "stream",
     "text": [
      "50\n",
      "['20200103', '20200112', '20200121', '20200130', '20200202', '20200211', '20200220', '20200301', '20200310', '20201003', '20201012', '20201021', '20201030', '20201102', '20201111', '20201120', '20201201', '20201210', '20210102', '20210111', '20210120', '20210201', '20210210', '20211002', '20211011', '20211020', '20211101', '20211110', '20220101', '20220110', '20221001', '20221010', '20300102', '20300111', '20300120', '20300201', '20300210', '20301002', '20301011', '20301020', '20301101', '20301110', '20310101', '20310110', '20311001', '20311010', '20400101', '20400110', '20401001', '20401010']\n"
     ]
    }
   ],
   "source": [
    "s=0\n",
    "l=[]\n",
    "for i in str_datelist:\n",
    "  str_list = list(i)\n",
    "  int_list = []\n",
    "  n_sum=0\n",
    "  for n in str_list:\n",
    "    n_sum=n_sum+int(n)\n",
    "  if n_sum == 8 or n_sum == 1 or n_sum == 0:\n",
    "    s+=1\n",
    "    l.append(i)\n",
    "print(s)\n",
    "print(l)"
   ]
  },
  {
   "cell_type": "markdown",
   "metadata": {},
   "source": [
    "Q4.[ABC 087 B - Coins](https://atcoder.jp/contests/abc087/tasks/abc087_b)\n",
    "\n",
    "問題文\n",
    "\n",
    "あなたは、\n",
    "500\n",
    " 円玉を \n",
    "A\n",
    " 枚、\n",
    "100\n",
    " 円玉を \n",
    "B\n",
    " 枚、\n",
    "50\n",
    " 円玉を \n",
    "C\n",
    " 枚持っています。 これらの硬貨の中から何枚かを選び、合計金額をちょうど \n",
    "X\n",
    " 円にする方法は何通りありますか。\n",
    "\n",
    "同じ種類の硬貨どうしは区別できません。2 通りの硬貨の選び方は、ある種類の硬貨についてその硬貨を選ぶ枚数が異なるとき区別されます。"
   ]
  },
  {
   "cell_type": "markdown",
   "metadata": {},
   "source": [
    "入力例\n",
    "\n",
    "A\n",
    "\n",
    "B\n",
    "\n",
    "C\n",
    "\n",
    "X\n",
    "\n",
    "----------\n",
    "\n",
    "2\n",
    "\n",
    "2\n",
    "\n",
    "2\n",
    "\n",
    "100\n",
    "\n",
    "----------\n",
    "\n",
    "出力例\n",
    "\n",
    "2"
   ]
  },
  {
   "cell_type": "markdown",
   "metadata": {},
   "source": [
    "A4."
   ]
  },
  {
   "cell_type": "code",
   "execution_count": 71,
   "metadata": {},
   "outputs": [],
   "source": [
    "#A,B,C,X=int(input()),int(input()),int(input()),int(input())\n",
    "A,B,C,X=2,2,2,100\n",
    "\n",
    "c_A,c_B,c_C=0,0,0"
   ]
  },
  {
   "cell_type": "markdown",
   "metadata": {},
   "source": [
    "制約\n",
    "0\n",
    "≤\n",
    "A\n",
    ",\n",
    "B\n",
    ",\n",
    "C\n",
    "≤\n",
    "50\n",
    "A\n",
    "+\n",
    "B\n",
    "+\n",
    "C\n",
    "≥\n",
    "1\n",
    "50\n",
    "≤\n",
    "X\n",
    "≤\n",
    "20\n",
    ",\n",
    "000\n",
    "A\n",
    ",\n",
    "B\n",
    ",\n",
    "C\n",
    " は整数である\n",
    "X\n",
    " は \n",
    "50\n",
    " の倍数である"
   ]
  },
  {
   "cell_type": "code",
   "execution_count": 11,
   "metadata": {},
   "outputs": [
    {
     "data": {
      "text/plain": [
       "213"
      ]
     },
     "execution_count": 11,
     "metadata": {},
     "output_type": "execute_result"
    }
   ],
   "source": [
    "#A,B,C,X = int(input()),int(input()),int(input()),int(input())\n",
    "A,B,C,X = 30,40,50,6000\n",
    "counter=0\n",
    "\n",
    "for A_i in range(A+1):\n",
    "  for B_i in range(B+1):\n",
    "    for C_i in range(C+1):\n",
    "      #print('A:'+str(A_i)+'  B:'+str(B_i)+'  C:'+str(C_i))\n",
    "      if (500*A_i)+(100*B_i)+(50*C_i)==X:\n",
    "        #print('A:'+str(A_i)+'  B:'+str(B_i)+'  C:'+str(C_i))\n",
    "        counter=counter+1\n",
    "counter"
   ]
  },
  {
   "cell_type": "markdown",
   "metadata": {},
   "source": [
    "##### Q5.[ABC 083 B - Some Sums](https://atcoder.jp/contests/abc083/tasks/abc083_b)\n",
    "\n",
    "問題文\n",
    "\n",
    "1\n",
    " 以上 \n",
    "N\n",
    " 以下の整数のうち、\n",
    "10\n",
    " 進法での各桁の和が \n",
    "A\n",
    " 以上 \n",
    "B\n",
    " 以下であるものの総和を求めてください。"
   ]
  },
  {
   "cell_type": "markdown",
   "metadata": {},
   "source": [
    "A5."
   ]
  },
  {
   "cell_type": "code",
   "execution_count": 12,
   "metadata": {},
   "outputs": [
    {
     "name": "stdout",
     "output_type": "stream",
     "text": [
      "1\n",
      "2\n",
      "3\n",
      "4\n",
      "5\n",
      "6\n",
      "7\n",
      "8\n",
      "9\n",
      "10\n",
      "11\n",
      "12\n",
      "13\n",
      "14\n",
      "15\n",
      "16\n",
      "17\n",
      "18\n",
      "19\n",
      "20\n"
     ]
    }
   ],
   "source": [
    "N,A,B=20,2,5\n",
    "for i in range(1,N+1):\n",
    "    print(i)"
   ]
  },
  {
   "cell_type": "code",
   "execution_count": 13,
   "metadata": {},
   "outputs": [
    {
     "data": {
      "text/plain": [
       "['1', '8']"
      ]
     },
     "execution_count": 13,
     "metadata": {},
     "output_type": "execute_result"
    }
   ],
   "source": [
    "test_list=list('18')\n",
    "test_list"
   ]
  },
  {
   "cell_type": "code",
   "execution_count": 14,
   "metadata": {},
   "outputs": [
    {
     "data": {
      "text/plain": [
       "10"
      ]
     },
     "execution_count": 14,
     "metadata": {},
     "output_type": "execute_result"
    }
   ],
   "source": [
    "#各桁の和\n",
    "test_list=list('1234')\n",
    "l_sum=0\n",
    "for i in test_list:\n",
    "    l_sum=l_sum+int(i)\n",
    "l_sum"
   ]
  },
  {
   "cell_type": "markdown",
   "metadata": {},
   "source": [
    "N,A,B=20,2,5の場合、20\n",
    " 以下の整数のうち、各桁の和が \n",
    "2\n",
    " 以上 \n",
    "5\n",
    " 以下なのは \n",
    "2\n",
    ",\n",
    "3\n",
    ",\n",
    "4\n",
    ",\n",
    "5\n",
    ",\n",
    "11\n",
    ",\n",
    "12\n",
    ",\n",
    "13\n",
    ",\n",
    "14\n",
    ",\n",
    "20\n",
    " です。これらの合計である \n",
    "84\n",
    " を出力します。\n",
    "\n"
   ]
  },
  {
   "cell_type": "code",
   "execution_count": 15,
   "metadata": {},
   "outputs": [
    {
     "name": "stdout",
     "output_type": "stream",
     "text": [
      "2\n",
      "3\n",
      "4\n",
      "5\n",
      "11\n",
      "12\n",
      "13\n",
      "14\n",
      "20\n"
     ]
    },
    {
     "data": {
      "text/plain": [
       "84"
      ]
     },
     "execution_count": 15,
     "metadata": {},
     "output_type": "execute_result"
    }
   ],
   "source": [
    "N,A,B=20,2,5\n",
    "s=0\n",
    "for n in range(1,N+1):\n",
    "    str_n=str(n)\n",
    "    l=list(str_n)\n",
    "    l_sum=0\n",
    "    for i in l:\n",
    "        l_sum=l_sum+int(i)\n",
    "    if A<=l_sum<=B:\n",
    "        print(n)\n",
    "        s=s+n\n",
    "s"
   ]
  },
  {
   "cell_type": "code",
   "execution_count": 17,
   "metadata": {},
   "outputs": [
    {
     "name": "stdout",
     "output_type": "stream",
     "text": [
      "100\n",
      "4\n",
      "16\n"
     ]
    },
    {
     "data": {
      "text/plain": [
       "4554"
      ]
     },
     "execution_count": 17,
     "metadata": {},
     "output_type": "execute_result"
    }
   ],
   "source": [
    "N,A,B=int(input()),int(input()),int(input())\n",
    "s=0\n",
    "for n in range(1,N+1):\n",
    "    str_n=str(n)\n",
    "    l=list(str_n)\n",
    "    l_sum=0\n",
    "    for i in l:\n",
    "        l_sum=l_sum+int(i)\n",
    "    if A<=l_sum<=B:\n",
    "        s=s+n\n",
    "s"
   ]
  },
  {
   "cell_type": "code",
   "execution_count": null,
   "metadata": {},
   "outputs": [],
   "source": []
  }
 ],
 "metadata": {
  "kernelspec": {
   "display_name": "Python 3",
   "language": "python",
   "name": "python3"
  },
  "language_info": {
   "codemirror_mode": {
    "name": "ipython",
    "version": 3
   },
   "file_extension": ".py",
   "mimetype": "text/x-python",
   "name": "python",
   "nbconvert_exporter": "python",
   "pygments_lexer": "ipython3",
   "version": "3.7.6"
  }
 },
 "nbformat": 4,
 "nbformat_minor": 4
}
