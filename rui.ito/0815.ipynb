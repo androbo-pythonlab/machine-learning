{
 "cells": [
  {
   "cell_type": "code",
   "execution_count": 72,
   "metadata": {},
   "outputs": [],
   "source": [
    "\n",
    "import pandas as pd"
   ]
  },
  {
   "cell_type": "markdown",
   "metadata": {},
   "source": [
    "# pandas"
   ]
  },
  {
   "cell_type": "markdown",
   "metadata": {},
   "source": [
    "### csvファイル読み込み"
   ]
  },
  {
   "cell_type": "code",
   "execution_count": 73,
   "metadata": {},
   "outputs": [
    {
     "data": {
      "text/html": [
       "<div>\n",
       "<style scoped>\n",
       "    .dataframe tbody tr th:only-of-type {\n",
       "        vertical-align: middle;\n",
       "    }\n",
       "\n",
       "    .dataframe tbody tr th {\n",
       "        vertical-align: top;\n",
       "    }\n",
       "\n",
       "    .dataframe thead th {\n",
       "        text-align: right;\n",
       "    }\n",
       "</style>\n",
       "<table border=\"1\" class=\"dataframe\">\n",
       "  <thead>\n",
       "    <tr style=\"text-align: right;\">\n",
       "      <th></th>\n",
       "      <th>都道府県コード</th>\n",
       "      <th>都道府県名</th>\n",
       "      <th>元号</th>\n",
       "      <th>和暦（年）</th>\n",
       "      <th>西暦（年）</th>\n",
       "      <th>人口（総数）</th>\n",
       "      <th>人口（男）</th>\n",
       "      <th>人口（女）</th>\n",
       "    </tr>\n",
       "  </thead>\n",
       "  <tbody>\n",
       "    <tr>\n",
       "      <th>0</th>\n",
       "      <td>0</td>\n",
       "      <td>全国</td>\n",
       "      <td>大正</td>\n",
       "      <td>9</td>\n",
       "      <td>1920</td>\n",
       "      <td>55963053</td>\n",
       "      <td>28044185</td>\n",
       "      <td>27918868</td>\n",
       "    </tr>\n",
       "    <tr>\n",
       "      <th>1</th>\n",
       "      <td>1</td>\n",
       "      <td>北海道</td>\n",
       "      <td>大正</td>\n",
       "      <td>9</td>\n",
       "      <td>1920</td>\n",
       "      <td>2359183</td>\n",
       "      <td>1244322</td>\n",
       "      <td>1114861</td>\n",
       "    </tr>\n",
       "    <tr>\n",
       "      <th>2</th>\n",
       "      <td>2</td>\n",
       "      <td>青森県</td>\n",
       "      <td>大正</td>\n",
       "      <td>9</td>\n",
       "      <td>1920</td>\n",
       "      <td>756454</td>\n",
       "      <td>381293</td>\n",
       "      <td>375161</td>\n",
       "    </tr>\n",
       "    <tr>\n",
       "      <th>3</th>\n",
       "      <td>3</td>\n",
       "      <td>岩手県</td>\n",
       "      <td>大正</td>\n",
       "      <td>9</td>\n",
       "      <td>1920</td>\n",
       "      <td>845540</td>\n",
       "      <td>421069</td>\n",
       "      <td>424471</td>\n",
       "    </tr>\n",
       "    <tr>\n",
       "      <th>4</th>\n",
       "      <td>4</td>\n",
       "      <td>宮城県</td>\n",
       "      <td>大正</td>\n",
       "      <td>9</td>\n",
       "      <td>1920</td>\n",
       "      <td>961768</td>\n",
       "      <td>485309</td>\n",
       "      <td>476459</td>\n",
       "    </tr>\n",
       "    <tr>\n",
       "      <th>...</th>\n",
       "      <td>...</td>\n",
       "      <td>...</td>\n",
       "      <td>...</td>\n",
       "      <td>...</td>\n",
       "      <td>...</td>\n",
       "      <td>...</td>\n",
       "      <td>...</td>\n",
       "      <td>...</td>\n",
       "    </tr>\n",
       "    <tr>\n",
       "      <th>975</th>\n",
       "      <td>43</td>\n",
       "      <td>熊本県</td>\n",
       "      <td>平成</td>\n",
       "      <td>27</td>\n",
       "      <td>2015</td>\n",
       "      <td>1786170</td>\n",
       "      <td>841046</td>\n",
       "      <td>945124</td>\n",
       "    </tr>\n",
       "    <tr>\n",
       "      <th>976</th>\n",
       "      <td>44</td>\n",
       "      <td>大分県</td>\n",
       "      <td>平成</td>\n",
       "      <td>27</td>\n",
       "      <td>2015</td>\n",
       "      <td>1166338</td>\n",
       "      <td>551932</td>\n",
       "      <td>614406</td>\n",
       "    </tr>\n",
       "    <tr>\n",
       "      <th>977</th>\n",
       "      <td>45</td>\n",
       "      <td>宮崎県</td>\n",
       "      <td>平成</td>\n",
       "      <td>27</td>\n",
       "      <td>2015</td>\n",
       "      <td>1104069</td>\n",
       "      <td>519242</td>\n",
       "      <td>584827</td>\n",
       "    </tr>\n",
       "    <tr>\n",
       "      <th>978</th>\n",
       "      <td>46</td>\n",
       "      <td>鹿児島県</td>\n",
       "      <td>平成</td>\n",
       "      <td>27</td>\n",
       "      <td>2015</td>\n",
       "      <td>1648177</td>\n",
       "      <td>773061</td>\n",
       "      <td>875116</td>\n",
       "    </tr>\n",
       "    <tr>\n",
       "      <th>979</th>\n",
       "      <td>47</td>\n",
       "      <td>沖縄県</td>\n",
       "      <td>平成</td>\n",
       "      <td>27</td>\n",
       "      <td>2015</td>\n",
       "      <td>1433566</td>\n",
       "      <td>704619</td>\n",
       "      <td>728947</td>\n",
       "    </tr>\n",
       "  </tbody>\n",
       "</table>\n",
       "<p>980 rows × 8 columns</p>\n",
       "</div>"
      ],
      "text/plain": [
       "    都道府県コード 都道府県名  元号  和暦（年）  西暦（年）    人口（総数）     人口（男）     人口（女）\n",
       "0         0    全国  大正      9   1920  55963053  28044185  27918868\n",
       "1         1   北海道  大正      9   1920   2359183   1244322   1114861\n",
       "2         2   青森県  大正      9   1920    756454    381293    375161\n",
       "3         3   岩手県  大正      9   1920    845540    421069    424471\n",
       "4         4   宮城県  大正      9   1920    961768    485309    476459\n",
       "..      ...   ...  ..    ...    ...       ...       ...       ...\n",
       "975      43   熊本県  平成     27   2015   1786170    841046    945124\n",
       "976      44   大分県  平成     27   2015   1166338    551932    614406\n",
       "977      45   宮崎県  平成     27   2015   1104069    519242    584827\n",
       "978      46  鹿児島県  平成     27   2015   1648177    773061    875116\n",
       "979      47   沖縄県  平成     27   2015   1433566    704619    728947\n",
       "\n",
       "[980 rows x 8 columns]"
      ]
     },
     "execution_count": 73,
     "metadata": {},
     "output_type": "execute_result"
    }
   ],
   "source": [
    "df = pd.read_csv('c01_utf8.csv')\n",
    "df"
   ]
  },
  {
   "cell_type": "code",
   "execution_count": 74,
   "metadata": {},
   "outputs": [
    {
     "data": {
      "text/plain": [
       "pandas.core.frame.DataFrame"
      ]
     },
     "execution_count": 74,
     "metadata": {},
     "output_type": "execute_result"
    }
   ],
   "source": [
    "type(df)"
   ]
  },
  {
   "cell_type": "code",
   "execution_count": 75,
   "metadata": {},
   "outputs": [
    {
     "data": {
      "text/html": [
       "<div>\n",
       "<style scoped>\n",
       "    .dataframe tbody tr th:only-of-type {\n",
       "        vertical-align: middle;\n",
       "    }\n",
       "\n",
       "    .dataframe tbody tr th {\n",
       "        vertical-align: top;\n",
       "    }\n",
       "\n",
       "    .dataframe thead th {\n",
       "        text-align: right;\n",
       "    }\n",
       "</style>\n",
       "<table border=\"1\" class=\"dataframe\">\n",
       "  <thead>\n",
       "    <tr style=\"text-align: right;\">\n",
       "      <th></th>\n",
       "      <th>都道府県コード</th>\n",
       "      <th>都道府県名</th>\n",
       "      <th>元号</th>\n",
       "      <th>和暦（年）</th>\n",
       "      <th>西暦（年）</th>\n",
       "      <th>人口（総数）</th>\n",
       "      <th>人口（男）</th>\n",
       "      <th>人口（女）</th>\n",
       "    </tr>\n",
       "  </thead>\n",
       "  <tbody>\n",
       "    <tr>\n",
       "      <th>0</th>\n",
       "      <td>0</td>\n",
       "      <td>全国</td>\n",
       "      <td>大正</td>\n",
       "      <td>9</td>\n",
       "      <td>1920</td>\n",
       "      <td>55963053</td>\n",
       "      <td>28044185</td>\n",
       "      <td>27918868</td>\n",
       "    </tr>\n",
       "    <tr>\n",
       "      <th>1</th>\n",
       "      <td>1</td>\n",
       "      <td>北海道</td>\n",
       "      <td>大正</td>\n",
       "      <td>9</td>\n",
       "      <td>1920</td>\n",
       "      <td>2359183</td>\n",
       "      <td>1244322</td>\n",
       "      <td>1114861</td>\n",
       "    </tr>\n",
       "    <tr>\n",
       "      <th>2</th>\n",
       "      <td>2</td>\n",
       "      <td>青森県</td>\n",
       "      <td>大正</td>\n",
       "      <td>9</td>\n",
       "      <td>1920</td>\n",
       "      <td>756454</td>\n",
       "      <td>381293</td>\n",
       "      <td>375161</td>\n",
       "    </tr>\n",
       "    <tr>\n",
       "      <th>3</th>\n",
       "      <td>3</td>\n",
       "      <td>岩手県</td>\n",
       "      <td>大正</td>\n",
       "      <td>9</td>\n",
       "      <td>1920</td>\n",
       "      <td>845540</td>\n",
       "      <td>421069</td>\n",
       "      <td>424471</td>\n",
       "    </tr>\n",
       "    <tr>\n",
       "      <th>4</th>\n",
       "      <td>4</td>\n",
       "      <td>宮城県</td>\n",
       "      <td>大正</td>\n",
       "      <td>9</td>\n",
       "      <td>1920</td>\n",
       "      <td>961768</td>\n",
       "      <td>485309</td>\n",
       "      <td>476459</td>\n",
       "    </tr>\n",
       "  </tbody>\n",
       "</table>\n",
       "</div>"
      ],
      "text/plain": [
       "  都道府県コード 都道府県名  元号  和暦（年）  西暦（年）    人口（総数）     人口（男）     人口（女）\n",
       "0       0    全国  大正      9   1920  55963053  28044185  27918868\n",
       "1       1   北海道  大正      9   1920   2359183   1244322   1114861\n",
       "2       2   青森県  大正      9   1920    756454    381293    375161\n",
       "3       3   岩手県  大正      9   1920    845540    421069    424471\n",
       "4       4   宮城県  大正      9   1920    961768    485309    476459"
      ]
     },
     "execution_count": 75,
     "metadata": {},
     "output_type": "execute_result"
    }
   ],
   "source": [
    "df.head()"
   ]
  },
  {
   "cell_type": "markdown",
   "metadata": {},
   "source": [
    "## 都道府県名列挙"
   ]
  },
  {
   "cell_type": "code",
   "execution_count": 76,
   "metadata": {},
   "outputs": [
    {
     "data": {
      "text/plain": [
       "array(['全国', '北海道', '青森県', '岩手県', '宮城県', '秋田県', '山形県', '福島県', '茨城県',\n",
       "       '栃木県', '群馬県', '埼玉県', '千葉県', '東京都', '神奈川県', '新潟県', '富山県', '石川県',\n",
       "       '福井県', '山梨県', '長野県', '岐阜県', '静岡県', '愛知県', '三重県', '滋賀県', '京都府',\n",
       "       '大阪府', '兵庫県', '奈良県', '和歌山県', '鳥取県', '島根県', '岡山県', '広島県', '山口県',\n",
       "       '徳島県', '香川県', '愛媛県', '高知県', '福岡県', '佐賀県', '長崎県', '熊本県', '大分県',\n",
       "       '宮崎県', '鹿児島県', '沖縄県', '人口集中地区', '人口集中地区以外の地区'], dtype=object)"
      ]
     },
     "execution_count": 76,
     "metadata": {},
     "output_type": "execute_result"
    }
   ],
   "source": [
    "df[\"都道府県名\"].unique()"
   ]
  },
  {
   "cell_type": "markdown",
   "metadata": {},
   "source": [
    "## このデータフレームを分析"
   ]
  },
  {
   "cell_type": "code",
   "execution_count": 77,
   "metadata": {},
   "outputs": [
    {
     "data": {
      "text/html": [
       "<div>\n",
       "<style scoped>\n",
       "    .dataframe tbody tr th:only-of-type {\n",
       "        vertical-align: middle;\n",
       "    }\n",
       "\n",
       "    .dataframe tbody tr th {\n",
       "        vertical-align: top;\n",
       "    }\n",
       "\n",
       "    .dataframe thead th {\n",
       "        text-align: right;\n",
       "    }\n",
       "</style>\n",
       "<table border=\"1\" class=\"dataframe\">\n",
       "  <thead>\n",
       "    <tr style=\"text-align: right;\">\n",
       "      <th></th>\n",
       "      <th>和暦（年）</th>\n",
       "      <th>西暦（年）</th>\n",
       "    </tr>\n",
       "  </thead>\n",
       "  <tbody>\n",
       "    <tr>\n",
       "      <th>count</th>\n",
       "      <td>980.000000</td>\n",
       "      <td>980.000000</td>\n",
       "    </tr>\n",
       "    <tr>\n",
       "      <th>mean</th>\n",
       "      <td>25.095918</td>\n",
       "      <td>1968.010204</td>\n",
       "    </tr>\n",
       "    <tr>\n",
       "      <th>std</th>\n",
       "      <td>17.012192</td>\n",
       "      <td>28.841611</td>\n",
       "    </tr>\n",
       "    <tr>\n",
       "      <th>min</th>\n",
       "      <td>2.000000</td>\n",
       "      <td>1920.000000</td>\n",
       "    </tr>\n",
       "    <tr>\n",
       "      <th>25%</th>\n",
       "      <td>12.000000</td>\n",
       "      <td>1945.000000</td>\n",
       "    </tr>\n",
       "    <tr>\n",
       "      <th>50%</th>\n",
       "      <td>22.000000</td>\n",
       "      <td>1970.000000</td>\n",
       "    </tr>\n",
       "    <tr>\n",
       "      <th>75%</th>\n",
       "      <td>40.000000</td>\n",
       "      <td>1995.000000</td>\n",
       "    </tr>\n",
       "    <tr>\n",
       "      <th>max</th>\n",
       "      <td>60.000000</td>\n",
       "      <td>2015.000000</td>\n",
       "    </tr>\n",
       "  </tbody>\n",
       "</table>\n",
       "</div>"
      ],
      "text/plain": [
       "            和暦（年）        西暦（年）\n",
       "count  980.000000   980.000000\n",
       "mean    25.095918  1968.010204\n",
       "std     17.012192    28.841611\n",
       "min      2.000000  1920.000000\n",
       "25%     12.000000  1945.000000\n",
       "50%     22.000000  1970.000000\n",
       "75%     40.000000  1995.000000\n",
       "max     60.000000  2015.000000"
      ]
     },
     "execution_count": 77,
     "metadata": {},
     "output_type": "execute_result"
    }
   ],
   "source": [
    "df.describe()"
   ]
  },
  {
   "cell_type": "code",
   "execution_count": 78,
   "metadata": {},
   "outputs": [
    {
     "data": {
      "text/plain": [
       "和暦（年）      25.095918\n",
       "西暦（年）    1968.010204\n",
       "dtype: float64"
      ]
     },
     "execution_count": 78,
     "metadata": {},
     "output_type": "execute_result"
    }
   ],
   "source": [
    "df.mean()"
   ]
  },
  {
   "cell_type": "markdown",
   "metadata": {},
   "source": [
    "## 列名の抽出"
   ]
  },
  {
   "cell_type": "code",
   "execution_count": 79,
   "metadata": {},
   "outputs": [
    {
     "data": {
      "text/plain": [
       "0      55963053\n",
       "1       2359183\n",
       "2        756454\n",
       "3        845540\n",
       "4        961768\n",
       "         ...   \n",
       "975     1786170\n",
       "976     1166338\n",
       "977     1104069\n",
       "978     1648177\n",
       "979     1433566\n",
       "Name: 人口（総数）, Length: 980, dtype: object"
      ]
     },
     "execution_count": 79,
     "metadata": {},
     "output_type": "execute_result"
    }
   ],
   "source": [
    "df[\"人口（総数）\"]"
   ]
  },
  {
   "cell_type": "code",
   "execution_count": 80,
   "metadata": {},
   "outputs": [
    {
     "data": {
      "text/plain": [
       "pandas.core.series.Series"
      ]
     },
     "execution_count": 80,
     "metadata": {},
     "output_type": "execute_result"
    }
   ],
   "source": [
    "total = df[\"人口（総数）\"]\n",
    "type(total)"
   ]
  },
  {
   "cell_type": "markdown",
   "metadata": {},
   "source": [
    "## Seriesを データフレームに変換"
   ]
  },
  {
   "cell_type": "code",
   "execution_count": 81,
   "metadata": {},
   "outputs": [
    {
     "data": {
      "text/html": [
       "<div>\n",
       "<style scoped>\n",
       "    .dataframe tbody tr th:only-of-type {\n",
       "        vertical-align: middle;\n",
       "    }\n",
       "\n",
       "    .dataframe tbody tr th {\n",
       "        vertical-align: top;\n",
       "    }\n",
       "\n",
       "    .dataframe thead th {\n",
       "        text-align: right;\n",
       "    }\n",
       "</style>\n",
       "<table border=\"1\" class=\"dataframe\">\n",
       "  <thead>\n",
       "    <tr style=\"text-align: right;\">\n",
       "      <th></th>\n",
       "      <th>人口（総数）</th>\n",
       "    </tr>\n",
       "  </thead>\n",
       "  <tbody>\n",
       "    <tr>\n",
       "      <th>0</th>\n",
       "      <td>55963053</td>\n",
       "    </tr>\n",
       "    <tr>\n",
       "      <th>1</th>\n",
       "      <td>2359183</td>\n",
       "    </tr>\n",
       "    <tr>\n",
       "      <th>2</th>\n",
       "      <td>756454</td>\n",
       "    </tr>\n",
       "    <tr>\n",
       "      <th>3</th>\n",
       "      <td>845540</td>\n",
       "    </tr>\n",
       "    <tr>\n",
       "      <th>4</th>\n",
       "      <td>961768</td>\n",
       "    </tr>\n",
       "    <tr>\n",
       "      <th>...</th>\n",
       "      <td>...</td>\n",
       "    </tr>\n",
       "    <tr>\n",
       "      <th>975</th>\n",
       "      <td>1786170</td>\n",
       "    </tr>\n",
       "    <tr>\n",
       "      <th>976</th>\n",
       "      <td>1166338</td>\n",
       "    </tr>\n",
       "    <tr>\n",
       "      <th>977</th>\n",
       "      <td>1104069</td>\n",
       "    </tr>\n",
       "    <tr>\n",
       "      <th>978</th>\n",
       "      <td>1648177</td>\n",
       "    </tr>\n",
       "    <tr>\n",
       "      <th>979</th>\n",
       "      <td>1433566</td>\n",
       "    </tr>\n",
       "  </tbody>\n",
       "</table>\n",
       "<p>980 rows × 1 columns</p>\n",
       "</div>"
      ],
      "text/plain": [
       "       人口（総数）\n",
       "0    55963053\n",
       "1     2359183\n",
       "2      756454\n",
       "3      845540\n",
       "4      961768\n",
       "..        ...\n",
       "975   1786170\n",
       "976   1166338\n",
       "977   1104069\n",
       "978   1648177\n",
       "979   1433566\n",
       "\n",
       "[980 rows x 1 columns]"
      ]
     },
     "execution_count": 81,
     "metadata": {},
     "output_type": "execute_result"
    }
   ],
   "source": [
    "pd.DataFrame(total)"
   ]
  },
  {
   "cell_type": "markdown",
   "metadata": {},
   "source": [
    "### 列名列挙"
   ]
  },
  {
   "cell_type": "code",
   "execution_count": 82,
   "metadata": {},
   "outputs": [
    {
     "data": {
      "text/plain": [
       "Index(['都道府県コード', '都道府県名', '元号', '和暦（年）', '西暦（年）', '人口（総数）', '人口（男）', '人口（女）'], dtype='object')"
      ]
     },
     "execution_count": 82,
     "metadata": {},
     "output_type": "execute_result"
    }
   ],
   "source": [
    "df.columns"
   ]
  },
  {
   "cell_type": "code",
   "execution_count": 83,
   "metadata": {},
   "outputs": [
    {
     "data": {
      "text/plain": [
       "0        全国\n",
       "1       北海道\n",
       "2       青森県\n",
       "3       岩手県\n",
       "4       宮城県\n",
       "       ... \n",
       "975     熊本県\n",
       "976     大分県\n",
       "977     宮崎県\n",
       "978    鹿児島県\n",
       "979     沖縄県\n",
       "Name: 都道府県名, Length: 980, dtype: object"
      ]
     },
     "execution_count": 83,
     "metadata": {},
     "output_type": "execute_result"
    }
   ],
   "source": [
    "df[df.columns[1]]"
   ]
  },
  {
   "cell_type": "code",
   "execution_count": 84,
   "metadata": {},
   "outputs": [
    {
     "data": {
      "text/html": [
       "<div>\n",
       "<style scoped>\n",
       "    .dataframe tbody tr th:only-of-type {\n",
       "        vertical-align: middle;\n",
       "    }\n",
       "\n",
       "    .dataframe tbody tr th {\n",
       "        vertical-align: top;\n",
       "    }\n",
       "\n",
       "    .dataframe thead th {\n",
       "        text-align: right;\n",
       "    }\n",
       "</style>\n",
       "<table border=\"1\" class=\"dataframe\">\n",
       "  <thead>\n",
       "    <tr style=\"text-align: right;\">\n",
       "      <th></th>\n",
       "      <th>都道府県コード</th>\n",
       "      <th>都道府県名</th>\n",
       "      <th>元号</th>\n",
       "    </tr>\n",
       "  </thead>\n",
       "  <tbody>\n",
       "    <tr>\n",
       "      <th>0</th>\n",
       "      <td>0</td>\n",
       "      <td>全国</td>\n",
       "      <td>大正</td>\n",
       "    </tr>\n",
       "    <tr>\n",
       "      <th>1</th>\n",
       "      <td>1</td>\n",
       "      <td>北海道</td>\n",
       "      <td>大正</td>\n",
       "    </tr>\n",
       "    <tr>\n",
       "      <th>2</th>\n",
       "      <td>2</td>\n",
       "      <td>青森県</td>\n",
       "      <td>大正</td>\n",
       "    </tr>\n",
       "    <tr>\n",
       "      <th>3</th>\n",
       "      <td>3</td>\n",
       "      <td>岩手県</td>\n",
       "      <td>大正</td>\n",
       "    </tr>\n",
       "    <tr>\n",
       "      <th>4</th>\n",
       "      <td>4</td>\n",
       "      <td>宮城県</td>\n",
       "      <td>大正</td>\n",
       "    </tr>\n",
       "    <tr>\n",
       "      <th>...</th>\n",
       "      <td>...</td>\n",
       "      <td>...</td>\n",
       "      <td>...</td>\n",
       "    </tr>\n",
       "    <tr>\n",
       "      <th>975</th>\n",
       "      <td>43</td>\n",
       "      <td>熊本県</td>\n",
       "      <td>平成</td>\n",
       "    </tr>\n",
       "    <tr>\n",
       "      <th>976</th>\n",
       "      <td>44</td>\n",
       "      <td>大分県</td>\n",
       "      <td>平成</td>\n",
       "    </tr>\n",
       "    <tr>\n",
       "      <th>977</th>\n",
       "      <td>45</td>\n",
       "      <td>宮崎県</td>\n",
       "      <td>平成</td>\n",
       "    </tr>\n",
       "    <tr>\n",
       "      <th>978</th>\n",
       "      <td>46</td>\n",
       "      <td>鹿児島県</td>\n",
       "      <td>平成</td>\n",
       "    </tr>\n",
       "    <tr>\n",
       "      <th>979</th>\n",
       "      <td>47</td>\n",
       "      <td>沖縄県</td>\n",
       "      <td>平成</td>\n",
       "    </tr>\n",
       "  </tbody>\n",
       "</table>\n",
       "<p>980 rows × 3 columns</p>\n",
       "</div>"
      ],
      "text/plain": [
       "    都道府県コード 都道府県名  元号\n",
       "0         0    全国  大正\n",
       "1         1   北海道  大正\n",
       "2         2   青森県  大正\n",
       "3         3   岩手県  大正\n",
       "4         4   宮城県  大正\n",
       "..      ...   ...  ..\n",
       "975      43   熊本県  平成\n",
       "976      44   大分県  平成\n",
       "977      45   宮崎県  平成\n",
       "978      46  鹿児島県  平成\n",
       "979      47   沖縄県  平成\n",
       "\n",
       "[980 rows x 3 columns]"
      ]
     },
     "execution_count": 84,
     "metadata": {},
     "output_type": "execute_result"
    }
   ],
   "source": [
    "df[['都道府県コード', '都道府県名', '元号']]"
   ]
  },
  {
   "cell_type": "markdown",
   "metadata": {},
   "source": [
    "### 行と列で抽出"
   ]
  },
  {
   "cell_type": "code",
   "execution_count": 85,
   "metadata": {},
   "outputs": [
    {
     "data": {
      "text/plain": [
       "0        全国\n",
       "1       北海道\n",
       "2       青森県\n",
       "3       岩手県\n",
       "4       宮城県\n",
       "       ... \n",
       "975     熊本県\n",
       "976     大分県\n",
       "977     宮崎県\n",
       "978    鹿児島県\n",
       "979     沖縄県\n",
       "Name: 都道府県名, Length: 980, dtype: object"
      ]
     },
     "execution_count": 85,
     "metadata": {},
     "output_type": "execute_result"
    }
   ],
   "source": [
    "df.iloc[:,1]"
   ]
  },
  {
   "cell_type": "markdown",
   "metadata": {},
   "source": [
    "指定方法\n",
    "[start:end:step]\n",
    "[:]で全指定\n",
    "[start:end:step,start:end:step]\n",
    "で行と列を指定"
   ]
  },
  {
   "cell_type": "code",
   "execution_count": 86,
   "metadata": {},
   "outputs": [
    {
     "data": {
      "text/html": [
       "<div>\n",
       "<style scoped>\n",
       "    .dataframe tbody tr th:only-of-type {\n",
       "        vertical-align: middle;\n",
       "    }\n",
       "\n",
       "    .dataframe tbody tr th {\n",
       "        vertical-align: top;\n",
       "    }\n",
       "\n",
       "    .dataframe thead th {\n",
       "        text-align: right;\n",
       "    }\n",
       "</style>\n",
       "<table border=\"1\" class=\"dataframe\">\n",
       "  <thead>\n",
       "    <tr style=\"text-align: right;\">\n",
       "      <th></th>\n",
       "      <th>都道府県名</th>\n",
       "    </tr>\n",
       "  </thead>\n",
       "  <tbody>\n",
       "    <tr>\n",
       "      <th>0</th>\n",
       "      <td>全国</td>\n",
       "    </tr>\n",
       "    <tr>\n",
       "      <th>2</th>\n",
       "      <td>青森県</td>\n",
       "    </tr>\n",
       "    <tr>\n",
       "      <th>4</th>\n",
       "      <td>宮城県</td>\n",
       "    </tr>\n",
       "    <tr>\n",
       "      <th>6</th>\n",
       "      <td>山形県</td>\n",
       "    </tr>\n",
       "    <tr>\n",
       "      <th>8</th>\n",
       "      <td>茨城県</td>\n",
       "    </tr>\n",
       "    <tr>\n",
       "      <th>...</th>\n",
       "      <td>...</td>\n",
       "    </tr>\n",
       "    <tr>\n",
       "      <th>970</th>\n",
       "      <td>愛媛県</td>\n",
       "    </tr>\n",
       "    <tr>\n",
       "      <th>972</th>\n",
       "      <td>福岡県</td>\n",
       "    </tr>\n",
       "    <tr>\n",
       "      <th>974</th>\n",
       "      <td>長崎県</td>\n",
       "    </tr>\n",
       "    <tr>\n",
       "      <th>976</th>\n",
       "      <td>大分県</td>\n",
       "    </tr>\n",
       "    <tr>\n",
       "      <th>978</th>\n",
       "      <td>鹿児島県</td>\n",
       "    </tr>\n",
       "  </tbody>\n",
       "</table>\n",
       "<p>490 rows × 1 columns</p>\n",
       "</div>"
      ],
      "text/plain": [
       "    都道府県名\n",
       "0      全国\n",
       "2     青森県\n",
       "4     宮城県\n",
       "6     山形県\n",
       "8     茨城県\n",
       "..    ...\n",
       "970   愛媛県\n",
       "972   福岡県\n",
       "974   長崎県\n",
       "976   大分県\n",
       "978  鹿児島県\n",
       "\n",
       "[490 rows x 1 columns]"
      ]
     },
     "execution_count": 86,
     "metadata": {},
     "output_type": "execute_result"
    }
   ],
   "source": [
    "pd.DataFrame(df.iloc[::2,1])\n",
    "#stepg=2で1つ飛ばし"
   ]
  },
  {
   "cell_type": "code",
   "execution_count": 87,
   "metadata": {},
   "outputs": [
    {
     "data": {
      "text/html": [
       "<div>\n",
       "<style scoped>\n",
       "    .dataframe tbody tr th:only-of-type {\n",
       "        vertical-align: middle;\n",
       "    }\n",
       "\n",
       "    .dataframe tbody tr th {\n",
       "        vertical-align: top;\n",
       "    }\n",
       "\n",
       "    .dataframe thead th {\n",
       "        text-align: right;\n",
       "    }\n",
       "</style>\n",
       "<table border=\"1\" class=\"dataframe\">\n",
       "  <thead>\n",
       "    <tr style=\"text-align: right;\">\n",
       "      <th></th>\n",
       "      <th>都道府県名</th>\n",
       "      <th>元号</th>\n",
       "      <th>人口（総数）</th>\n",
       "      <th>人口（男）</th>\n",
       "    </tr>\n",
       "  </thead>\n",
       "  <tbody>\n",
       "    <tr>\n",
       "      <th>0</th>\n",
       "      <td>全国</td>\n",
       "      <td>大正</td>\n",
       "      <td>55963053</td>\n",
       "      <td>28044185</td>\n",
       "    </tr>\n",
       "    <tr>\n",
       "      <th>2</th>\n",
       "      <td>青森県</td>\n",
       "      <td>大正</td>\n",
       "      <td>756454</td>\n",
       "      <td>381293</td>\n",
       "    </tr>\n",
       "    <tr>\n",
       "      <th>4</th>\n",
       "      <td>宮城県</td>\n",
       "      <td>大正</td>\n",
       "      <td>961768</td>\n",
       "      <td>485309</td>\n",
       "    </tr>\n",
       "    <tr>\n",
       "      <th>6</th>\n",
       "      <td>山形県</td>\n",
       "      <td>大正</td>\n",
       "      <td>968925</td>\n",
       "      <td>478328</td>\n",
       "    </tr>\n",
       "    <tr>\n",
       "      <th>8</th>\n",
       "      <td>茨城県</td>\n",
       "      <td>大正</td>\n",
       "      <td>1350400</td>\n",
       "      <td>662128</td>\n",
       "    </tr>\n",
       "    <tr>\n",
       "      <th>...</th>\n",
       "      <td>...</td>\n",
       "      <td>...</td>\n",
       "      <td>...</td>\n",
       "      <td>...</td>\n",
       "    </tr>\n",
       "    <tr>\n",
       "      <th>970</th>\n",
       "      <td>愛媛県</td>\n",
       "      <td>平成</td>\n",
       "      <td>1385262</td>\n",
       "      <td>654380</td>\n",
       "    </tr>\n",
       "    <tr>\n",
       "      <th>972</th>\n",
       "      <td>福岡県</td>\n",
       "      <td>平成</td>\n",
       "      <td>5101556</td>\n",
       "      <td>2410418</td>\n",
       "    </tr>\n",
       "    <tr>\n",
       "      <th>974</th>\n",
       "      <td>長崎県</td>\n",
       "      <td>平成</td>\n",
       "      <td>1377187</td>\n",
       "      <td>645763</td>\n",
       "    </tr>\n",
       "    <tr>\n",
       "      <th>976</th>\n",
       "      <td>大分県</td>\n",
       "      <td>平成</td>\n",
       "      <td>1166338</td>\n",
       "      <td>551932</td>\n",
       "    </tr>\n",
       "    <tr>\n",
       "      <th>978</th>\n",
       "      <td>鹿児島県</td>\n",
       "      <td>平成</td>\n",
       "      <td>1648177</td>\n",
       "      <td>773061</td>\n",
       "    </tr>\n",
       "  </tbody>\n",
       "</table>\n",
       "<p>490 rows × 4 columns</p>\n",
       "</div>"
      ],
      "text/plain": [
       "    都道府県名  元号    人口（総数）     人口（男）\n",
       "0      全国  大正  55963053  28044185\n",
       "2     青森県  大正    756454    381293\n",
       "4     宮城県  大正    961768    485309\n",
       "6     山形県  大正    968925    478328\n",
       "8     茨城県  大正   1350400    662128\n",
       "..    ...  ..       ...       ...\n",
       "970   愛媛県  平成   1385262    654380\n",
       "972   福岡県  平成   5101556   2410418\n",
       "974   長崎県  平成   1377187    645763\n",
       "976   大分県  平成   1166338    551932\n",
       "978  鹿児島県  平成   1648177    773061\n",
       "\n",
       "[490 rows x 4 columns]"
      ]
     },
     "execution_count": 87,
     "metadata": {},
     "output_type": "execute_result"
    }
   ],
   "source": [
    "df.iloc[::2,[1,2,5,6]]"
   ]
  },
  {
   "cell_type": "markdown",
   "metadata": {},
   "source": [
    "## Re:DataFrameの分析"
   ]
  },
  {
   "cell_type": "code",
   "execution_count": 88,
   "metadata": {},
   "outputs": [
    {
     "data": {
      "text/plain": [
       "都道府県コード    object\n",
       "都道府県名      object\n",
       "元号         object\n",
       "和暦（年）       int64\n",
       "西暦（年）       int64\n",
       "人口（総数）     object\n",
       "人口（男）      object\n",
       "人口（女）      object\n",
       "dtype: object"
      ]
     },
     "execution_count": 88,
     "metadata": {},
     "output_type": "execute_result"
    }
   ],
   "source": [
    "df.dtypes"
   ]
  },
  {
   "cell_type": "markdown",
   "metadata": {},
   "source": [
    "describeはint列だけに適用"
   ]
  },
  {
   "cell_type": "code",
   "execution_count": 89,
   "metadata": {},
   "outputs": [],
   "source": [
    "df_2 = df"
   ]
  },
  {
   "cell_type": "code",
   "execution_count": 90,
   "metadata": {},
   "outputs": [
    {
     "data": {
      "text/plain": [
       "都道府県コード    object\n",
       "都道府県名      object\n",
       "元号         object\n",
       "和暦（年）       int64\n",
       "西暦（年）       int64\n",
       "人口（総数）     object\n",
       "人口（男）      object\n",
       "人口（女）      object\n",
       "dtype: object"
      ]
     },
     "execution_count": 90,
     "metadata": {},
     "output_type": "execute_result"
    }
   ],
   "source": [
    "df_2.dtypes"
   ]
  },
  {
   "cell_type": "code",
   "execution_count": 91,
   "metadata": {},
   "outputs": [
    {
     "ename": "ValueError",
     "evalue": "invalid literal for int() with base 10: '-'",
     "output_type": "error",
     "traceback": [
      "\u001b[0;31m---------------------------------------------------------------------------\u001b[0m",
      "\u001b[0;31mValueError\u001b[0m                                Traceback (most recent call last)",
      "\u001b[0;32m<ipython-input-91-63a01e47da4d>\u001b[0m in \u001b[0;36m<module>\u001b[0;34m\u001b[0m\n\u001b[0;32m----> 1\u001b[0;31m \u001b[0mdf_2\u001b[0m\u001b[0;34m[\u001b[0m\u001b[0;34m[\u001b[0m\u001b[0;34m'人口（総数）'\u001b[0m\u001b[0;34m,\u001b[0m\u001b[0;34m'人口（男）'\u001b[0m\u001b[0;34m,\u001b[0m\u001b[0;34m'人口（女）'\u001b[0m\u001b[0;34m]\u001b[0m\u001b[0;34m]\u001b[0m\u001b[0;34m.\u001b[0m\u001b[0mastype\u001b[0m\u001b[0;34m(\u001b[0m\u001b[0mint\u001b[0m\u001b[0;34m)\u001b[0m\u001b[0;34m\u001b[0m\u001b[0;34m\u001b[0m\u001b[0m\n\u001b[0m",
      "\u001b[0;32m/opt/anaconda3/lib/python3.7/site-packages/pandas/core/generic.py\u001b[0m in \u001b[0;36mastype\u001b[0;34m(self, dtype, copy, errors)\u001b[0m\n\u001b[1;32m   5696\u001b[0m         \u001b[0;32melse\u001b[0m\u001b[0;34m:\u001b[0m\u001b[0;34m\u001b[0m\u001b[0;34m\u001b[0m\u001b[0m\n\u001b[1;32m   5697\u001b[0m             \u001b[0;31m# else, only a single dtype is given\u001b[0m\u001b[0;34m\u001b[0m\u001b[0;34m\u001b[0m\u001b[0;34m\u001b[0m\u001b[0m\n\u001b[0;32m-> 5698\u001b[0;31m             \u001b[0mnew_data\u001b[0m \u001b[0;34m=\u001b[0m \u001b[0mself\u001b[0m\u001b[0;34m.\u001b[0m\u001b[0m_data\u001b[0m\u001b[0;34m.\u001b[0m\u001b[0mastype\u001b[0m\u001b[0;34m(\u001b[0m\u001b[0mdtype\u001b[0m\u001b[0;34m=\u001b[0m\u001b[0mdtype\u001b[0m\u001b[0;34m,\u001b[0m \u001b[0mcopy\u001b[0m\u001b[0;34m=\u001b[0m\u001b[0mcopy\u001b[0m\u001b[0;34m,\u001b[0m \u001b[0merrors\u001b[0m\u001b[0;34m=\u001b[0m\u001b[0merrors\u001b[0m\u001b[0;34m)\u001b[0m\u001b[0;34m\u001b[0m\u001b[0;34m\u001b[0m\u001b[0m\n\u001b[0m\u001b[1;32m   5699\u001b[0m             \u001b[0;32mreturn\u001b[0m \u001b[0mself\u001b[0m\u001b[0;34m.\u001b[0m\u001b[0m_constructor\u001b[0m\u001b[0;34m(\u001b[0m\u001b[0mnew_data\u001b[0m\u001b[0;34m)\u001b[0m\u001b[0;34m.\u001b[0m\u001b[0m__finalize__\u001b[0m\u001b[0;34m(\u001b[0m\u001b[0mself\u001b[0m\u001b[0;34m)\u001b[0m\u001b[0;34m\u001b[0m\u001b[0;34m\u001b[0m\u001b[0m\n\u001b[1;32m   5700\u001b[0m \u001b[0;34m\u001b[0m\u001b[0m\n",
      "\u001b[0;32m/opt/anaconda3/lib/python3.7/site-packages/pandas/core/internals/managers.py\u001b[0m in \u001b[0;36mastype\u001b[0;34m(self, dtype, copy, errors)\u001b[0m\n\u001b[1;32m    580\u001b[0m \u001b[0;34m\u001b[0m\u001b[0m\n\u001b[1;32m    581\u001b[0m     \u001b[0;32mdef\u001b[0m \u001b[0mastype\u001b[0m\u001b[0;34m(\u001b[0m\u001b[0mself\u001b[0m\u001b[0;34m,\u001b[0m \u001b[0mdtype\u001b[0m\u001b[0;34m,\u001b[0m \u001b[0mcopy\u001b[0m\u001b[0;34m:\u001b[0m \u001b[0mbool\u001b[0m \u001b[0;34m=\u001b[0m \u001b[0;32mFalse\u001b[0m\u001b[0;34m,\u001b[0m \u001b[0merrors\u001b[0m\u001b[0;34m:\u001b[0m \u001b[0mstr\u001b[0m \u001b[0;34m=\u001b[0m \u001b[0;34m\"raise\"\u001b[0m\u001b[0;34m)\u001b[0m\u001b[0;34m:\u001b[0m\u001b[0;34m\u001b[0m\u001b[0;34m\u001b[0m\u001b[0m\n\u001b[0;32m--> 582\u001b[0;31m         \u001b[0;32mreturn\u001b[0m \u001b[0mself\u001b[0m\u001b[0;34m.\u001b[0m\u001b[0mapply\u001b[0m\u001b[0;34m(\u001b[0m\u001b[0;34m\"astype\"\u001b[0m\u001b[0;34m,\u001b[0m \u001b[0mdtype\u001b[0m\u001b[0;34m=\u001b[0m\u001b[0mdtype\u001b[0m\u001b[0;34m,\u001b[0m \u001b[0mcopy\u001b[0m\u001b[0;34m=\u001b[0m\u001b[0mcopy\u001b[0m\u001b[0;34m,\u001b[0m \u001b[0merrors\u001b[0m\u001b[0;34m=\u001b[0m\u001b[0merrors\u001b[0m\u001b[0;34m)\u001b[0m\u001b[0;34m\u001b[0m\u001b[0;34m\u001b[0m\u001b[0m\n\u001b[0m\u001b[1;32m    583\u001b[0m \u001b[0;34m\u001b[0m\u001b[0m\n\u001b[1;32m    584\u001b[0m     \u001b[0;32mdef\u001b[0m \u001b[0mconvert\u001b[0m\u001b[0;34m(\u001b[0m\u001b[0mself\u001b[0m\u001b[0;34m,\u001b[0m \u001b[0;34m**\u001b[0m\u001b[0mkwargs\u001b[0m\u001b[0;34m)\u001b[0m\u001b[0;34m:\u001b[0m\u001b[0;34m\u001b[0m\u001b[0;34m\u001b[0m\u001b[0m\n",
      "\u001b[0;32m/opt/anaconda3/lib/python3.7/site-packages/pandas/core/internals/managers.py\u001b[0m in \u001b[0;36mapply\u001b[0;34m(self, f, filter, **kwargs)\u001b[0m\n\u001b[1;32m    440\u001b[0m                 \u001b[0mapplied\u001b[0m \u001b[0;34m=\u001b[0m \u001b[0mb\u001b[0m\u001b[0;34m.\u001b[0m\u001b[0mapply\u001b[0m\u001b[0;34m(\u001b[0m\u001b[0mf\u001b[0m\u001b[0;34m,\u001b[0m \u001b[0;34m**\u001b[0m\u001b[0mkwargs\u001b[0m\u001b[0;34m)\u001b[0m\u001b[0;34m\u001b[0m\u001b[0;34m\u001b[0m\u001b[0m\n\u001b[1;32m    441\u001b[0m             \u001b[0;32melse\u001b[0m\u001b[0;34m:\u001b[0m\u001b[0;34m\u001b[0m\u001b[0;34m\u001b[0m\u001b[0m\n\u001b[0;32m--> 442\u001b[0;31m                 \u001b[0mapplied\u001b[0m \u001b[0;34m=\u001b[0m \u001b[0mgetattr\u001b[0m\u001b[0;34m(\u001b[0m\u001b[0mb\u001b[0m\u001b[0;34m,\u001b[0m \u001b[0mf\u001b[0m\u001b[0;34m)\u001b[0m\u001b[0;34m(\u001b[0m\u001b[0;34m**\u001b[0m\u001b[0mkwargs\u001b[0m\u001b[0;34m)\u001b[0m\u001b[0;34m\u001b[0m\u001b[0;34m\u001b[0m\u001b[0m\n\u001b[0m\u001b[1;32m    443\u001b[0m             \u001b[0mresult_blocks\u001b[0m \u001b[0;34m=\u001b[0m \u001b[0m_extend_blocks\u001b[0m\u001b[0;34m(\u001b[0m\u001b[0mapplied\u001b[0m\u001b[0;34m,\u001b[0m \u001b[0mresult_blocks\u001b[0m\u001b[0;34m)\u001b[0m\u001b[0;34m\u001b[0m\u001b[0;34m\u001b[0m\u001b[0m\n\u001b[1;32m    444\u001b[0m \u001b[0;34m\u001b[0m\u001b[0m\n",
      "\u001b[0;32m/opt/anaconda3/lib/python3.7/site-packages/pandas/core/internals/blocks.py\u001b[0m in \u001b[0;36mastype\u001b[0;34m(self, dtype, copy, errors)\u001b[0m\n\u001b[1;32m    623\u001b[0m             \u001b[0mvals1d\u001b[0m \u001b[0;34m=\u001b[0m \u001b[0mvalues\u001b[0m\u001b[0;34m.\u001b[0m\u001b[0mravel\u001b[0m\u001b[0;34m(\u001b[0m\u001b[0;34m)\u001b[0m\u001b[0;34m\u001b[0m\u001b[0;34m\u001b[0m\u001b[0m\n\u001b[1;32m    624\u001b[0m             \u001b[0;32mtry\u001b[0m\u001b[0;34m:\u001b[0m\u001b[0;34m\u001b[0m\u001b[0;34m\u001b[0m\u001b[0m\n\u001b[0;32m--> 625\u001b[0;31m                 \u001b[0mvalues\u001b[0m \u001b[0;34m=\u001b[0m \u001b[0mastype_nansafe\u001b[0m\u001b[0;34m(\u001b[0m\u001b[0mvals1d\u001b[0m\u001b[0;34m,\u001b[0m \u001b[0mdtype\u001b[0m\u001b[0;34m,\u001b[0m \u001b[0mcopy\u001b[0m\u001b[0;34m=\u001b[0m\u001b[0;32mTrue\u001b[0m\u001b[0;34m)\u001b[0m\u001b[0;34m\u001b[0m\u001b[0;34m\u001b[0m\u001b[0m\n\u001b[0m\u001b[1;32m    626\u001b[0m             \u001b[0;32mexcept\u001b[0m \u001b[0;34m(\u001b[0m\u001b[0mValueError\u001b[0m\u001b[0;34m,\u001b[0m \u001b[0mTypeError\u001b[0m\u001b[0;34m)\u001b[0m\u001b[0;34m:\u001b[0m\u001b[0;34m\u001b[0m\u001b[0;34m\u001b[0m\u001b[0m\n\u001b[1;32m    627\u001b[0m                 \u001b[0;31m# e.g. astype_nansafe can fail on object-dtype of strings\u001b[0m\u001b[0;34m\u001b[0m\u001b[0;34m\u001b[0m\u001b[0;34m\u001b[0m\u001b[0m\n",
      "\u001b[0;32m/opt/anaconda3/lib/python3.7/site-packages/pandas/core/dtypes/cast.py\u001b[0m in \u001b[0;36mastype_nansafe\u001b[0;34m(arr, dtype, copy, skipna)\u001b[0m\n\u001b[1;32m    872\u001b[0m         \u001b[0;31m# work around NumPy brokenness, #1987\u001b[0m\u001b[0;34m\u001b[0m\u001b[0;34m\u001b[0m\u001b[0;34m\u001b[0m\u001b[0m\n\u001b[1;32m    873\u001b[0m         \u001b[0;32mif\u001b[0m \u001b[0mnp\u001b[0m\u001b[0;34m.\u001b[0m\u001b[0missubdtype\u001b[0m\u001b[0;34m(\u001b[0m\u001b[0mdtype\u001b[0m\u001b[0;34m.\u001b[0m\u001b[0mtype\u001b[0m\u001b[0;34m,\u001b[0m \u001b[0mnp\u001b[0m\u001b[0;34m.\u001b[0m\u001b[0minteger\u001b[0m\u001b[0;34m)\u001b[0m\u001b[0;34m:\u001b[0m\u001b[0;34m\u001b[0m\u001b[0;34m\u001b[0m\u001b[0m\n\u001b[0;32m--> 874\u001b[0;31m             \u001b[0;32mreturn\u001b[0m \u001b[0mlib\u001b[0m\u001b[0;34m.\u001b[0m\u001b[0mastype_intsafe\u001b[0m\u001b[0;34m(\u001b[0m\u001b[0marr\u001b[0m\u001b[0;34m.\u001b[0m\u001b[0mravel\u001b[0m\u001b[0;34m(\u001b[0m\u001b[0;34m)\u001b[0m\u001b[0;34m,\u001b[0m \u001b[0mdtype\u001b[0m\u001b[0;34m)\u001b[0m\u001b[0;34m.\u001b[0m\u001b[0mreshape\u001b[0m\u001b[0;34m(\u001b[0m\u001b[0marr\u001b[0m\u001b[0;34m.\u001b[0m\u001b[0mshape\u001b[0m\u001b[0;34m)\u001b[0m\u001b[0;34m\u001b[0m\u001b[0;34m\u001b[0m\u001b[0m\n\u001b[0m\u001b[1;32m    875\u001b[0m \u001b[0;34m\u001b[0m\u001b[0m\n\u001b[1;32m    876\u001b[0m         \u001b[0;31m# if we have a datetime/timedelta array of objects\u001b[0m\u001b[0;34m\u001b[0m\u001b[0;34m\u001b[0m\u001b[0;34m\u001b[0m\u001b[0m\n",
      "\u001b[0;32mpandas/_libs/lib.pyx\u001b[0m in \u001b[0;36mpandas._libs.lib.astype_intsafe\u001b[0;34m()\u001b[0m\n",
      "\u001b[0;31mValueError\u001b[0m: invalid literal for int() with base 10: '-'"
     ]
    }
   ],
   "source": [
    "df_2[['人口（総数）','人口（男）','人口（女）']].astype(int)"
   ]
  },
  {
   "cell_type": "markdown",
   "metadata": {},
   "source": [
    "ValueError: invalid literal for int() with base 10: '-' はハイフンintではないから"
   ]
  },
  {
   "cell_type": "code",
   "execution_count": 92,
   "metadata": {},
   "outputs": [
    {
     "data": {
      "text/html": [
       "<div>\n",
       "<style scoped>\n",
       "    .dataframe tbody tr th:only-of-type {\n",
       "        vertical-align: middle;\n",
       "    }\n",
       "\n",
       "    .dataframe tbody tr th {\n",
       "        vertical-align: top;\n",
       "    }\n",
       "\n",
       "    .dataframe thead th {\n",
       "        text-align: right;\n",
       "    }\n",
       "</style>\n",
       "<table border=\"1\" class=\"dataframe\">\n",
       "  <thead>\n",
       "    <tr style=\"text-align: right;\">\n",
       "      <th></th>\n",
       "      <th>都道府県コード</th>\n",
       "      <th>都道府県名</th>\n",
       "      <th>元号</th>\n",
       "      <th>和暦（年）</th>\n",
       "      <th>西暦（年）</th>\n",
       "      <th>人口（総数）</th>\n",
       "      <th>人口（男）</th>\n",
       "      <th>人口（女）</th>\n",
       "    </tr>\n",
       "  </thead>\n",
       "  <tbody>\n",
       "    <tr>\n",
       "      <th>287</th>\n",
       "      <td>47</td>\n",
       "      <td>沖縄県</td>\n",
       "      <td>昭和</td>\n",
       "      <td>20</td>\n",
       "      <td>1945</td>\n",
       "      <td>-</td>\n",
       "      <td>-</td>\n",
       "      <td>-</td>\n",
       "    </tr>\n",
       "  </tbody>\n",
       "</table>\n",
       "</div>"
      ],
      "text/plain": [
       "    都道府県コード 都道府県名  元号  和暦（年）  西暦（年） 人口（総数） 人口（男） 人口（女）\n",
       "287      47   沖縄県  昭和     20   1945      -     -     -"
      ]
     },
     "execution_count": 92,
     "metadata": {},
     "output_type": "execute_result"
    }
   ],
   "source": [
    "df_2[df_2['人口（総数）'] == '-']"
   ]
  },
  {
   "cell_type": "code",
   "execution_count": 93,
   "metadata": {},
   "outputs": [
    {
     "data": {
      "text/html": [
       "<div>\n",
       "<style scoped>\n",
       "    .dataframe tbody tr th:only-of-type {\n",
       "        vertical-align: middle;\n",
       "    }\n",
       "\n",
       "    .dataframe tbody tr th {\n",
       "        vertical-align: top;\n",
       "    }\n",
       "\n",
       "    .dataframe thead th {\n",
       "        text-align: right;\n",
       "    }\n",
       "</style>\n",
       "<table border=\"1\" class=\"dataframe\">\n",
       "  <thead>\n",
       "    <tr style=\"text-align: right;\">\n",
       "      <th></th>\n",
       "      <th>都道府県コード</th>\n",
       "      <th>都道府県名</th>\n",
       "      <th>元号</th>\n",
       "      <th>和暦（年）</th>\n",
       "      <th>西暦（年）</th>\n",
       "      <th>人口（総数）</th>\n",
       "      <th>人口（男）</th>\n",
       "      <th>人口（女）</th>\n",
       "    </tr>\n",
       "  </thead>\n",
       "  <tbody>\n",
       "    <tr>\n",
       "      <th>287</th>\n",
       "      <td>47</td>\n",
       "      <td>沖縄県</td>\n",
       "      <td>昭和</td>\n",
       "      <td>20</td>\n",
       "      <td>1945</td>\n",
       "      <td>-</td>\n",
       "      <td>-</td>\n",
       "      <td>-</td>\n",
       "    </tr>\n",
       "  </tbody>\n",
       "</table>\n",
       "</div>"
      ],
      "text/plain": [
       "    都道府県コード 都道府県名  元号  和暦（年）  西暦（年） 人口（総数） 人口（男） 人口（女）\n",
       "287      47   沖縄県  昭和     20   1945      -     -     -"
      ]
     },
     "execution_count": 93,
     "metadata": {},
     "output_type": "execute_result"
    }
   ],
   "source": [
    "df_2[(df_2['人口（総数）'] == '-') | (df_2['人口（男）'] == '-') | (df_2['人口（女）'] == '-')]"
   ]
  },
  {
   "cell_type": "code",
   "execution_count": 94,
   "metadata": {},
   "outputs": [
    {
     "data": {
      "text/plain": [
       "'-'"
      ]
     },
     "execution_count": 94,
     "metadata": {},
     "output_type": "execute_result"
    }
   ],
   "source": [
    "df_2.at[287,'人口（総数）']"
   ]
  },
  {
   "cell_type": "code",
   "execution_count": 95,
   "metadata": {},
   "outputs": [],
   "source": [
    "df_2.at[287,'人口（総数）'] = 0\n",
    "df_2.at[287,'人口（男）'] = 0\n",
    "df_2.at[287,'人口（女）'] = 0"
   ]
  },
  {
   "cell_type": "code",
   "execution_count": 96,
   "metadata": {},
   "outputs": [
    {
     "data": {
      "text/html": [
       "<div>\n",
       "<style scoped>\n",
       "    .dataframe tbody tr th:only-of-type {\n",
       "        vertical-align: middle;\n",
       "    }\n",
       "\n",
       "    .dataframe tbody tr th {\n",
       "        vertical-align: top;\n",
       "    }\n",
       "\n",
       "    .dataframe thead th {\n",
       "        text-align: right;\n",
       "    }\n",
       "</style>\n",
       "<table border=\"1\" class=\"dataframe\">\n",
       "  <thead>\n",
       "    <tr style=\"text-align: right;\">\n",
       "      <th></th>\n",
       "      <th>都道府県コード</th>\n",
       "      <th>都道府県名</th>\n",
       "      <th>元号</th>\n",
       "      <th>和暦（年）</th>\n",
       "      <th>西暦（年）</th>\n",
       "      <th>人口（総数）</th>\n",
       "      <th>人口（男）</th>\n",
       "      <th>人口（女）</th>\n",
       "    </tr>\n",
       "  </thead>\n",
       "  <tbody>\n",
       "  </tbody>\n",
       "</table>\n",
       "</div>"
      ],
      "text/plain": [
       "Empty DataFrame\n",
       "Columns: [都道府県コード, 都道府県名, 元号, 和暦（年）, 西暦（年）, 人口（総数）, 人口（男）, 人口（女）]\n",
       "Index: []"
      ]
     },
     "execution_count": 96,
     "metadata": {},
     "output_type": "execute_result"
    }
   ],
   "source": [
    "df_2[(df_2['人口（総数）'] == '-') | (df_2['人口（男）'] == '-') | (df_2['人口（女）'] == '-')]\n"
   ]
  },
  {
   "cell_type": "code",
   "execution_count": 97,
   "metadata": {},
   "outputs": [
    {
     "data": {
      "text/plain": [
       "<bound method NDFrame.astype of        人口（総数）     人口（男）     人口（女）\n",
       "0    55963053  28044185  27918868\n",
       "1     2359183   1244322   1114861\n",
       "2      756454    381293    375161\n",
       "3      845540    421069    424471\n",
       "4      961768    485309    476459\n",
       "..        ...       ...       ...\n",
       "975   1786170    841046    945124\n",
       "976   1166338    551932    614406\n",
       "977   1104069    519242    584827\n",
       "978   1648177    773061    875116\n",
       "979   1433566    704619    728947\n",
       "\n",
       "[980 rows x 3 columns]>"
      ]
     },
     "execution_count": 97,
     "metadata": {},
     "output_type": "execute_result"
    }
   ],
   "source": [
    "df_2[['人口（総数）','人口（男）','人口（女）']].astype"
   ]
  },
  {
   "cell_type": "code",
   "execution_count": 98,
   "metadata": {},
   "outputs": [
    {
     "data": {
      "text/plain": [
       "都道府県コード    object\n",
       "都道府県名      object\n",
       "元号         object\n",
       "和暦（年）       int64\n",
       "西暦（年）       int64\n",
       "人口（総数）     object\n",
       "人口（男）      object\n",
       "人口（女）      object\n",
       "dtype: object"
      ]
     },
     "execution_count": 98,
     "metadata": {},
     "output_type": "execute_result"
    }
   ],
   "source": [
    "df_2.dtypes"
   ]
  },
  {
   "cell_type": "code",
   "execution_count": 99,
   "metadata": {},
   "outputs": [
    {
     "data": {
      "text/html": [
       "<div>\n",
       "<style scoped>\n",
       "    .dataframe tbody tr th:only-of-type {\n",
       "        vertical-align: middle;\n",
       "    }\n",
       "\n",
       "    .dataframe tbody tr th {\n",
       "        vertical-align: top;\n",
       "    }\n",
       "\n",
       "    .dataframe thead th {\n",
       "        text-align: right;\n",
       "    }\n",
       "</style>\n",
       "<table border=\"1\" class=\"dataframe\">\n",
       "  <thead>\n",
       "    <tr style=\"text-align: right;\">\n",
       "      <th></th>\n",
       "      <th>人口（総数）</th>\n",
       "      <th>人口（男）</th>\n",
       "      <th>人口（女）</th>\n",
       "    </tr>\n",
       "  </thead>\n",
       "  <tbody>\n",
       "    <tr>\n",
       "      <th>0</th>\n",
       "      <td>55963053</td>\n",
       "      <td>28044185</td>\n",
       "      <td>27918868</td>\n",
       "    </tr>\n",
       "    <tr>\n",
       "      <th>1</th>\n",
       "      <td>2359183</td>\n",
       "      <td>1244322</td>\n",
       "      <td>1114861</td>\n",
       "    </tr>\n",
       "    <tr>\n",
       "      <th>2</th>\n",
       "      <td>756454</td>\n",
       "      <td>381293</td>\n",
       "      <td>375161</td>\n",
       "    </tr>\n",
       "    <tr>\n",
       "      <th>3</th>\n",
       "      <td>845540</td>\n",
       "      <td>421069</td>\n",
       "      <td>424471</td>\n",
       "    </tr>\n",
       "    <tr>\n",
       "      <th>4</th>\n",
       "      <td>961768</td>\n",
       "      <td>485309</td>\n",
       "      <td>476459</td>\n",
       "    </tr>\n",
       "    <tr>\n",
       "      <th>...</th>\n",
       "      <td>...</td>\n",
       "      <td>...</td>\n",
       "      <td>...</td>\n",
       "    </tr>\n",
       "    <tr>\n",
       "      <th>975</th>\n",
       "      <td>1786170</td>\n",
       "      <td>841046</td>\n",
       "      <td>945124</td>\n",
       "    </tr>\n",
       "    <tr>\n",
       "      <th>976</th>\n",
       "      <td>1166338</td>\n",
       "      <td>551932</td>\n",
       "      <td>614406</td>\n",
       "    </tr>\n",
       "    <tr>\n",
       "      <th>977</th>\n",
       "      <td>1104069</td>\n",
       "      <td>519242</td>\n",
       "      <td>584827</td>\n",
       "    </tr>\n",
       "    <tr>\n",
       "      <th>978</th>\n",
       "      <td>1648177</td>\n",
       "      <td>773061</td>\n",
       "      <td>875116</td>\n",
       "    </tr>\n",
       "    <tr>\n",
       "      <th>979</th>\n",
       "      <td>1433566</td>\n",
       "      <td>704619</td>\n",
       "      <td>728947</td>\n",
       "    </tr>\n",
       "  </tbody>\n",
       "</table>\n",
       "<p>980 rows × 3 columns</p>\n",
       "</div>"
      ],
      "text/plain": [
       "       人口（総数）     人口（男）     人口（女）\n",
       "0    55963053  28044185  27918868\n",
       "1     2359183   1244322   1114861\n",
       "2      756454    381293    375161\n",
       "3      845540    421069    424471\n",
       "4      961768    485309    476459\n",
       "..        ...       ...       ...\n",
       "975   1786170    841046    945124\n",
       "976   1166338    551932    614406\n",
       "977   1104069    519242    584827\n",
       "978   1648177    773061    875116\n",
       "979   1433566    704619    728947\n",
       "\n",
       "[980 rows x 3 columns]"
      ]
     },
     "execution_count": 99,
     "metadata": {},
     "output_type": "execute_result"
    }
   ],
   "source": [
    "df_2[['人口（総数）', '人口（男）', '人口（女）']].astype(int)"
   ]
  },
  {
   "cell_type": "code",
   "execution_count": 100,
   "metadata": {},
   "outputs": [
    {
     "ename": "TypeError",
     "evalue": "astype() missing 1 required positional argument: 'dtype'",
     "output_type": "error",
     "traceback": [
      "\u001b[0;31m---------------------------------------------------------------------------\u001b[0m",
      "\u001b[0;31mTypeError\u001b[0m                                 Traceback (most recent call last)",
      "\u001b[0;32m<ipython-input-100-6ec9f5eda0fe>\u001b[0m in \u001b[0;36m<module>\u001b[0;34m\u001b[0m\n\u001b[0;32m----> 1\u001b[0;31m \u001b[0mdf_2\u001b[0m \u001b[0;34m=\u001b[0m \u001b[0mdf_2\u001b[0m\u001b[0;34m.\u001b[0m\u001b[0mastype\u001b[0m\u001b[0;34m(\u001b[0m\u001b[0;34m)\u001b[0m\u001b[0;34m\u001b[0m\u001b[0;34m\u001b[0m\u001b[0m\n\u001b[0m",
      "\u001b[0;31mTypeError\u001b[0m: astype() missing 1 required positional argument: 'dtype'"
     ]
    }
   ],
   "source": [
    "df_2 = df_2.astype()"
   ]
  },
  {
   "cell_type": "code",
   "execution_count": 101,
   "metadata": {},
   "outputs": [
    {
     "data": {
      "text/html": [
       "<div>\n",
       "<style scoped>\n",
       "    .dataframe tbody tr th:only-of-type {\n",
       "        vertical-align: middle;\n",
       "    }\n",
       "\n",
       "    .dataframe tbody tr th {\n",
       "        vertical-align: top;\n",
       "    }\n",
       "\n",
       "    .dataframe thead th {\n",
       "        text-align: right;\n",
       "    }\n",
       "</style>\n",
       "<table border=\"1\" class=\"dataframe\">\n",
       "  <thead>\n",
       "    <tr style=\"text-align: right;\">\n",
       "      <th></th>\n",
       "      <th>都道府県コード</th>\n",
       "      <th>都道府県名</th>\n",
       "      <th>元号</th>\n",
       "      <th>和暦（年）</th>\n",
       "      <th>西暦（年）</th>\n",
       "      <th>人口（総数）</th>\n",
       "      <th>人口（男）</th>\n",
       "      <th>人口（女）</th>\n",
       "    </tr>\n",
       "  </thead>\n",
       "  <tbody>\n",
       "    <tr>\n",
       "      <th>0</th>\n",
       "      <td>0</td>\n",
       "      <td>全国</td>\n",
       "      <td>大正</td>\n",
       "      <td>9</td>\n",
       "      <td>1920</td>\n",
       "      <td>55963053</td>\n",
       "      <td>28044185</td>\n",
       "      <td>27918868</td>\n",
       "    </tr>\n",
       "    <tr>\n",
       "      <th>1</th>\n",
       "      <td>1</td>\n",
       "      <td>北海道</td>\n",
       "      <td>大正</td>\n",
       "      <td>9</td>\n",
       "      <td>1920</td>\n",
       "      <td>2359183</td>\n",
       "      <td>1244322</td>\n",
       "      <td>1114861</td>\n",
       "    </tr>\n",
       "    <tr>\n",
       "      <th>2</th>\n",
       "      <td>2</td>\n",
       "      <td>青森県</td>\n",
       "      <td>大正</td>\n",
       "      <td>9</td>\n",
       "      <td>1920</td>\n",
       "      <td>756454</td>\n",
       "      <td>381293</td>\n",
       "      <td>375161</td>\n",
       "    </tr>\n",
       "    <tr>\n",
       "      <th>3</th>\n",
       "      <td>3</td>\n",
       "      <td>岩手県</td>\n",
       "      <td>大正</td>\n",
       "      <td>9</td>\n",
       "      <td>1920</td>\n",
       "      <td>845540</td>\n",
       "      <td>421069</td>\n",
       "      <td>424471</td>\n",
       "    </tr>\n",
       "    <tr>\n",
       "      <th>4</th>\n",
       "      <td>4</td>\n",
       "      <td>宮城県</td>\n",
       "      <td>大正</td>\n",
       "      <td>9</td>\n",
       "      <td>1920</td>\n",
       "      <td>961768</td>\n",
       "      <td>485309</td>\n",
       "      <td>476459</td>\n",
       "    </tr>\n",
       "    <tr>\n",
       "      <th>...</th>\n",
       "      <td>...</td>\n",
       "      <td>...</td>\n",
       "      <td>...</td>\n",
       "      <td>...</td>\n",
       "      <td>...</td>\n",
       "      <td>...</td>\n",
       "      <td>...</td>\n",
       "      <td>...</td>\n",
       "    </tr>\n",
       "    <tr>\n",
       "      <th>975</th>\n",
       "      <td>43</td>\n",
       "      <td>熊本県</td>\n",
       "      <td>平成</td>\n",
       "      <td>27</td>\n",
       "      <td>2015</td>\n",
       "      <td>1786170</td>\n",
       "      <td>841046</td>\n",
       "      <td>945124</td>\n",
       "    </tr>\n",
       "    <tr>\n",
       "      <th>976</th>\n",
       "      <td>44</td>\n",
       "      <td>大分県</td>\n",
       "      <td>平成</td>\n",
       "      <td>27</td>\n",
       "      <td>2015</td>\n",
       "      <td>1166338</td>\n",
       "      <td>551932</td>\n",
       "      <td>614406</td>\n",
       "    </tr>\n",
       "    <tr>\n",
       "      <th>977</th>\n",
       "      <td>45</td>\n",
       "      <td>宮崎県</td>\n",
       "      <td>平成</td>\n",
       "      <td>27</td>\n",
       "      <td>2015</td>\n",
       "      <td>1104069</td>\n",
       "      <td>519242</td>\n",
       "      <td>584827</td>\n",
       "    </tr>\n",
       "    <tr>\n",
       "      <th>978</th>\n",
       "      <td>46</td>\n",
       "      <td>鹿児島県</td>\n",
       "      <td>平成</td>\n",
       "      <td>27</td>\n",
       "      <td>2015</td>\n",
       "      <td>1648177</td>\n",
       "      <td>773061</td>\n",
       "      <td>875116</td>\n",
       "    </tr>\n",
       "    <tr>\n",
       "      <th>979</th>\n",
       "      <td>47</td>\n",
       "      <td>沖縄県</td>\n",
       "      <td>平成</td>\n",
       "      <td>27</td>\n",
       "      <td>2015</td>\n",
       "      <td>1433566</td>\n",
       "      <td>704619</td>\n",
       "      <td>728947</td>\n",
       "    </tr>\n",
       "  </tbody>\n",
       "</table>\n",
       "<p>980 rows × 8 columns</p>\n",
       "</div>"
      ],
      "text/plain": [
       "    都道府県コード 都道府県名  元号  和暦（年）  西暦（年）    人口（総数）     人口（男）     人口（女）\n",
       "0         0    全国  大正      9   1920  55963053  28044185  27918868\n",
       "1         1   北海道  大正      9   1920   2359183   1244322   1114861\n",
       "2         2   青森県  大正      9   1920    756454    381293    375161\n",
       "3         3   岩手県  大正      9   1920    845540    421069    424471\n",
       "4         4   宮城県  大正      9   1920    961768    485309    476459\n",
       "..      ...   ...  ..    ...    ...       ...       ...       ...\n",
       "975      43   熊本県  平成     27   2015   1786170    841046    945124\n",
       "976      44   大分県  平成     27   2015   1166338    551932    614406\n",
       "977      45   宮崎県  平成     27   2015   1104069    519242    584827\n",
       "978      46  鹿児島県  平成     27   2015   1648177    773061    875116\n",
       "979      47   沖縄県  平成     27   2015   1433566    704619    728947\n",
       "\n",
       "[980 rows x 8 columns]"
      ]
     },
     "execution_count": 101,
     "metadata": {},
     "output_type": "execute_result"
    }
   ],
   "source": [
    "df_2 = df_2.astype({'人口（総数）':int , '人口（男）':int , '人口（女）':int})\n",
    "df_2"
   ]
  },
  {
   "cell_type": "code",
   "execution_count": 102,
   "metadata": {},
   "outputs": [
    {
     "data": {
      "text/html": [
       "<div>\n",
       "<style scoped>\n",
       "    .dataframe tbody tr th:only-of-type {\n",
       "        vertical-align: middle;\n",
       "    }\n",
       "\n",
       "    .dataframe tbody tr th {\n",
       "        vertical-align: top;\n",
       "    }\n",
       "\n",
       "    .dataframe thead th {\n",
       "        text-align: right;\n",
       "    }\n",
       "</style>\n",
       "<table border=\"1\" class=\"dataframe\">\n",
       "  <thead>\n",
       "    <tr style=\"text-align: right;\">\n",
       "      <th></th>\n",
       "      <th>和暦（年）</th>\n",
       "      <th>西暦（年）</th>\n",
       "      <th>人口（総数）</th>\n",
       "      <th>人口（男）</th>\n",
       "      <th>人口（女）</th>\n",
       "    </tr>\n",
       "  </thead>\n",
       "  <tbody>\n",
       "    <tr>\n",
       "      <th>count</th>\n",
       "      <td>980.000000</td>\n",
       "      <td>980.000000</td>\n",
       "      <td>9.800000e+02</td>\n",
       "      <td>9.800000e+02</td>\n",
       "      <td>9.800000e+02</td>\n",
       "    </tr>\n",
       "    <tr>\n",
       "      <th>mean</th>\n",
       "      <td>25.095918</td>\n",
       "      <td>1968.010204</td>\n",
       "      <td>5.271083e+06</td>\n",
       "      <td>2.587337e+06</td>\n",
       "      <td>2.683746e+06</td>\n",
       "    </tr>\n",
       "    <tr>\n",
       "      <th>std</th>\n",
       "      <td>17.012192</td>\n",
       "      <td>28.841611</td>\n",
       "      <td>1.654824e+07</td>\n",
       "      <td>8.119294e+06</td>\n",
       "      <td>8.429865e+06</td>\n",
       "    </tr>\n",
       "    <tr>\n",
       "      <th>min</th>\n",
       "      <td>2.000000</td>\n",
       "      <td>1920.000000</td>\n",
       "      <td>0.000000e+00</td>\n",
       "      <td>0.000000e+00</td>\n",
       "      <td>0.000000e+00</td>\n",
       "    </tr>\n",
       "    <tr>\n",
       "      <th>25%</th>\n",
       "      <td>12.000000</td>\n",
       "      <td>1945.000000</td>\n",
       "      <td>1.022810e+06</td>\n",
       "      <td>4.917362e+05</td>\n",
       "      <td>5.252290e+05</td>\n",
       "    </tr>\n",
       "    <tr>\n",
       "      <th>50%</th>\n",
       "      <td>22.000000</td>\n",
       "      <td>1970.000000</td>\n",
       "      <td>1.509799e+06</td>\n",
       "      <td>7.189630e+05</td>\n",
       "      <td>7.800415e+05</td>\n",
       "    </tr>\n",
       "    <tr>\n",
       "      <th>75%</th>\n",
       "      <td>40.000000</td>\n",
       "      <td>1995.000000</td>\n",
       "      <td>2.367602e+06</td>\n",
       "      <td>1.160430e+06</td>\n",
       "      <td>1.212123e+06</td>\n",
       "    </tr>\n",
       "    <tr>\n",
       "      <th>max</th>\n",
       "      <td>60.000000</td>\n",
       "      <td>2015.000000</td>\n",
       "      <td>1.280574e+08</td>\n",
       "      <td>6.234898e+07</td>\n",
       "      <td>6.572962e+07</td>\n",
       "    </tr>\n",
       "  </tbody>\n",
       "</table>\n",
       "</div>"
      ],
      "text/plain": [
       "            和暦（年）        西暦（年）        人口（総数）         人口（男）         人口（女）\n",
       "count  980.000000   980.000000  9.800000e+02  9.800000e+02  9.800000e+02\n",
       "mean    25.095918  1968.010204  5.271083e+06  2.587337e+06  2.683746e+06\n",
       "std     17.012192    28.841611  1.654824e+07  8.119294e+06  8.429865e+06\n",
       "min      2.000000  1920.000000  0.000000e+00  0.000000e+00  0.000000e+00\n",
       "25%     12.000000  1945.000000  1.022810e+06  4.917362e+05  5.252290e+05\n",
       "50%     22.000000  1970.000000  1.509799e+06  7.189630e+05  7.800415e+05\n",
       "75%     40.000000  1995.000000  2.367602e+06  1.160430e+06  1.212123e+06\n",
       "max     60.000000  2015.000000  1.280574e+08  6.234898e+07  6.572962e+07"
      ]
     },
     "execution_count": 102,
     "metadata": {},
     "output_type": "execute_result"
    }
   ],
   "source": [
    "df_2.describe()"
   ]
  },
  {
   "cell_type": "code",
   "execution_count": 103,
   "metadata": {},
   "outputs": [
    {
     "data": {
      "text/plain": [
       "都道府県コード    object\n",
       "都道府県名      object\n",
       "元号         object\n",
       "和暦（年）       int64\n",
       "西暦（年）       int64\n",
       "人口（総数）      int64\n",
       "人口（男）       int64\n",
       "人口（女）       int64\n",
       "dtype: object"
      ]
     },
     "execution_count": 103,
     "metadata": {},
     "output_type": "execute_result"
    }
   ],
   "source": [
    "df_2.dtypes"
   ]
  },
  {
   "cell_type": "markdown",
   "metadata": {},
   "source": [
    "福島県について分析"
   ]
  },
  {
   "cell_type": "code",
   "execution_count": 104,
   "metadata": {},
   "outputs": [
    {
     "data": {
      "text/html": [
       "<div>\n",
       "<style scoped>\n",
       "    .dataframe tbody tr th:only-of-type {\n",
       "        vertical-align: middle;\n",
       "    }\n",
       "\n",
       "    .dataframe tbody tr th {\n",
       "        vertical-align: top;\n",
       "    }\n",
       "\n",
       "    .dataframe thead th {\n",
       "        text-align: right;\n",
       "    }\n",
       "</style>\n",
       "<table border=\"1\" class=\"dataframe\">\n",
       "  <thead>\n",
       "    <tr style=\"text-align: right;\">\n",
       "      <th></th>\n",
       "      <th>都道府県コード</th>\n",
       "      <th>都道府県名</th>\n",
       "      <th>元号</th>\n",
       "      <th>和暦（年）</th>\n",
       "      <th>西暦（年）</th>\n",
       "      <th>人口（総数）</th>\n",
       "      <th>人口（男）</th>\n",
       "      <th>人口（女）</th>\n",
       "    </tr>\n",
       "  </thead>\n",
       "  <tbody>\n",
       "    <tr>\n",
       "      <th>7</th>\n",
       "      <td>7</td>\n",
       "      <td>福島県</td>\n",
       "      <td>大正</td>\n",
       "      <td>9</td>\n",
       "      <td>1920</td>\n",
       "      <td>1362750</td>\n",
       "      <td>673525</td>\n",
       "      <td>689225</td>\n",
       "    </tr>\n",
       "    <tr>\n",
       "      <th>55</th>\n",
       "      <td>7</td>\n",
       "      <td>福島県</td>\n",
       "      <td>大正</td>\n",
       "      <td>14</td>\n",
       "      <td>1925</td>\n",
       "      <td>1437596</td>\n",
       "      <td>710606</td>\n",
       "      <td>726990</td>\n",
       "    </tr>\n",
       "    <tr>\n",
       "      <th>103</th>\n",
       "      <td>7</td>\n",
       "      <td>福島県</td>\n",
       "      <td>昭和</td>\n",
       "      <td>5</td>\n",
       "      <td>1930</td>\n",
       "      <td>1508150</td>\n",
       "      <td>742342</td>\n",
       "      <td>765808</td>\n",
       "    </tr>\n",
       "    <tr>\n",
       "      <th>151</th>\n",
       "      <td>7</td>\n",
       "      <td>福島県</td>\n",
       "      <td>昭和</td>\n",
       "      <td>10</td>\n",
       "      <td>1935</td>\n",
       "      <td>1581563</td>\n",
       "      <td>778732</td>\n",
       "      <td>802831</td>\n",
       "    </tr>\n",
       "    <tr>\n",
       "      <th>199</th>\n",
       "      <td>7</td>\n",
       "      <td>福島県</td>\n",
       "      <td>昭和</td>\n",
       "      <td>15</td>\n",
       "      <td>1940</td>\n",
       "      <td>1625521</td>\n",
       "      <td>799788</td>\n",
       "      <td>825733</td>\n",
       "    </tr>\n",
       "    <tr>\n",
       "      <th>247</th>\n",
       "      <td>7</td>\n",
       "      <td>福島県</td>\n",
       "      <td>昭和</td>\n",
       "      <td>20</td>\n",
       "      <td>1945</td>\n",
       "      <td>1957356</td>\n",
       "      <td>906765</td>\n",
       "      <td>1050591</td>\n",
       "    </tr>\n",
       "    <tr>\n",
       "      <th>295</th>\n",
       "      <td>7</td>\n",
       "      <td>福島県</td>\n",
       "      <td>昭和</td>\n",
       "      <td>25</td>\n",
       "      <td>1950</td>\n",
       "      <td>2062394</td>\n",
       "      <td>1006823</td>\n",
       "      <td>1055571</td>\n",
       "    </tr>\n",
       "    <tr>\n",
       "      <th>343</th>\n",
       "      <td>7</td>\n",
       "      <td>福島県</td>\n",
       "      <td>昭和</td>\n",
       "      <td>30</td>\n",
       "      <td>1955</td>\n",
       "      <td>2095237</td>\n",
       "      <td>1016756</td>\n",
       "      <td>1078481</td>\n",
       "    </tr>\n",
       "    <tr>\n",
       "      <th>391</th>\n",
       "      <td>7</td>\n",
       "      <td>福島県</td>\n",
       "      <td>昭和</td>\n",
       "      <td>35</td>\n",
       "      <td>1960</td>\n",
       "      <td>2051137</td>\n",
       "      <td>986836</td>\n",
       "      <td>1064301</td>\n",
       "    </tr>\n",
       "    <tr>\n",
       "      <th>439</th>\n",
       "      <td>7</td>\n",
       "      <td>福島県</td>\n",
       "      <td>昭和</td>\n",
       "      <td>40</td>\n",
       "      <td>1965</td>\n",
       "      <td>1983754</td>\n",
       "      <td>954988</td>\n",
       "      <td>1028766</td>\n",
       "    </tr>\n",
       "    <tr>\n",
       "      <th>489</th>\n",
       "      <td>7</td>\n",
       "      <td>福島県</td>\n",
       "      <td>昭和</td>\n",
       "      <td>45</td>\n",
       "      <td>1970</td>\n",
       "      <td>1946077</td>\n",
       "      <td>936202</td>\n",
       "      <td>1009875</td>\n",
       "    </tr>\n",
       "    <tr>\n",
       "      <th>539</th>\n",
       "      <td>7</td>\n",
       "      <td>福島県</td>\n",
       "      <td>昭和</td>\n",
       "      <td>50</td>\n",
       "      <td>1975</td>\n",
       "      <td>1970616</td>\n",
       "      <td>953449</td>\n",
       "      <td>1017167</td>\n",
       "    </tr>\n",
       "    <tr>\n",
       "      <th>589</th>\n",
       "      <td>7</td>\n",
       "      <td>福島県</td>\n",
       "      <td>昭和</td>\n",
       "      <td>55</td>\n",
       "      <td>1980</td>\n",
       "      <td>2035272</td>\n",
       "      <td>990575</td>\n",
       "      <td>1044697</td>\n",
       "    </tr>\n",
       "    <tr>\n",
       "      <th>639</th>\n",
       "      <td>7</td>\n",
       "      <td>福島県</td>\n",
       "      <td>昭和</td>\n",
       "      <td>60</td>\n",
       "      <td>1985</td>\n",
       "      <td>2080304</td>\n",
       "      <td>1012456</td>\n",
       "      <td>1067848</td>\n",
       "    </tr>\n",
       "    <tr>\n",
       "      <th>689</th>\n",
       "      <td>7</td>\n",
       "      <td>福島県</td>\n",
       "      <td>平成</td>\n",
       "      <td>2</td>\n",
       "      <td>1990</td>\n",
       "      <td>2104058</td>\n",
       "      <td>1024354</td>\n",
       "      <td>1079704</td>\n",
       "    </tr>\n",
       "    <tr>\n",
       "      <th>739</th>\n",
       "      <td>7</td>\n",
       "      <td>福島県</td>\n",
       "      <td>平成</td>\n",
       "      <td>7</td>\n",
       "      <td>1995</td>\n",
       "      <td>2133592</td>\n",
       "      <td>1042030</td>\n",
       "      <td>1091562</td>\n",
       "    </tr>\n",
       "    <tr>\n",
       "      <th>789</th>\n",
       "      <td>7</td>\n",
       "      <td>福島県</td>\n",
       "      <td>平成</td>\n",
       "      <td>12</td>\n",
       "      <td>2000</td>\n",
       "      <td>2126935</td>\n",
       "      <td>1037787</td>\n",
       "      <td>1089148</td>\n",
       "    </tr>\n",
       "    <tr>\n",
       "      <th>839</th>\n",
       "      <td>7</td>\n",
       "      <td>福島県</td>\n",
       "      <td>平成</td>\n",
       "      <td>17</td>\n",
       "      <td>2005</td>\n",
       "      <td>2091319</td>\n",
       "      <td>1016724</td>\n",
       "      <td>1074595</td>\n",
       "    </tr>\n",
       "    <tr>\n",
       "      <th>889</th>\n",
       "      <td>7</td>\n",
       "      <td>福島県</td>\n",
       "      <td>平成</td>\n",
       "      <td>22</td>\n",
       "      <td>2010</td>\n",
       "      <td>2029064</td>\n",
       "      <td>984682</td>\n",
       "      <td>1044382</td>\n",
       "    </tr>\n",
       "    <tr>\n",
       "      <th>939</th>\n",
       "      <td>7</td>\n",
       "      <td>福島県</td>\n",
       "      <td>平成</td>\n",
       "      <td>27</td>\n",
       "      <td>2015</td>\n",
       "      <td>1914039</td>\n",
       "      <td>945660</td>\n",
       "      <td>968379</td>\n",
       "    </tr>\n",
       "  </tbody>\n",
       "</table>\n",
       "</div>"
      ],
      "text/plain": [
       "    都道府県コード 都道府県名  元号  和暦（年）  西暦（年）   人口（総数）    人口（男）    人口（女）\n",
       "7         7   福島県  大正      9   1920  1362750   673525   689225\n",
       "55        7   福島県  大正     14   1925  1437596   710606   726990\n",
       "103       7   福島県  昭和      5   1930  1508150   742342   765808\n",
       "151       7   福島県  昭和     10   1935  1581563   778732   802831\n",
       "199       7   福島県  昭和     15   1940  1625521   799788   825733\n",
       "247       7   福島県  昭和     20   1945  1957356   906765  1050591\n",
       "295       7   福島県  昭和     25   1950  2062394  1006823  1055571\n",
       "343       7   福島県  昭和     30   1955  2095237  1016756  1078481\n",
       "391       7   福島県  昭和     35   1960  2051137   986836  1064301\n",
       "439       7   福島県  昭和     40   1965  1983754   954988  1028766\n",
       "489       7   福島県  昭和     45   1970  1946077   936202  1009875\n",
       "539       7   福島県  昭和     50   1975  1970616   953449  1017167\n",
       "589       7   福島県  昭和     55   1980  2035272   990575  1044697\n",
       "639       7   福島県  昭和     60   1985  2080304  1012456  1067848\n",
       "689       7   福島県  平成      2   1990  2104058  1024354  1079704\n",
       "739       7   福島県  平成      7   1995  2133592  1042030  1091562\n",
       "789       7   福島県  平成     12   2000  2126935  1037787  1089148\n",
       "839       7   福島県  平成     17   2005  2091319  1016724  1074595\n",
       "889       7   福島県  平成     22   2010  2029064   984682  1044382\n",
       "939       7   福島県  平成     27   2015  1914039   945660   968379"
      ]
     },
     "execution_count": 104,
     "metadata": {},
     "output_type": "execute_result"
    }
   ],
   "source": [
    "df_fukushima = df_2[df_2['都道府県名'] == '福島県']\n",
    "df_fukushima"
   ]
  },
  {
   "cell_type": "code",
   "execution_count": null,
   "metadata": {},
   "outputs": [],
   "source": []
  },
  {
   "cell_type": "code",
   "execution_count": 105,
   "metadata": {},
   "outputs": [
    {
     "data": {
      "text/html": [
       "<div>\n",
       "<style scoped>\n",
       "    .dataframe tbody tr th:only-of-type {\n",
       "        vertical-align: middle;\n",
       "    }\n",
       "\n",
       "    .dataframe tbody tr th {\n",
       "        vertical-align: top;\n",
       "    }\n",
       "\n",
       "    .dataframe thead th {\n",
       "        text-align: right;\n",
       "    }\n",
       "</style>\n",
       "<table border=\"1\" class=\"dataframe\">\n",
       "  <thead>\n",
       "    <tr style=\"text-align: right;\">\n",
       "      <th></th>\n",
       "      <th>和暦（年）</th>\n",
       "      <th>西暦（年）</th>\n",
       "      <th>人口（総数）</th>\n",
       "      <th>人口（男）</th>\n",
       "      <th>人口（女）</th>\n",
       "    </tr>\n",
       "  </thead>\n",
       "  <tbody>\n",
       "    <tr>\n",
       "      <th>count</th>\n",
       "      <td>20.000000</td>\n",
       "      <td>20.000000</td>\n",
       "      <td>2.000000e+01</td>\n",
       "      <td>2.000000e+01</td>\n",
       "      <td>2.000000e+01</td>\n",
       "    </tr>\n",
       "    <tr>\n",
       "      <th>mean</th>\n",
       "      <td>25.000000</td>\n",
       "      <td>1967.500000</td>\n",
       "      <td>1.904837e+06</td>\n",
       "      <td>9.260540e+05</td>\n",
       "      <td>9.787827e+05</td>\n",
       "    </tr>\n",
       "    <tr>\n",
       "      <th>std</th>\n",
       "      <td>17.359966</td>\n",
       "      <td>29.580399</td>\n",
       "      <td>2.501568e+05</td>\n",
       "      <td>1.172855e+05</td>\n",
       "      <td>1.340037e+05</td>\n",
       "    </tr>\n",
       "    <tr>\n",
       "      <th>min</th>\n",
       "      <td>2.000000</td>\n",
       "      <td>1920.000000</td>\n",
       "      <td>1.362750e+06</td>\n",
       "      <td>6.735250e+05</td>\n",
       "      <td>6.892250e+05</td>\n",
       "    </tr>\n",
       "    <tr>\n",
       "      <th>25%</th>\n",
       "      <td>11.500000</td>\n",
       "      <td>1943.750000</td>\n",
       "      <td>1.841910e+06</td>\n",
       "      <td>8.800208e+05</td>\n",
       "      <td>9.327175e+05</td>\n",
       "    </tr>\n",
       "    <tr>\n",
       "      <th>50%</th>\n",
       "      <td>21.000000</td>\n",
       "      <td>1967.500000</td>\n",
       "      <td>2.006409e+06</td>\n",
       "      <td>9.698350e+05</td>\n",
       "      <td>1.044540e+06</td>\n",
       "    </tr>\n",
       "    <tr>\n",
       "      <th>75%</th>\n",
       "      <td>36.250000</td>\n",
       "      <td>1991.250000</td>\n",
       "      <td>2.083058e+06</td>\n",
       "      <td>1.013523e+06</td>\n",
       "      <td>1.069535e+06</td>\n",
       "    </tr>\n",
       "    <tr>\n",
       "      <th>max</th>\n",
       "      <td>60.000000</td>\n",
       "      <td>2015.000000</td>\n",
       "      <td>2.133592e+06</td>\n",
       "      <td>1.042030e+06</td>\n",
       "      <td>1.091562e+06</td>\n",
       "    </tr>\n",
       "  </tbody>\n",
       "</table>\n",
       "</div>"
      ],
      "text/plain": [
       "           和暦（年）        西暦（年）        人口（総数）         人口（男）         人口（女）\n",
       "count  20.000000    20.000000  2.000000e+01  2.000000e+01  2.000000e+01\n",
       "mean   25.000000  1967.500000  1.904837e+06  9.260540e+05  9.787827e+05\n",
       "std    17.359966    29.580399  2.501568e+05  1.172855e+05  1.340037e+05\n",
       "min     2.000000  1920.000000  1.362750e+06  6.735250e+05  6.892250e+05\n",
       "25%    11.500000  1943.750000  1.841910e+06  8.800208e+05  9.327175e+05\n",
       "50%    21.000000  1967.500000  2.006409e+06  9.698350e+05  1.044540e+06\n",
       "75%    36.250000  1991.250000  2.083058e+06  1.013523e+06  1.069535e+06\n",
       "max    60.000000  2015.000000  2.133592e+06  1.042030e+06  1.091562e+06"
      ]
     },
     "execution_count": 105,
     "metadata": {},
     "output_type": "execute_result"
    }
   ],
   "source": [
    "df_fukushima.describe()"
   ]
  },
  {
   "cell_type": "markdown",
   "metadata": {},
   "source": [
    "### 視覚的にわかりやすくする　-> Matplotlibでグラフ描画"
   ]
  },
  {
   "cell_type": "code",
   "execution_count": 107,
   "metadata": {},
   "outputs": [],
   "source": [
    "import matplotlib.pyplot as plt"
   ]
  },
  {
   "cell_type": "code",
   "execution_count": 111,
   "metadata": {},
   "outputs": [
    {
     "data": {
      "image/png": "[encoded data removed]",
      "text/plain": [
       "<Figure size 432x288 with 1 Axes>"
      ]
     },
     "metadata": {
      "needs_background": "light"
     },
     "output_type": "display_data"
    }
   ],
   "source": [
    "plt.plot( df_fukushima['西暦（年）'],df_fukushima['人口（総数）'])\n",
    "plt.show()"
   ]
  },
  {
   "cell_type": "code",
   "execution_count": 112,
   "metadata": {},
   "outputs": [
    {
     "data": {
      "image/png": "[encoded data removed]",
      "text/plain": [
       "<Figure size 432x288 with 1 Axes>"
      ]
     },
     "metadata": {
      "needs_background": "light"
     },
     "output_type": "display_data"
    }
   ],
   "source": [
    "plt.plot(df_2[df_2['都道府県名'] == '山形県']['西暦（年）'],df_2[df_2['都道府県名'] == '山形県']['人口（総数）'])\n",
    "plt.show()"
   ]
  },
  {
   "cell_type": "markdown",
   "metadata": {},
   "source": [
    "２回ブロット"
   ]
  },
  {
   "cell_type": "code",
   "execution_count": 113,
   "metadata": {},
   "outputs": [
    {
     "data": {
      "image/png": "[encoded data removed]",
      "text/plain": [
       "<Figure size 432x288 with 1 Axes>"
      ]
     },
     "metadata": {
      "needs_background": "light"
     },
     "output_type": "display_data"
    }
   ],
   "source": [
    "plt.plot( df_fukushima['西暦（年）'],df_fukushima['人口（総数）'])\n",
    "plt.plot(df_2[df_2['都道府県名'] == '山形県']['西暦（年）'],df_2[df_2['都道府県名'] == '山形県']['人口（総数）'])\n",
    "plt.show()"
   ]
  },
  {
   "cell_type": "code",
   "execution_count": 115,
   "metadata": {},
   "outputs": [
    {
     "data": {
      "image/png": "[encoded data removed]",
      "text/plain": [
       "<Figure size 432x288 with 1 Axes>"
      ]
     },
     "metadata": {
      "needs_background": "light"
     },
     "output_type": "display_data"
    }
   ],
   "source": [
    "plt.plot( df_fukushima['西暦（年）'],df_fukushima['人口（総数）'],label='fukushima')\n",
    "plt.plot(df_2[df_2['都道府県名'] == '山形県']['西暦（年）'],df_2[df_2['都道府県名'] == '山形県']['人口（総数）'],label='yamagata')\n",
    "plt.legend()#凡例\n",
    "plt.show()"
   ]
  },
  {
   "cell_type": "code",
   "execution_count": 117,
   "metadata": {},
   "outputs": [
    {
     "data": {
      "image/png": "[encoded data removed]",
      "text/plain": [
       "<Figure size 432x288 with 1 Axes>"
      ]
     },
     "metadata": {
      "needs_background": "light"
     },
     "output_type": "display_data"
    }
   ],
   "source": [
    "plt.plot( df_fukushima['西暦（年）'],df_fukushima['人口（総数）'],label='fukushima',color='green')\n",
    "plt.plot(df_2[df_2['都道府県名'] == '山形県']['西暦（年）'],df_2[df_2['都道府県名'] == '山形県']['人口（総数）'],label='yamagata',color='blue')\n",
    "plt.legend()#凡例\n",
    "plt.show()"
   ]
  },
  {
   "cell_type": "markdown",
   "metadata": {},
   "source": [
    "形は似ているが福島県の方が人口は多い、\n",
    "傾きは福島県の方が大きい"
   ]
  },
  {
   "cell_type": "markdown",
   "metadata": {},
   "source": [
    "## 微分 偏微分:sympy"
   ]
  },
  {
   "cell_type": "code",
   "execution_count": 119,
   "metadata": {},
   "outputs": [],
   "source": [
    "import sympy"
   ]
  },
  {
   "cell_type": "markdown",
   "metadata": {},
   "source": [
    "### 微分\n",
    "機械学習\n",
    "予測・分析・クラスタリング\n",
    "予測　家の条件　広さ　駅からの距離　-> 家賃\n",
    "\n",
    "誤差　最小化 = 傾きが0\n",
    "グラフ　式\n",
    "y = x^2\n",
    "y' = 2x = 0 になるようなxが誤差最小の条件"
   ]
  },
  {
   "cell_type": "code",
   "execution_count": 126,
   "metadata": {},
   "outputs": [
    {
     "data": {
      "text/plain": [
       "7           NaN\n",
       "55      74846.0\n",
       "103     70554.0\n",
       "151     73413.0\n",
       "199     43958.0\n",
       "247    331835.0\n",
       "295    105038.0\n",
       "343     32843.0\n",
       "391    -44100.0\n",
       "439    -67383.0\n",
       "489    -37677.0\n",
       "539     24539.0\n",
       "589     64656.0\n",
       "639     45032.0\n",
       "689     23754.0\n",
       "739     29534.0\n",
       "789     -6657.0\n",
       "839    -35616.0\n",
       "889    -62255.0\n",
       "939   -115025.0\n",
       "Name: 人口（総数）, dtype: float64"
      ]
     },
     "execution_count": 126,
     "metadata": {},
     "output_type": "execute_result"
    }
   ],
   "source": [
    "sympy.diff(df_fukushima['人口（総数）'])"
   ]
  },
  {
   "cell_type": "code",
   "execution_count": null,
   "metadata": {},
   "outputs": [],
   "source": []
  },
  {
   "cell_type": "code",
   "execution_count": 134,
   "metadata": {},
   "outputs": [
    {
     "data": {
      "text/html": [
       "<div>\n",
       "<style scoped>\n",
       "    .dataframe tbody tr th:only-of-type {\n",
       "        vertical-align: middle;\n",
       "    }\n",
       "\n",
       "    .dataframe tbody tr th {\n",
       "        vertical-align: top;\n",
       "    }\n",
       "\n",
       "    .dataframe thead th {\n",
       "        text-align: right;\n",
       "    }\n",
       "</style>\n",
       "<table border=\"1\" class=\"dataframe\">\n",
       "  <thead>\n",
       "    <tr style=\"text-align: right;\">\n",
       "      <th></th>\n",
       "      <th>人口（総数）</th>\n",
       "    </tr>\n",
       "  </thead>\n",
       "  <tbody>\n",
       "    <tr>\n",
       "      <th>7</th>\n",
       "      <td>NaN</td>\n",
       "    </tr>\n",
       "    <tr>\n",
       "      <th>55</th>\n",
       "      <td>74846.0</td>\n",
       "    </tr>\n",
       "    <tr>\n",
       "      <th>103</th>\n",
       "      <td>70554.0</td>\n",
       "    </tr>\n",
       "    <tr>\n",
       "      <th>151</th>\n",
       "      <td>73413.0</td>\n",
       "    </tr>\n",
       "    <tr>\n",
       "      <th>199</th>\n",
       "      <td>43958.0</td>\n",
       "    </tr>\n",
       "    <tr>\n",
       "      <th>247</th>\n",
       "      <td>331835.0</td>\n",
       "    </tr>\n",
       "    <tr>\n",
       "      <th>295</th>\n",
       "      <td>105038.0</td>\n",
       "    </tr>\n",
       "    <tr>\n",
       "      <th>343</th>\n",
       "      <td>32843.0</td>\n",
       "    </tr>\n",
       "    <tr>\n",
       "      <th>391</th>\n",
       "      <td>-44100.0</td>\n",
       "    </tr>\n",
       "    <tr>\n",
       "      <th>439</th>\n",
       "      <td>-67383.0</td>\n",
       "    </tr>\n",
       "    <tr>\n",
       "      <th>489</th>\n",
       "      <td>-37677.0</td>\n",
       "    </tr>\n",
       "    <tr>\n",
       "      <th>539</th>\n",
       "      <td>24539.0</td>\n",
       "    </tr>\n",
       "    <tr>\n",
       "      <th>589</th>\n",
       "      <td>64656.0</td>\n",
       "    </tr>\n",
       "    <tr>\n",
       "      <th>639</th>\n",
       "      <td>45032.0</td>\n",
       "    </tr>\n",
       "    <tr>\n",
       "      <th>689</th>\n",
       "      <td>23754.0</td>\n",
       "    </tr>\n",
       "    <tr>\n",
       "      <th>739</th>\n",
       "      <td>29534.0</td>\n",
       "    </tr>\n",
       "    <tr>\n",
       "      <th>789</th>\n",
       "      <td>-6657.0</td>\n",
       "    </tr>\n",
       "    <tr>\n",
       "      <th>839</th>\n",
       "      <td>-35616.0</td>\n",
       "    </tr>\n",
       "    <tr>\n",
       "      <th>889</th>\n",
       "      <td>-62255.0</td>\n",
       "    </tr>\n",
       "    <tr>\n",
       "      <th>939</th>\n",
       "      <td>-115025.0</td>\n",
       "    </tr>\n",
       "  </tbody>\n",
       "</table>\n",
       "</div>"
      ],
      "text/plain": [
       "       人口（総数）\n",
       "7         NaN\n",
       "55    74846.0\n",
       "103   70554.0\n",
       "151   73413.0\n",
       "199   43958.0\n",
       "247  331835.0\n",
       "295  105038.0\n",
       "343   32843.0\n",
       "391  -44100.0\n",
       "439  -67383.0\n",
       "489  -37677.0\n",
       "539   24539.0\n",
       "589   64656.0\n",
       "639   45032.0\n",
       "689   23754.0\n",
       "739   29534.0\n",
       "789   -6657.0\n",
       "839  -35616.0\n",
       "889  -62255.0\n",
       "939 -115025.0"
      ]
     },
     "execution_count": 134,
     "metadata": {},
     "output_type": "execute_result"
    }
   ],
   "source": [
    "\n",
    "pd.DataFrame(sympy.diff(df_fukushima['人口（総数）']))"
   ]
  },
  {
   "cell_type": "code",
   "execution_count": 138,
   "metadata": {},
   "outputs": [
    {
     "data": {
      "image/png": "[encoded data removed]",
      "text/plain": [
       "<Figure size 432x288 with 1 Axes>"
      ]
     },
     "metadata": {
      "needs_background": "light"
     },
     "output_type": "display_data"
    }
   ],
   "source": [
    "plt.plot( df_fukushima['西暦（年）'],sympy.diff(df_fukushima['人口（総数）']))\n",
    "plt.show()"
   ]
  },
  {
   "cell_type": "code",
   "execution_count": 141,
   "metadata": {},
   "outputs": [
    {
     "data": {
      "image/png": "[encoded data removed]",
      "text/plain": [
       "<Figure size 432x288 with 1 Axes>"
      ]
     },
     "metadata": {
      "needs_background": "light"
     },
     "output_type": "display_data"
    }
   ],
   "source": [
    "plt.plot( df_fukushima['西暦（年）'],sympy.diff(df_fukushima['人口（総数）']),label='fukushima',color='green')\n",
    "plt.plot(df_2[df_2['都道府県名'] == '山形県']['西暦（年）'],sympy.diff(df_2[df_2['都道府県名'] == '山形県']['人口（総数）']),label='yamagata',color='blue')\n",
    "plt.legend()#凡例\n",
    "plt.show()"
   ]
  },
  {
   "cell_type": "code",
   "execution_count": 132,
   "metadata": {},
   "outputs": [
    {
     "data": {
      "text/latex": [
       "$\\displaystyle 3 x^{2} + 6 x$"
      ],
      "text/plain": [
       "3*x**2 + 6*x"
      ]
     },
     "execution_count": 132,
     "metadata": {},
     "output_type": "execute_result"
    }
   ],
   "source": [
    "x = sympy.Symbol('x')#数学的な変数\n",
    "sympy.diff(x**3 + 3*x**2 + 4)"
   ]
  },
  {
   "cell_type": "markdown",
   "metadata": {},
   "source": [
    "### 偏微分\n",
    "多変数関数において1変数についての微分"
   ]
  },
  {
   "cell_type": "code",
   "execution_count": 149,
   "metadata": {},
   "outputs": [],
   "source": [
    "z = sympy.Symbol('z')"
   ]
  },
  {
   "cell_type": "code",
   "execution_count": 150,
   "metadata": {},
   "outputs": [
    {
     "ename": "ValueError",
     "evalue": "\nSince there is more than one variable in the expression, the\nvariable(s) of differentiation must be supplied to differentiate x**3\n+ 2*x**2*z + 2*z + 4",
     "output_type": "error",
     "traceback": [
      "\u001b[0;31m---------------------------------------------------------------------------\u001b[0m",
      "\u001b[0;31mValueError\u001b[0m                                Traceback (most recent call last)",
      "\u001b[0;32m<ipython-input-150-5cd4738d1261>\u001b[0m in \u001b[0;36m<module>\u001b[0;34m\u001b[0m\n\u001b[0;32m----> 1\u001b[0;31m \u001b[0msympy\u001b[0m\u001b[0;34m.\u001b[0m\u001b[0mdiff\u001b[0m\u001b[0;34m(\u001b[0m\u001b[0mx\u001b[0m\u001b[0;34m**\u001b[0m\u001b[0;36m3\u001b[0m \u001b[0;34m+\u001b[0m \u001b[0;36m2\u001b[0m\u001b[0;34m*\u001b[0m\u001b[0mz\u001b[0m\u001b[0;34m*\u001b[0m\u001b[0mx\u001b[0m\u001b[0;34m**\u001b[0m\u001b[0;36m2\u001b[0m \u001b[0;34m+\u001b[0m \u001b[0;36m4\u001b[0m \u001b[0;34m+\u001b[0m \u001b[0;36m2\u001b[0m\u001b[0;34m*\u001b[0m\u001b[0mz\u001b[0m \u001b[0;34m)\u001b[0m\u001b[0;34m\u001b[0m\u001b[0;34m\u001b[0m\u001b[0m\n\u001b[0m",
      "\u001b[0;32m/opt/anaconda3/lib/python3.7/site-packages/sympy/core/function.py\u001b[0m in \u001b[0;36mdiff\u001b[0;34m(f, *symbols, **kwargs)\u001b[0m\n\u001b[1;32m   2444\u001b[0m     \"\"\"\n\u001b[1;32m   2445\u001b[0m     \u001b[0;32mif\u001b[0m \u001b[0mhasattr\u001b[0m\u001b[0;34m(\u001b[0m\u001b[0mf\u001b[0m\u001b[0;34m,\u001b[0m \u001b[0;34m'diff'\u001b[0m\u001b[0;34m)\u001b[0m\u001b[0;34m:\u001b[0m\u001b[0;34m\u001b[0m\u001b[0;34m\u001b[0m\u001b[0m\n\u001b[0;32m-> 2446\u001b[0;31m         \u001b[0;32mreturn\u001b[0m \u001b[0mf\u001b[0m\u001b[0;34m.\u001b[0m\u001b[0mdiff\u001b[0m\u001b[0;34m(\u001b[0m\u001b[0;34m*\u001b[0m\u001b[0msymbols\u001b[0m\u001b[0;34m,\u001b[0m \u001b[0;34m**\u001b[0m\u001b[0mkwargs\u001b[0m\u001b[0;34m)\u001b[0m\u001b[0;34m\u001b[0m\u001b[0;34m\u001b[0m\u001b[0m\n\u001b[0m\u001b[1;32m   2447\u001b[0m     \u001b[0mkwargs\u001b[0m\u001b[0;34m.\u001b[0m\u001b[0msetdefault\u001b[0m\u001b[0;34m(\u001b[0m\u001b[0;34m'evaluate'\u001b[0m\u001b[0;34m,\u001b[0m \u001b[0;32mTrue\u001b[0m\u001b[0;34m)\u001b[0m\u001b[0;34m\u001b[0m\u001b[0;34m\u001b[0m\u001b[0m\n\u001b[1;32m   2448\u001b[0m     \u001b[0;32mreturn\u001b[0m \u001b[0mDerivative\u001b[0m\u001b[0;34m(\u001b[0m\u001b[0mf\u001b[0m\u001b[0;34m,\u001b[0m \u001b[0;34m*\u001b[0m\u001b[0msymbols\u001b[0m\u001b[0;34m,\u001b[0m \u001b[0;34m**\u001b[0m\u001b[0mkwargs\u001b[0m\u001b[0;34m)\u001b[0m\u001b[0;34m\u001b[0m\u001b[0;34m\u001b[0m\u001b[0m\n",
      "\u001b[0;32m/opt/anaconda3/lib/python3.7/site-packages/sympy/core/expr.py\u001b[0m in \u001b[0;36mdiff\u001b[0;34m(self, *symbols, **assumptions)\u001b[0m\n\u001b[1;32m   3350\u001b[0m     \u001b[0;32mdef\u001b[0m \u001b[0mdiff\u001b[0m\u001b[0;34m(\u001b[0m\u001b[0mself\u001b[0m\u001b[0;34m,\u001b[0m \u001b[0;34m*\u001b[0m\u001b[0msymbols\u001b[0m\u001b[0;34m,\u001b[0m \u001b[0;34m**\u001b[0m\u001b[0massumptions\u001b[0m\u001b[0;34m)\u001b[0m\u001b[0;34m:\u001b[0m\u001b[0;34m\u001b[0m\u001b[0;34m\u001b[0m\u001b[0m\n\u001b[1;32m   3351\u001b[0m         \u001b[0massumptions\u001b[0m\u001b[0;34m.\u001b[0m\u001b[0msetdefault\u001b[0m\u001b[0;34m(\u001b[0m\u001b[0;34m\"evaluate\"\u001b[0m\u001b[0;34m,\u001b[0m \u001b[0;32mTrue\u001b[0m\u001b[0;34m)\u001b[0m\u001b[0;34m\u001b[0m\u001b[0;34m\u001b[0m\u001b[0m\n\u001b[0;32m-> 3352\u001b[0;31m         \u001b[0;32mreturn\u001b[0m \u001b[0mDerivative\u001b[0m\u001b[0;34m(\u001b[0m\u001b[0mself\u001b[0m\u001b[0;34m,\u001b[0m \u001b[0;34m*\u001b[0m\u001b[0msymbols\u001b[0m\u001b[0;34m,\u001b[0m \u001b[0;34m**\u001b[0m\u001b[0massumptions\u001b[0m\u001b[0;34m)\u001b[0m\u001b[0;34m\u001b[0m\u001b[0;34m\u001b[0m\u001b[0m\n\u001b[0m\u001b[1;32m   3353\u001b[0m \u001b[0;34m\u001b[0m\u001b[0m\n\u001b[1;32m   3354\u001b[0m     \u001b[0;31m###########################################################################\u001b[0m\u001b[0;34m\u001b[0m\u001b[0;34m\u001b[0m\u001b[0;34m\u001b[0m\u001b[0m\n",
      "\u001b[0;32m/opt/anaconda3/lib/python3.7/site-packages/sympy/core/function.py\u001b[0m in \u001b[0;36m__new__\u001b[0;34m(cls, expr, *variables, **kwargs)\u001b[0m\n\u001b[1;32m   1265\u001b[0m                         \u001b[0mSince\u001b[0m \u001b[0mthere\u001b[0m \u001b[0;32mis\u001b[0m \u001b[0mmore\u001b[0m \u001b[0mthan\u001b[0m \u001b[0mone\u001b[0m \u001b[0mvariable\u001b[0m \u001b[0;32min\u001b[0m \u001b[0mthe\u001b[0m\u001b[0;34m\u001b[0m\u001b[0;34m\u001b[0m\u001b[0m\n\u001b[1;32m   1266\u001b[0m                         \u001b[0mexpression\u001b[0m\u001b[0;34m,\u001b[0m \u001b[0mthe\u001b[0m \u001b[0mvariable\u001b[0m\u001b[0;34m(\u001b[0m\u001b[0ms\u001b[0m\u001b[0;34m)\u001b[0m \u001b[0mof\u001b[0m \u001b[0mdifferentiation\u001b[0m\u001b[0;34m\u001b[0m\u001b[0;34m\u001b[0m\u001b[0m\n\u001b[0;32m-> 1267\u001b[0;31m                         must be supplied to differentiate %s''' % expr))\n\u001b[0m\u001b[1;32m   1268\u001b[0m \u001b[0;34m\u001b[0m\u001b[0m\n\u001b[1;32m   1269\u001b[0m         \u001b[0;31m# Standardize the variables by sympifying them:\u001b[0m\u001b[0;34m\u001b[0m\u001b[0;34m\u001b[0m\u001b[0;34m\u001b[0m\u001b[0m\n",
      "\u001b[0;31mValueError\u001b[0m: \nSince there is more than one variable in the expression, the\nvariable(s) of differentiation must be supplied to differentiate x**3\n+ 2*x**2*z + 2*z + 4"
     ]
    }
   ],
   "source": [
    "sympy.diff(x**3 + 2*z*x**2 + 4 + 2*z )"
   ]
  },
  {
   "cell_type": "markdown",
   "metadata": {},
   "source": [
    "何の変数に対して偏微分するか"
   ]
  },
  {
   "cell_type": "code",
   "execution_count": 151,
   "metadata": {},
   "outputs": [
    {
     "data": {
      "text/latex": [
       "$\\displaystyle 3 x^{2} + 4 x z$"
      ],
      "text/plain": [
       "3*x**2 + 4*x*z"
      ]
     },
     "execution_count": 151,
     "metadata": {},
     "output_type": "execute_result"
    }
   ],
   "source": [
    "sympy.diff(x**3 + 2*z*x**2 + 4 + 2*z, x)#xについての偏微分"
   ]
  },
  {
   "cell_type": "code",
   "execution_count": null,
   "metadata": {},
   "outputs": [],
   "source": []
  }
 ],
 "metadata": {
  "kernelspec": {
   "display_name": "Python 3",
   "language": "python",
   "name": "python3"
  },
  "language_info": {
   "codemirror_mode": {
    "name": "ipython",
    "version": 3
   },
   "file_extension": ".py",
   "mimetype": "text/x-python",
   "name": "python",
   "nbconvert_exporter": "python",
   "pygments_lexer": "ipython3",
   "version": "3.7.6"
  }
 },
 "nbformat": 4,
 "nbformat_minor": 4
}
